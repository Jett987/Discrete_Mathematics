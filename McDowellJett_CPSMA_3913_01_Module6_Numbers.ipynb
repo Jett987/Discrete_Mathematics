{
  "nbformat": 4,
  "nbformat_minor": 0,
  "metadata": {
    "colab": {
      "provenance": [],
      "include_colab_link": true
    },
    "kernelspec": {
      "name": "python3",
      "display_name": "Python 3"
    }
  },
  "cells": [
    {
      "cell_type": "markdown",
      "metadata": {
        "id": "view-in-github",
        "colab_type": "text"
      },
      "source": [
        "<a href=\"https://colab.research.google.com/github/Jett987/Discrete_Mathematics/blob/main/McDowellJett_CPSMA_3913_01_Module6_Numbers.ipynb\" target=\"_parent\"><img src=\"https://colab.research.google.com/assets/colab-badge.svg\" alt=\"Open In Colab\"/></a>"
      ]
    },
    {
      "cell_type": "markdown",
      "source": [
        "Project Part # 6 : CPSMA 3913 Dr. Lynam's Discrete Mathematics Project Part#6\n",
        "Jett McDowell\n",
        "(all coding was referenced from Dr. Jacob's github Discrete_Math python repository.)"
      ],
      "metadata": {
        "id": "OMYkRfurpd8o"
      }
    },
    {
      "cell_type": "markdown",
      "metadata": {
        "id": "YCJaepmmfKrS"
      },
      "source": [
        "# Project Part # 6: CPSMA 3913 Dr. Lynam's Discrete Mathematics utilizing [Dr. Jacob's](https://github.com/nurfnick) Discrete Mathematics github repository\n",
        "\n",
        "## Project Module 6: Numbers\n",
        "\n",
        "### Jett McDowell  206812 \n",
        "\n",
        "![Tree.jpg photo courtesy: Microsoft Word picture stock images](https://raw.githubusercontent.com/Jett987/Discrete_Mathematics/main/Electronics%20Chip.jpg)\n",
        "\n",
        "(Picture Credit: Microsoft Word Picture Stock Images)\n",
        "\n"
      ]
    },
    {
      "cell_type": "markdown",
      "source": [
        "##The answers from section $2$ are answered throughout the document. \n",
        "\n",
        "$2a.$ Describe your findings in words."
      ],
      "metadata": {
        "id": "v5rlQxPmgvIV"
      }
    },
    {
      "cell_type": "markdown",
      "metadata": {
        "id": "Xs_Pvtua1Nnt"
      },
      "source": [
        "## 1.) Compute using modulo arithmetic"
      ]
    },
    {
      "cell_type": "markdown",
      "source": [
        "###part a.)Convert the number  $24036_7$ into base ten. "
      ],
      "metadata": {
        "id": "TwYUzHlxlpk8"
      }
    },
    {
      "cell_type": "markdown",
      "source": [
        "When converting $24036_7$ into base ten, I considered the following: \n",
        "\n",
        "\n",
        "$(2*7^4)+(4*7^3)+(0*7^2)+(3*7^1)+(6*7^0)=6201$\n",
        "\n",
        "\n",
        "I decided to use the built-in function to come to the same result. "
      ],
      "metadata": {
        "id": "HMCq9zg9LuFm"
      }
    },
    {
      "cell_type": "code",
      "source": [
        "int('24036',7)"
      ],
      "metadata": {
        "colab": {
          "base_uri": "https://localhost:8080/"
        },
        "id": "2y1Y1JTb56Dx",
        "outputId": "e13e72c9-a390-4011-a370-7715adcab088"
      },
      "execution_count": 11,
      "outputs": [
        {
          "output_type": "execute_result",
          "data": {
            "text/plain": [
              "6201"
            ]
          },
          "metadata": {},
          "execution_count": 11
        }
      ]
    },
    {
      "cell_type": "markdown",
      "source": [
        "###part b.) Convert the hexadecimal number 72e3 or 0x72e3 into base ten.  "
      ],
      "metadata": {
        "id": "23IcIXh2dXwq"
      }
    },
    {
      "cell_type": "markdown",
      "source": [
        "I computed 72e3 similarly. \n",
        "\n",
        "By hand I could compute it: \n",
        "\n",
        "$(7*16^3)+(2*16^2)+(14*16^1)+(3*16^0)=29411$\n",
        "\n",
        "I also chose to use the built-in to calculate this result. "
      ],
      "metadata": {
        "id": "77nDhPm0MXiN"
      }
    },
    {
      "cell_type": "code",
      "source": [
        "int('0x72e3',16)"
      ],
      "metadata": {
        "colab": {
          "base_uri": "https://localhost:8080/"
        },
        "id": "-G28lCuv5ixn",
        "outputId": "c0a86617-d4d1-43f9-c483-5c5c559e2fb9"
      },
      "execution_count": 12,
      "outputs": [
        {
          "output_type": "execute_result",
          "data": {
            "text/plain": [
              "29411"
            ]
          },
          "metadata": {},
          "execution_count": 12
        }
      ]
    },
    {
      "cell_type": "markdown",
      "source": [
        "###Part c.) Convert 3735928559 into hexadecimal. "
      ],
      "metadata": {
        "id": "1u_ZDtfl6ED7"
      }
    },
    {
      "cell_type": "markdown",
      "source": [
        "Now, I will convert 3735928559 into hexadecimal. It's important to remember $a=10, b=11,c=12,d=13,e=14,f=15$. I will break each section down by doing the following: \n",
        "\n"
      ],
      "metadata": {
        "id": "zDfzlW_4OMML"
      }
    },
    {
      "cell_type": "code",
      "source": [
        "from math import floor\n",
        "print(3735928559%16)\n",
        "floor(3735928559/16)"
      ],
      "metadata": {
        "colab": {
          "base_uri": "https://localhost:8080/"
        },
        "id": "die9KImHOC8x",
        "outputId": "ab98c3e2-f55c-4dc0-8293-3409e9277a13"
      },
      "execution_count": 13,
      "outputs": [
        {
          "output_type": "stream",
          "name": "stdout",
          "text": [
            "15\n"
          ]
        },
        {
          "output_type": "execute_result",
          "data": {
            "text/plain": [
              "233495534"
            ]
          },
          "metadata": {},
          "execution_count": 13
        }
      ]
    },
    {
      "cell_type": "markdown",
      "source": [
        "15, which is $f$. "
      ],
      "metadata": {
        "id": "rO7tz39DOWhk"
      }
    },
    {
      "cell_type": "code",
      "source": [
        "from math import floor\n",
        "print(233495534%16)\n",
        "floor(233495534/16)"
      ],
      "metadata": {
        "colab": {
          "base_uri": "https://localhost:8080/"
        },
        "id": "nnG1zSbjOeZP",
        "outputId": "c86b39f6-a567-4bac-9c66-06c51643f308"
      },
      "execution_count": 14,
      "outputs": [
        {
          "output_type": "stream",
          "name": "stdout",
          "text": [
            "14\n"
          ]
        },
        {
          "output_type": "execute_result",
          "data": {
            "text/plain": [
              "14593470"
            ]
          },
          "metadata": {},
          "execution_count": 14
        }
      ]
    },
    {
      "cell_type": "markdown",
      "source": [
        "14, which is $e$."
      ],
      "metadata": {
        "id": "a--EAG3zOkIA"
      }
    },
    {
      "cell_type": "code",
      "source": [
        "from math import floor\n",
        "print(14593470%16)\n",
        "floor(14593470/16)"
      ],
      "metadata": {
        "colab": {
          "base_uri": "https://localhost:8080/"
        },
        "id": "uuHud1vwOsoF",
        "outputId": "ccd4209c-e9e4-465d-a7f0-38a0161ffbd0"
      },
      "execution_count": 15,
      "outputs": [
        {
          "output_type": "stream",
          "name": "stdout",
          "text": [
            "14\n"
          ]
        },
        {
          "output_type": "execute_result",
          "data": {
            "text/plain": [
              "912091"
            ]
          },
          "metadata": {},
          "execution_count": 15
        }
      ]
    },
    {
      "cell_type": "markdown",
      "source": [
        "14 again, which is $e$. "
      ],
      "metadata": {
        "id": "9b7qEqgiOzsl"
      }
    },
    {
      "cell_type": "code",
      "source": [
        "from math import floor\n",
        "print(912091%16)\n",
        "floor(912091/16)"
      ],
      "metadata": {
        "colab": {
          "base_uri": "https://localhost:8080/"
        },
        "id": "lUNM5kFhO443",
        "outputId": "9717c691-a7d9-494c-894e-00660ef3ed7f"
      },
      "execution_count": 16,
      "outputs": [
        {
          "output_type": "stream",
          "name": "stdout",
          "text": [
            "11\n"
          ]
        },
        {
          "output_type": "execute_result",
          "data": {
            "text/plain": [
              "57005"
            ]
          },
          "metadata": {},
          "execution_count": 16
        }
      ]
    },
    {
      "cell_type": "markdown",
      "source": [
        "11, which is $b$. "
      ],
      "metadata": {
        "id": "1hNCWHzoO95p"
      }
    },
    {
      "cell_type": "code",
      "source": [
        "from math import floor\n",
        "print(57005%16)\n",
        "floor(57005/16)"
      ],
      "metadata": {
        "colab": {
          "base_uri": "https://localhost:8080/"
        },
        "id": "dt8dNPggPCr4",
        "outputId": "dfd3705a-8f2a-440b-e4e4-20ae9e985204"
      },
      "execution_count": 17,
      "outputs": [
        {
          "output_type": "stream",
          "name": "stdout",
          "text": [
            "13\n"
          ]
        },
        {
          "output_type": "execute_result",
          "data": {
            "text/plain": [
              "3562"
            ]
          },
          "metadata": {},
          "execution_count": 17
        }
      ]
    },
    {
      "cell_type": "markdown",
      "source": [
        "13, which is $d$."
      ],
      "metadata": {
        "id": "8jr-5TFYPJCf"
      }
    },
    {
      "cell_type": "code",
      "source": [
        "from math import floor\n",
        "print(3562%16)\n",
        "floor(3562/16)"
      ],
      "metadata": {
        "colab": {
          "base_uri": "https://localhost:8080/"
        },
        "id": "Arn9TUKdPO1r",
        "outputId": "a2b71efa-524c-4f78-9877-dd82ca0b1eb6"
      },
      "execution_count": 18,
      "outputs": [
        {
          "output_type": "stream",
          "name": "stdout",
          "text": [
            "10\n"
          ]
        },
        {
          "output_type": "execute_result",
          "data": {
            "text/plain": [
              "222"
            ]
          },
          "metadata": {},
          "execution_count": 18
        }
      ]
    },
    {
      "cell_type": "markdown",
      "source": [
        "10, which is $a$."
      ],
      "metadata": {
        "id": "lZ5LAnB1PTkp"
      }
    },
    {
      "cell_type": "code",
      "source": [
        "from math import floor\n",
        "print(222%16)\n",
        "floor(222/16)"
      ],
      "metadata": {
        "colab": {
          "base_uri": "https://localhost:8080/"
        },
        "id": "d4ZG79vzPZvI",
        "outputId": "b0bed6d5-0f50-4be3-8377-c9748badf9f1"
      },
      "execution_count": 19,
      "outputs": [
        {
          "output_type": "stream",
          "name": "stdout",
          "text": [
            "14\n"
          ]
        },
        {
          "output_type": "execute_result",
          "data": {
            "text/plain": [
              "13"
            ]
          },
          "metadata": {},
          "execution_count": 19
        }
      ]
    },
    {
      "cell_type": "markdown",
      "source": [
        "14, which is $e$."
      ],
      "metadata": {
        "id": "yUBCBK_gPfIr"
      }
    },
    {
      "cell_type": "code",
      "source": [
        "from math import floor\n",
        "print(13%16)\n",
        "floor(13/16)"
      ],
      "metadata": {
        "colab": {
          "base_uri": "https://localhost:8080/"
        },
        "id": "imOVyu5fPkwT",
        "outputId": "aff6704a-5e87-434b-e87d-a57cf683e554"
      },
      "execution_count": 20,
      "outputs": [
        {
          "output_type": "stream",
          "name": "stdout",
          "text": [
            "13\n"
          ]
        },
        {
          "output_type": "execute_result",
          "data": {
            "text/plain": [
              "0"
            ]
          },
          "metadata": {},
          "execution_count": 20
        }
      ]
    },
    {
      "cell_type": "markdown",
      "source": [
        "13, which is $d$. \n",
        "\n",
        "It looks as though all together, it will spell $deadbeef$. Next, I'll use the built-in to make things a little easier to read. "
      ],
      "metadata": {
        "id": "dLDkMPVtPryW"
      }
    },
    {
      "cell_type": "code",
      "source": [
        "hex(3735928559)"
      ],
      "metadata": {
        "colab": {
          "base_uri": "https://localhost:8080/",
          "height": 36
        },
        "id": "d1UBvjVT6BJb",
        "outputId": "ac07cae7-2a42-4f02-a3b1-7ca8d4412229"
      },
      "execution_count": 21,
      "outputs": [
        {
          "output_type": "execute_result",
          "data": {
            "text/plain": [
              "'0xdeadbeef'"
            ],
            "application/vnd.google.colaboratory.intrinsic+json": {
              "type": "string"
            }
          },
          "metadata": {},
          "execution_count": 21
        }
      ]
    },
    {
      "cell_type": "markdown",
      "source": [
        "###Part d.) Using two's complement perform the base ten subtraction 25-37. Check your answer. "
      ],
      "metadata": {
        "id": "Au7kEwQT6X-f"
      }
    },
    {
      "cell_type": "markdown",
      "source": [
        "To calculate two's complement, I am going to do most of in by hand, and use python to calculate some of the basic information I need. I'll start with converting $25$ into binary."
      ],
      "metadata": {
        "id": "N6bS4f0KQ00M"
      }
    },
    {
      "cell_type": "code",
      "source": [
        "bin(25)"
      ],
      "metadata": {
        "colab": {
          "base_uri": "https://localhost:8080/",
          "height": 36
        },
        "id": "_vedJRYN7Lcq",
        "outputId": "f25a7050-8c30-4f9c-96ce-6b4994d3b77c"
      },
      "execution_count": 22,
      "outputs": [
        {
          "output_type": "execute_result",
          "data": {
            "text/plain": [
              "'0b11001'"
            ],
            "application/vnd.google.colaboratory.intrinsic+json": {
              "type": "string"
            }
          },
          "metadata": {},
          "execution_count": 22
        }
      ]
    },
    {
      "cell_type": "markdown",
      "source": [
        "Next, I'll convert $37$ into binary. "
      ],
      "metadata": {
        "id": "x44MmDwaRE1t"
      }
    },
    {
      "cell_type": "code",
      "source": [
        "bin(37)"
      ],
      "metadata": {
        "colab": {
          "base_uri": "https://localhost:8080/",
          "height": 36
        },
        "id": "zNHq234b7d1H",
        "outputId": "b6ecffef-6b79-4c3e-c2dd-7c99c55e7275"
      },
      "execution_count": 23,
      "outputs": [
        {
          "output_type": "execute_result",
          "data": {
            "text/plain": [
              "'0b100101'"
            ],
            "application/vnd.google.colaboratory.intrinsic+json": {
              "type": "string"
            }
          },
          "metadata": {},
          "execution_count": 23
        }
      ]
    },
    {
      "cell_type": "markdown",
      "source": [
        "When converting 37 to binary, I get $00100101$. Then, I flip it and add $1$. $11011010 + 1 = 11011011$. "
      ],
      "metadata": {
        "id": "wp2PhZSb7gm3"
      }
    },
    {
      "cell_type": "markdown",
      "source": [
        "Now I am going to take $00011001$and add it to $11011011$. "
      ],
      "metadata": {
        "id": "E_m7_1Ys8GlN"
      }
    },
    {
      "cell_type": "markdown",
      "source": [
        "The result is: $11110100$. The one indicates the number is negative. If I flip it, I get $00001011$. "
      ],
      "metadata": {
        "id": "NDeKsFqT9FuY"
      }
    },
    {
      "cell_type": "markdown",
      "source": [
        "Now I add $1$. "
      ],
      "metadata": {
        "id": "Qz6_NJSM9kXh"
      }
    },
    {
      "cell_type": "markdown",
      "source": [
        "The result is: $00001100$"
      ],
      "metadata": {
        "id": "iz0DVZSs9oGr"
      }
    },
    {
      "cell_type": "markdown",
      "source": [
        "I can verify my binary number using a built in. Just keep in mind, it is negative. "
      ],
      "metadata": {
        "id": "nCDDW0xlRSsp"
      }
    },
    {
      "cell_type": "code",
      "source": [
        "int(0b00001100)"
      ],
      "metadata": {
        "colab": {
          "base_uri": "https://localhost:8080/"
        },
        "id": "gKmBiwDZ8T5S",
        "outputId": "c49a0d8c-4ca3-4be8-fe45-e2baa91318d3"
      },
      "execution_count": 24,
      "outputs": [
        {
          "output_type": "execute_result",
          "data": {
            "text/plain": [
              "12"
            ]
          },
          "metadata": {},
          "execution_count": 24
        }
      ]
    },
    {
      "cell_type": "markdown",
      "source": [
        "It appears to be correct."
      ],
      "metadata": {
        "id": "2tX5TehFRvY_"
      }
    },
    {
      "cell_type": "markdown",
      "source": [
        "## 2.) Be sure to comment on the following:"
      ],
      "metadata": {
        "id": "ycnq92W3RudC"
      }
    },
    {
      "cell_type": "markdown",
      "source": [
        "### Part b.) Discuss why binary and hexadecimal are important to computers. "
      ],
      "metadata": {
        "id": "1-dsSQMFR2zg"
      }
    },
    {
      "cell_type": "markdown",
      "source": [
        "One of the reasons binary is important to computers is because it provides the computer with a way to evaluate a true or false, or on, or off. Hexadecimal allows us to express large binary numbers in a smaller form. It also provides an easy transition to convert from one to the other. "
      ],
      "metadata": {
        "id": "h4hOAI8aR_jS"
      }
    }
  ]
}