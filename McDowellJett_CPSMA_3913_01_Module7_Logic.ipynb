{
  "nbformat": 4,
  "nbformat_minor": 0,
  "metadata": {
    "colab": {
      "provenance": [],
      "include_colab_link": true
    },
    "kernelspec": {
      "name": "python3",
      "display_name": "Python 3"
    }
  },
  "cells": [
    {
      "cell_type": "markdown",
      "metadata": {
        "id": "view-in-github",
        "colab_type": "text"
      },
      "source": [
        "<a href=\"https://colab.research.google.com/github/Jett987/Discrete_Mathematics/blob/main/McDowellJett_CPSMA_3913_01_Module7_Logic.ipynb\" target=\"_parent\"><img src=\"https://colab.research.google.com/assets/colab-badge.svg\" alt=\"Open In Colab\"/></a>"
      ]
    },
    {
      "cell_type": "markdown",
      "source": [
        "Project Part # 7 : CPSMA 3913 Dr. Lynam's Discrete Mathematics Project Part#7\n",
        "Jett McDowell\n",
        "(all coding was referenced from Dr. Jacob's github Discrete_Math python repository.)"
      ],
      "metadata": {
        "id": "OMYkRfurpd8o"
      }
    },
    {
      "cell_type": "markdown",
      "metadata": {
        "id": "YCJaepmmfKrS"
      },
      "source": [
        "# Project Part # 7: CPSMA 3913 Dr. Lynam's Discrete Mathematics utilizing [Dr. Jacob's](https://github.com/nurfnick) Discrete Mathematics github repository\n",
        "\n",
        "## Project Module 7: Logic\n",
        "\n",
        "### Jett McDowell  206812 \n",
        "\n",
        "![Tree.jpg photo courtesy: Microsoft Word picture stock images](https://raw.githubusercontent.com/Jett987/Discrete_Mathematics/main/Project7.jpg)\n",
        "\n",
        "(Picture Credit: Microsoft Word Picture Stock Images)\n",
        "\n"
      ]
    },
    {
      "cell_type": "markdown",
      "source": [
        "##The answers from section $2$ are answered throughout the document. \n",
        "\n",
        "$2a.$ Describe your findings in words. $2b$ Properly describe your propositions and discuss what it means to combine them in terms of the\n",
        "original statements."
      ],
      "metadata": {
        "id": "v5rlQxPmgvIV"
      }
    },
    {
      "cell_type": "markdown",
      "metadata": {
        "id": "Xs_Pvtua1Nnt"
      },
      "source": [
        "## 1.) Create a Truth Table. "
      ]
    },
    {
      "cell_type": "markdown",
      "source": [
        "###part a.) Create three propositions. I will describe them as p, r and q but you should use the name to describe the proposition! Discuss the truth value of each of these and decide on one that makes sense for you."
      ],
      "metadata": {
        "id": "TwYUzHlxlpk8"
      }
    },
    {
      "cell_type": "markdown",
      "source": [
        "For this project I decided to create three propositions that directly pertain to my life. I most certainly always have to feed my cows, so that is true. I will never skip school, so it is false. I will graduate at some point, so that is also true. There are situations that could prevent me from feeding the cows though, but those would also cause me to skip school. "
      ],
      "metadata": {
        "id": "HMCq9zg9LuFm"
      }
    },
    {
      "cell_type": "code",
      "source": [
        "willfeedthecows = True #p\n",
        "willskipschool = False #r\n",
        "willgraduate = True #q"
      ],
      "metadata": {
        "id": "2y1Y1JTb56Dx"
      },
      "execution_count": null,
      "outputs": []
    },
    {
      "cell_type": "markdown",
      "source": [
        "###part b.) Compute the truth of the statement r ∧ p, r ∨ ¬q and r ⇒ p.\n"
      ],
      "metadata": {
        "id": "23IcIXh2dXwq"
      }
    },
    {
      "cell_type": "markdown",
      "source": [
        "$r ∧ p$: should return false since the first one is true, and the second is false. I will use the built-in functions to check the rest of my computations. "
      ],
      "metadata": {
        "id": "nDBrZbcXfzYf"
      }
    },
    {
      "cell_type": "code",
      "source": [
        "willskipschool and willfeedthecows"
      ],
      "metadata": {
        "colab": {
          "base_uri": "https://localhost:8080/"
        },
        "id": "-G28lCuv5ixn",
        "outputId": "17a2b14e-721b-4650-995a-1fcab40e774e"
      },
      "execution_count": null,
      "outputs": [
        {
          "output_type": "execute_result",
          "data": {
            "text/plain": [
              "False"
            ]
          },
          "metadata": {},
          "execution_count": 3
        }
      ]
    },
    {
      "cell_type": "markdown",
      "source": [
        "$r ∨ ¬q$ : should return false since both propositions are false. "
      ],
      "metadata": {
        "id": "yHCFW5crf_Ut"
      }
    },
    {
      "cell_type": "code",
      "source": [
        "willskipschool or (not(willgraduate))"
      ],
      "metadata": {
        "colab": {
          "base_uri": "https://localhost:8080/"
        },
        "id": "n270zLP5SSzp",
        "outputId": "bc67a464-5996-4e78-976a-d7bb73d8d99a"
      },
      "execution_count": null,
      "outputs": [
        {
          "output_type": "execute_result",
          "data": {
            "text/plain": [
              "False"
            ]
          },
          "metadata": {},
          "execution_count": 4
        }
      ]
    },
    {
      "cell_type": "markdown",
      "source": [
        "$r ⇒ p$: if r is false, it doesn't matter if p is true or false, it should return true. "
      ],
      "metadata": {
        "id": "ica4plPRgTas"
      }
    },
    {
      "cell_type": "code",
      "source": [
        "def implies(r,p):\n",
        "  return not(r) or p\n",
        "\n",
        "implies(willskipschool,willfeedthecows)"
      ],
      "metadata": {
        "colab": {
          "base_uri": "https://localhost:8080/"
        },
        "id": "mDCeUh04Sh0F",
        "outputId": "bcd3d416-4aa6-4b4e-fcf5-00cd815ed35b"
      },
      "execution_count": null,
      "outputs": [
        {
          "output_type": "execute_result",
          "data": {
            "text/plain": [
              "True"
            ]
          },
          "metadata": {},
          "execution_count": 44
        }
      ]
    },
    {
      "cell_type": "markdown",
      "source": [
        "###Part c.) Compute a complete truth table for ¬ (r ⊕ p) ⇒ (p ∨ q)\n"
      ],
      "metadata": {
        "id": "1u_ZDtfl6ED7"
      }
    },
    {
      "cell_type": "markdown",
      "source": [
        "$$willfeedthecows = True = p$$\n",
        "$$willskipschool = False = r$$\n",
        "$$willgraduate = True = q$$"
      ],
      "metadata": {
        "id": "pmp_yjEbhnlL"
      }
    },
    {
      "cell_type": "code",
      "source": [
        "values = [True,False]\n",
        "table = []\n",
        "\n",
        "for willskipschool in values:\n",
        "  for willfeedthecows in values:\n",
        "    for willgraduate in values: \n",
        "      row =[]\n",
        "      row.append(willskipschool)\n",
        "      row.append(willfeedthecows)\n",
        "      row.append(willgraduate)\n",
        "      row.append(not(willskipschool))\n",
        "      row.append(not(willskipschool ^ willfeedthecows))\n",
        "      row.append((willfeedthecows) or willgraduate) \n",
        "      row.append(implies(not(willskipschool ^ willfeedthecows), willfeedthecows or willgraduate))\n",
        "      table.append(row)"
      ],
      "metadata": {
        "id": "5VjcZXoIbfwB"
      },
      "execution_count": null,
      "outputs": []
    },
    {
      "cell_type": "code",
      "source": [
        "import pandas as pd\n",
        "\n",
        "df = pd.DataFrame(table,columns = ['r','p','q','¬ r','¬ (r ⊕ p)','(p ∨ q)','¬(r ⊕ p) ⇒ (p ∨ q)'] )\n",
        "df"
      ],
      "metadata": {
        "colab": {
          "base_uri": "https://localhost:8080/",
          "height": 300
        },
        "id": "x0vd8aN7dCZv",
        "outputId": "ac54c3c0-3830-4fd5-d8a6-80435e79cd78"
      },
      "execution_count": null,
      "outputs": [
        {
          "output_type": "execute_result",
          "data": {
            "text/plain": [
              "       r      p      q    ¬ r  ¬ (r ⊕ p)  (p ∨ q)  ¬(r ⊕ p) ⇒ (p ∨ q)\n",
              "0   True   True   True  False       True     True                True\n",
              "1   True   True  False  False       True     True                True\n",
              "2   True  False   True  False      False     True                True\n",
              "3   True  False  False  False      False    False                True\n",
              "4  False   True   True   True      False     True                True\n",
              "5  False   True  False   True      False     True                True\n",
              "6  False  False   True   True       True     True                True\n",
              "7  False  False  False   True       True    False               False"
            ],
            "text/html": [
              "\n",
              "  <div id=\"df-cc8efa08-1163-429e-a726-e771ab38f228\">\n",
              "    <div class=\"colab-df-container\">\n",
              "      <div>\n",
              "<style scoped>\n",
              "    .dataframe tbody tr th:only-of-type {\n",
              "        vertical-align: middle;\n",
              "    }\n",
              "\n",
              "    .dataframe tbody tr th {\n",
              "        vertical-align: top;\n",
              "    }\n",
              "\n",
              "    .dataframe thead th {\n",
              "        text-align: right;\n",
              "    }\n",
              "</style>\n",
              "<table border=\"1\" class=\"dataframe\">\n",
              "  <thead>\n",
              "    <tr style=\"text-align: right;\">\n",
              "      <th></th>\n",
              "      <th>r</th>\n",
              "      <th>p</th>\n",
              "      <th>q</th>\n",
              "      <th>¬ r</th>\n",
              "      <th>¬ (r ⊕ p)</th>\n",
              "      <th>(p ∨ q)</th>\n",
              "      <th>¬(r ⊕ p) ⇒ (p ∨ q)</th>\n",
              "    </tr>\n",
              "  </thead>\n",
              "  <tbody>\n",
              "    <tr>\n",
              "      <th>0</th>\n",
              "      <td>True</td>\n",
              "      <td>True</td>\n",
              "      <td>True</td>\n",
              "      <td>False</td>\n",
              "      <td>True</td>\n",
              "      <td>True</td>\n",
              "      <td>True</td>\n",
              "    </tr>\n",
              "    <tr>\n",
              "      <th>1</th>\n",
              "      <td>True</td>\n",
              "      <td>True</td>\n",
              "      <td>False</td>\n",
              "      <td>False</td>\n",
              "      <td>True</td>\n",
              "      <td>True</td>\n",
              "      <td>True</td>\n",
              "    </tr>\n",
              "    <tr>\n",
              "      <th>2</th>\n",
              "      <td>True</td>\n",
              "      <td>False</td>\n",
              "      <td>True</td>\n",
              "      <td>False</td>\n",
              "      <td>False</td>\n",
              "      <td>True</td>\n",
              "      <td>True</td>\n",
              "    </tr>\n",
              "    <tr>\n",
              "      <th>3</th>\n",
              "      <td>True</td>\n",
              "      <td>False</td>\n",
              "      <td>False</td>\n",
              "      <td>False</td>\n",
              "      <td>False</td>\n",
              "      <td>False</td>\n",
              "      <td>True</td>\n",
              "    </tr>\n",
              "    <tr>\n",
              "      <th>4</th>\n",
              "      <td>False</td>\n",
              "      <td>True</td>\n",
              "      <td>True</td>\n",
              "      <td>True</td>\n",
              "      <td>False</td>\n",
              "      <td>True</td>\n",
              "      <td>True</td>\n",
              "    </tr>\n",
              "    <tr>\n",
              "      <th>5</th>\n",
              "      <td>False</td>\n",
              "      <td>True</td>\n",
              "      <td>False</td>\n",
              "      <td>True</td>\n",
              "      <td>False</td>\n",
              "      <td>True</td>\n",
              "      <td>True</td>\n",
              "    </tr>\n",
              "    <tr>\n",
              "      <th>6</th>\n",
              "      <td>False</td>\n",
              "      <td>False</td>\n",
              "      <td>True</td>\n",
              "      <td>True</td>\n",
              "      <td>True</td>\n",
              "      <td>True</td>\n",
              "      <td>True</td>\n",
              "    </tr>\n",
              "    <tr>\n",
              "      <th>7</th>\n",
              "      <td>False</td>\n",
              "      <td>False</td>\n",
              "      <td>False</td>\n",
              "      <td>True</td>\n",
              "      <td>True</td>\n",
              "      <td>False</td>\n",
              "      <td>False</td>\n",
              "    </tr>\n",
              "  </tbody>\n",
              "</table>\n",
              "</div>\n",
              "      <button class=\"colab-df-convert\" onclick=\"convertToInteractive('df-cc8efa08-1163-429e-a726-e771ab38f228')\"\n",
              "              title=\"Convert this dataframe to an interactive table.\"\n",
              "              style=\"display:none;\">\n",
              "        \n",
              "  <svg xmlns=\"http://www.w3.org/2000/svg\" height=\"24px\"viewBox=\"0 0 24 24\"\n",
              "       width=\"24px\">\n",
              "    <path d=\"M0 0h24v24H0V0z\" fill=\"none\"/>\n",
              "    <path d=\"M18.56 5.44l.94 2.06.94-2.06 2.06-.94-2.06-.94-.94-2.06-.94 2.06-2.06.94zm-11 1L8.5 8.5l.94-2.06 2.06-.94-2.06-.94L8.5 2.5l-.94 2.06-2.06.94zm10 10l.94 2.06.94-2.06 2.06-.94-2.06-.94-.94-2.06-.94 2.06-2.06.94z\"/><path d=\"M17.41 7.96l-1.37-1.37c-.4-.4-.92-.59-1.43-.59-.52 0-1.04.2-1.43.59L10.3 9.45l-7.72 7.72c-.78.78-.78 2.05 0 2.83L4 21.41c.39.39.9.59 1.41.59.51 0 1.02-.2 1.41-.59l7.78-7.78 2.81-2.81c.8-.78.8-2.07 0-2.86zM5.41 20L4 18.59l7.72-7.72 1.47 1.35L5.41 20z\"/>\n",
              "  </svg>\n",
              "      </button>\n",
              "      \n",
              "  <style>\n",
              "    .colab-df-container {\n",
              "      display:flex;\n",
              "      flex-wrap:wrap;\n",
              "      gap: 12px;\n",
              "    }\n",
              "\n",
              "    .colab-df-convert {\n",
              "      background-color: #E8F0FE;\n",
              "      border: none;\n",
              "      border-radius: 50%;\n",
              "      cursor: pointer;\n",
              "      display: none;\n",
              "      fill: #1967D2;\n",
              "      height: 32px;\n",
              "      padding: 0 0 0 0;\n",
              "      width: 32px;\n",
              "    }\n",
              "\n",
              "    .colab-df-convert:hover {\n",
              "      background-color: #E2EBFA;\n",
              "      box-shadow: 0px 1px 2px rgba(60, 64, 67, 0.3), 0px 1px 3px 1px rgba(60, 64, 67, 0.15);\n",
              "      fill: #174EA6;\n",
              "    }\n",
              "\n",
              "    [theme=dark] .colab-df-convert {\n",
              "      background-color: #3B4455;\n",
              "      fill: #D2E3FC;\n",
              "    }\n",
              "\n",
              "    [theme=dark] .colab-df-convert:hover {\n",
              "      background-color: #434B5C;\n",
              "      box-shadow: 0px 1px 3px 1px rgba(0, 0, 0, 0.15);\n",
              "      filter: drop-shadow(0px 1px 2px rgba(0, 0, 0, 0.3));\n",
              "      fill: #FFFFFF;\n",
              "    }\n",
              "  </style>\n",
              "\n",
              "      <script>\n",
              "        const buttonEl =\n",
              "          document.querySelector('#df-cc8efa08-1163-429e-a726-e771ab38f228 button.colab-df-convert');\n",
              "        buttonEl.style.display =\n",
              "          google.colab.kernel.accessAllowed ? 'block' : 'none';\n",
              "\n",
              "        async function convertToInteractive(key) {\n",
              "          const element = document.querySelector('#df-cc8efa08-1163-429e-a726-e771ab38f228');\n",
              "          const dataTable =\n",
              "            await google.colab.kernel.invokeFunction('convertToInteractive',\n",
              "                                                     [key], {});\n",
              "          if (!dataTable) return;\n",
              "\n",
              "          const docLinkHtml = 'Like what you see? Visit the ' +\n",
              "            '<a target=\"_blank\" href=https://colab.research.google.com/notebooks/data_table.ipynb>data table notebook</a>'\n",
              "            + ' to learn more about interactive tables.';\n",
              "          element.innerHTML = '';\n",
              "          dataTable['output_type'] = 'display_data';\n",
              "          await google.colab.output.renderOutput(dataTable, element);\n",
              "          const docLink = document.createElement('div');\n",
              "          docLink.innerHTML = docLinkHtml;\n",
              "          element.appendChild(docLink);\n",
              "        }\n",
              "      </script>\n",
              "    </div>\n",
              "  </div>\n",
              "  "
            ]
          },
          "metadata": {},
          "execution_count": 60
        }
      ]
    },
    {
      "cell_type": "markdown",
      "source": [
        "The above table represents the truth table of ¬ (r ⊕ p) ⇒ (p ∨ q). I left ¬ r as an easy confirmation to make sure the table is in fact correct. I also calculated this truth table by hand, as pictured below, just for confirmation that it is accurate. \n"
      ],
      "metadata": {
        "id": "6uWO3AqaHg5q"
      }
    },
    {
      "cell_type": "markdown",
      "source": [
        "![Truth Table.JPG](data:image/jpeg;base64,/9j/4AAQSkZJRgABAQEAYABgAAD/4RD0RXhpZgAATU0AKgAAAAgABAE7AAIAAAAOAAAISodpAAQAAAABAAAIWJydAAEAAAAcAAAQ0OocAAcAAAgMAAAAPgAAAAAc6gAAAAgAAAAAAAAAAAAAAAAAAAAAAAAAAAAAAAAAAAAAAAAAAAAAAAAAAAAAAAAAAAAAAAAAAAAAAAAAAAAAAAAAAAAAAAAAAAAAAAAAAAAAAAAAAAAAAAAAAAAAAAAAAAAAAAAAAAAAAAAAAAAAAAAAAAAAAAAAAAAAAAAAAAAAAAAAAAAAAAAAAAAAAAAAAAAAAAAAAAAAAAAAAAAAAAAAAAAAAAAAAAAAAAAAAAAAAAAAAAAAAAAAAAAAAAAAAAAAAAAAAAAAAAAAAAAAAAAAAAAAAAAAAAAAAAAAAAAAAAAAAAAAAAAAAAAAAAAAAAAAAAAAAAAAAAAAAAAAAAAAAAAAAAAAAAAAAAAAAAAAAAAAAAAAAAAAAAAAAAAAAAAAAAAAAAAAAAAAAAAAAAAAAAAAAAAAAAAAAAAAAAAAAAAAAAAAAAAAAAAAAAAAAAAAAAAAAAAAAAAAAAAAAAAAAAAAAAAAAAAAAAAAAAAAAAAAAAAAAAAAAAAAAAAAAAAAAAAAAAAAAAAAAAAAAAAAAAAAAAAAAAAAAAAAAAAAAAAAAAAAAAAAAAAAAAAAAAAAAAAAAAAAAAAAAAAAAAAAAAAAAAAAAAAAAAAAAAAAAAAAAAAAAAAAAAAAAAAAAAAAAAAAAAAAAAAAAAAAAAAAAAAAAAAAAAAAAAAAAAAAAAAAAAAAAAAAAAAAAAAAAAAAAAAAAAAAAAAAAAAAAAAAAAAAAAAAAAAAAAAAAAAAAAAAAAAAAAAAAAAAAAAAAAAAAAAAAAAAAAAAAAAAAAAAAAAAAAAAAAAAAAAAAAAAAAAAAAAAAAAAAAAAAAAAAAAAAAAAAAAAAAAAAAAAAAAAAAAAAAAAAAAAAAAAAAAAAAAAAAAAAAAAAAAAAAAAAAAAAAAAAAAAAAAAAAAAAAAAAAAAAAAAAAAAAAAAAAAAAAAAAAAAAAAAAAAAAAAAAAAAAAAAAAAAAAAAAAAAAAAAAAAAAAAAAAAAAAAAAAAAAAAAAAAAAAAAAAAAAAAAAAAAAAAAAAAAAAAAAAAAAAAAAAAAAAAAAAAAAAAAAAAAAAAAAAAAAAAAAAAAAAAAAAAAAAAAAAAAAAAAAAAAAAAAAAAAAAAAAAAAAAAAAAAAAAAAAAAAAAAAAAAAAAAAAAAAAAAAAAAAAAAAAAAAAAAAAAAAAAAAAAAAAAAAAAAAAAAAAAAAAAAAAAAAAAAAAAAAAAAAAAAAAAAAAAAAAAAAAAAAAAAAAAAAAAAAAAAAAAAAAAAAAAAAAAAAAAAAAAAAAAAAAAAAAAAAAAAAAAAAAAAAAAAAAAAAAAAAAAAAAAAAAAAAAAAAAAAAAAAAAAAAAAAAAAAAAAAAAAAAAAAAAAAAAAAAAAAAAAAAAAAAAAAAAAAAAAAAAAAAAAAAAAAAAAAAAAAAAAAAAAAAAAAAAAAAAAAAAAAAAAAAAAAAAAAAAAAAAAAAAAAAAAAAAAAAAAAAAAAAAAAAAAAAAAAAAAAAAAAAAAAAAAAAAAAAAAAAAAAAAAAAAAAAAAAAAAAAAAAAAAAAAAAAAAAAAAAAAAAAAAAAAAAAAAAAAAAAAAAAAAAAAAAAAAAAAAAAAAAAAAAAAAAAAAAAAAAAAAAAAAAAAAAAAAAAAAAAAAAAAAAAAAAAAAAAAAAAAAAAAAAAAAAAAAAAAAAAAAAAAAAAAAAAAAAAAAAAAAAAAAAAAAAAAAAAAAAAAAAAAAAAAAAAAAAAAAAAAAAAAAAAAAAAAAAAAAAAAAAAAAAAAAAAAAAAAAAAAAAAAAAAAAAAAAAAAAAAAAAAAAAAAAAAAAAAAAAAAAAAAAAAAAAAAAAAAAAAAAAAAAAAAAAAAAAAAAAAAAAAAAAAAAAAAAAAAAAAAAAAAAAAAAAAAAAAAAAAAAAAAAAAAAAAAAAAAAAAAAAAAAAAAAAAAAAAAAAAAAAAAAAAAAAAAAAAAAAAAAAAAAAAAAAAAAAAAAAAAAAAAAAAAAAAAAAAAAAAAAAAAAAAAAAAAAAAAAAAAAAAAAAAAAAAAAAAAAAAAAAAAAAAAAAAAAAAAAAAAAAAAAAAAAAAAAAAAAAAAAAAAAAAAAAAAAAAAAAAAAAAAAAAAAAAAAAAAAAAAAAAAAAAAAAAAAAAAAAAAAAAAAAAAAAAAAAAAAAAAAAAAAAAAAAAAAAAAAAAAAAAAAAAAAAAAAAAAAAAAAAAAAAAAAAAAAAAAAAAAAAAAAAAAAAAAAAAAAAAAAAAAAAAAAAAAAAAAAAAAAAAAAAAAAAAAAAAAAAAAAAAAAAAAAAAAAAAAAAAAAAAAAAAAAAAAAAAAAAAAAAAAAAAAAAAAAAAAAAAAAAAAAAAAAAAAAAAAAAAAAAAAAAAAAAAAAAAAAAAAAAAAAAAAAAAAAAAAAAAAAAAAAAAAAAAAAAAAAAAAAAAAAAAAAAAAAAAAAAAAAAAAAAAAAAAAAAAAAAAAAAAAAAAAAAAAAAAAAAAAAAAAAAAAAAAAAAAAAAAAAAAAAAAAAAAAAAAAAAAAAAAAAAAAAAAAAAAAAAAAAAAAAAAAAAAAAAAAAAAAAAAAAAAAAAAAAAAAAAAAAAAAAAAAAAAAAAAAAAAAAAAAAAAAAAAAAAAAAAAAAAAAAAAAAAAAAAAAAAAAAAAAAAAAAAAAAAAAAAAAAAAAAAAAAAAAAAAAAAAAAAAAAAAAAAAAAAAAAAAAAAAAAAAAAAAAAAAAAAAAAAAAAAAAAAAAAAAAAAAAAAAAEpldHQgTWNEb3dlbGwAAAWQAwACAAAAFAAAEKaQBAACAAAAFAAAELqSkQACAAAAAzQ3AACSkgACAAAAAzQ3AADqHAAHAAAIDAAACJoAAAAAHOoAAAAIAAAAAAAAAAAAAAAAAAAAAAAAAAAAAAAAAAAAAAAAAAAAAAAAAAAAAAAAAAAAAAAAAAAAAAAAAAAAAAAAAAAAAAAAAAAAAAAAAAAAAAAAAAAAAAAAAAAAAAAAAAAAAAAAAAAAAAAAAAAAAAAAAAAAAAAAAAAAAAAAAAAAAAAAAAAAAAAAAAAAAAAAAAAAAAAAAAAAAAAAAAAAAAAAAAAAAAAAAAAAAAAAAAAAAAAAAAAAAAAAAAAAAAAAAAAAAAAAAAAAAAAAAAAAAAAAAAAAAAAAAAAAAAAAAAAAAAAAAAAAAAAAAAAAAAAAAAAAAAAAAAAAAAAAAAAAAAAAAAAAAAAAAAAAAAAAAAAAAAAAAAAAAAAAAAAAAAAAAAAAAAAAAAAAAAAAAAAAAAAAAAAAAAAAAAAAAAAAAAAAAAAAAAAAAAAAAAAAAAAAAAAAAAAAAAAAAAAAAAAAAAAAAAAAAAAAAAAAAAAAAAAAAAAAAAAAAAAAAAAAAAAAAAAAAAAAAAAAAAAAAAAAAAAAAAAAAAAAAAAAAAAAAAAAAAAAAAAAAAAAAAAAAAAAAAAAAAAAAAAAAAAAAAAAAAAAAAAAAAAAAAAAAAAAAAAAAAAAAAAAAAAAAAAAAAAAAAAAAAAAAAAAAAAAAAAAAAAAAAAAAAAAAAAAAAAAAAAAAAAAAAAAAAAAAAAAAAAAAAAAAAAAAAAAAAAAAAAAAAAAAAAAAAAAAAAAAAAAAAAAAAAAAAAAAAAAAAAAAAAAAAAAAAAAAAAAAAAAAAAAAAAAAAAAAAAAAAAAAAAAAAAAAAAAAAAAAAAAAAAAAAAAAAAAAAAAAAAAAAAAAAAAAAAAAAAAAAAAAAAAAAAAAAAAAAAAAAAAAAAAAAAAAAAAAAAAAAAAAAAAAAAAAAAAAAAAAAAAAAAAAAAAAAAAAAAAAAAAAAAAAAAAAAAAAAAAAAAAAAAAAAAAAAAAAAAAAAAAAAAAAAAAAAAAAAAAAAAAAAAAAAAAAAAAAAAAAAAAAAAAAAAAAAAAAAAAAAAAAAAAAAAAAAAAAAAAAAAAAAAAAAAAAAAAAAAAAAAAAAAAAAAAAAAAAAAAAAAAAAAAAAAAAAAAAAAAAAAAAAAAAAAAAAAAAAAAAAAAAAAAAAAAAAAAAAAAAAAAAAAAAAAAAAAAAAAAAAAAAAAAAAAAAAAAAAAAAAAAAAAAAAAAAAAAAAAAAAAAAAAAAAAAAAAAAAAAAAAAAAAAAAAAAAAAAAAAAAAAAAAAAAAAAAAAAAAAAAAAAAAAAAAAAAAAAAAAAAAAAAAAAAAAAAAAAAAAAAAAAAAAAAAAAAAAAAAAAAAAAAAAAAAAAAAAAAAAAAAAAAAAAAAAAAAAAAAAAAAAAAAAAAAAAAAAAAAAAAAAAAAAAAAAAAAAAAAAAAAAAAAAAAAAAAAAAAAAAAAAAAAAAAAAAAAAAAAAAAAAAAAAAAAAAAAAAAAAAAAAAAAAAAAAAAAAAAAAAAAAAAAAAAAAAAAAAAAAAAAAAAAAAAAAAAAAAAAAAAAAAAAAAAAAAAAAAAAAAAAAAAAAAAAAAAAAAAAAAAAAAAAAAAAAAAAAAAAAAAAAAAAAAAAAAAAAAAAAAAAAAAAAAAAAAAAAAAAAAAAAAAAAAAAAAAAAAAAAAAAAAAAAAAAAAAAAAAAAAAAAAAAAAAAAAAAAAAAAAAAAAAAAAAAAAAAAAAAAAAAAAAAAAAAAAAAAAAAAAAAAAAAAAAAAAAAAAAAAAAAAAAAAAAAAAAAAAAAAAAAAAAAAAAAAAAAAAAAAAAAAAAAAAAAAAAAAAAAAAAAAAAAAAAAAAAAAAAAAAAAAAAAAAAAAAAAAAAAAAAAAAAAAAAAAAAAAAAAAAAAAAAAAAAAAAAAAAAAAAAAAAAAAAAAAAAAAAAAAAAAAAAAAAAAAAAAAAAAAAAAAAAAAAAAAAAAAAAAAAAAAAAAAAAAAAAAAAAAAAAAAAAAAAAAAAAAAAAAAAAAAAAAAAAAAAAAAAAAAAAAAAAAAAAAAAAAAAAAAAAAAAAAAAAAAAAAAAAAAAAAAAAAAAAAAAAAAAAAAAAAAAAAAAAAAAAAAAAAAAAAAAAAAAAAAAAAAAAAAAAAAAAAAAAAAAAAAAAAAAAAAAAAAAAAAAAAAAAAAAAAAAAAAAAAAAAAAAAAAAAAAAAAAAAAAAAAAAAAAAAAAAAAAAAAAAAAAAAAAAAAAAAAAAAAAAAAAAAAAAAAAAAAAAAAAAAAAAAAAAAAAAAAAAAAAAAAAAAAAAAAAAAAAAAAAAAAAAAAAAAAAAAAAAAAAAAAAAAAAAAAAAAAAAAAAAAAAAAAAAAAAAAAAAAAAAAAAAAAAAAAAAAAAAAAAAAAAAAAAAAAAAAAAAAAAAAAAAAAAAAAAAAAAAAAAAAAAAAAAAAAAAAAAAAAAAAAAAAAAAAAAAAAAAAAAAAAAAAAAAAAAAAAAAAAAAAAAAAAAAAAAAAAAAAAAAAAAAAAAAAAAAAAAAAAAAAAAAAAAAAAAAAAAAAAAAAAAAAAAAAAAAAAAAAAAAAAAAAAAAAAAAAAAAAAAAAAAAAAAAAAAAAAAAAAAAAAAAAAAAAAAAAAAAAAAAAAAAAAAAAAAAAAAAAAAAAAAAAAAAAAAAAAAAAAAAAAAAAAAAAAAAAAAAAAAAAAAAAAAAAAAAAAAAAAAAAAAAAAAAAAAAAAAAAAAAAAAAAAAAAAAAAAAAAAAAAAAAAAAAAAAAAAyMDIzOjAyOjI2IDE4OjMxOjEzADIwMjM6MDI6MjYgMTg6MzE6MTMAAABKAGUAdAB0ACAATQBjAEQAbwB3AGUAbABsAAAA/+ELIGh0dHA6Ly9ucy5hZG9iZS5jb20veGFwLzEuMC8APD94cGFja2V0IGJlZ2luPSfvu78nIGlkPSdXNU0wTXBDZWhpSHpyZVN6TlRjemtjOWQnPz4NCjx4OnhtcG1ldGEgeG1sbnM6eD0iYWRvYmU6bnM6bWV0YS8iPjxyZGY6UkRGIHhtbG5zOnJkZj0iaHR0cDovL3d3dy53My5vcmcvMTk5OS8wMi8yMi1yZGYtc3ludGF4LW5zIyI+PHJkZjpEZXNjcmlwdGlvbiByZGY6YWJvdXQ9InV1aWQ6ZmFmNWJkZDUtYmEzZC0xMWRhLWFkMzEtZDMzZDc1MTgyZjFiIiB4bWxuczpkYz0iaHR0cDovL3B1cmwub3JnL2RjL2VsZW1lbnRzLzEuMS8iLz48cmRmOkRlc2NyaXB0aW9uIHJkZjphYm91dD0idXVpZDpmYWY1YmRkNS1iYTNkLTExZGEtYWQzMS1kMzNkNzUxODJmMWIiIHhtbG5zOnhtcD0iaHR0cDovL25zLmFkb2JlLmNvbS94YXAvMS4wLyI+PHhtcDpDcmVhdGVEYXRlPjIwMjMtMDItMjZUMTg6MzE6MTMuNDY1PC94bXA6Q3JlYXRlRGF0ZT48L3JkZjpEZXNjcmlwdGlvbj48cmRmOkRlc2NyaXB0aW9uIHJkZjphYm91dD0idXVpZDpmYWY1YmRkNS1iYTNkLTExZGEtYWQzMS1kMzNkNzUxODJmMWIiIHhtbG5zOmRjPSJodHRwOi8vcHVybC5vcmcvZGMvZWxlbWVudHMvMS4xLyI+PGRjOmNyZWF0b3I+PHJkZjpTZXEgeG1sbnM6cmRmPSJodHRwOi8vd3d3LnczLm9yZy8xOTk5LzAyLzIyLXJkZi1zeW50YXgtbnMjIj48cmRmOmxpPkpldHQgTWNEb3dlbGw8L3JkZjpsaT48L3JkZjpTZXE+DQoJCQk8L2RjOmNyZWF0b3I+PC9yZGY6RGVzY3JpcHRpb24+PC9yZGY6UkRGPjwveDp4bXBtZXRhPg0KICAgICAgICAgICAgICAgICAgICAgICAgICAgICAgICAgICAgICAgICAgICAgICAgICAgICAgICAgICAgICAgICAgICAgICAgICAgICAgICAgICAgICAgICAgICAgICAgICAgIAogICAgICAgICAgICAgICAgICAgICAgICAgICAgICAgICAgICAgICAgICAgICAgICAgICAgICAgICAgICAgICAgICAgICAgICAgICAgICAgICAgICAgICAgICAgICAgICAgICAgCiAgICAgICAgICAgICAgICAgICAgICAgICAgICAgICAgICAgICAgICAgICAgICAgICAgICAgICAgICAgICAgICAgICAgICAgICAgICAgICAgICAgICAgICAgICAgICAgICAgICAKICAgICAgICAgICAgICAgICAgICAgICAgICAgICAgICAgICAgICAgICAgICAgICAgICAgICAgICAgICAgICAgICAgICAgICAgICAgICAgICAgICAgICAgICAgICAgICAgICAgIAogICAgICAgICAgICAgICAgICAgICAgICAgICAgICAgICAgICAgICAgICAgICAgICAgICAgICAgICAgICAgICAgICAgICAgICAgICAgICAgICAgICAgICAgICAgICAgICAgICAgCiAgICAgICAgICAgICAgICAgICAgICAgICAgICAgICAgICAgICAgICAgICAgICAgICAgICAgICAgICAgICAgICAgICAgICAgICAgICAgICAgICAgICAgICAgICAgICAgICAgICAKICAgICAgICAgICAgICAgICAgICAgICAgICAgICAgICAgICAgICAgICAgICAgICAgICAgICAgICAgICAgICAgICAgICAgICAgICAgICAgICAgICAgICAgICAgICAgICAgICAgIAogICAgICAgICAgICAgICAgICAgICAgICAgICAgICAgICAgICAgICAgICAgICAgICAgICAgICAgICAgICAgICAgICAgICAgICAgICAgICAgICAgICAgICAgICAgICAgICAgICAgCiAgICAgICAgICAgICAgICAgICAgICAgICAgICAgICAgICAgICAgICAgICAgICAgICAgICAgICAgICAgICAgICAgICAgICAgICAgICAgICAgICAgICAgICAgICAgICAgICAgICAKICAgICAgICAgICAgICAgICAgICAgICAgICAgICAgICAgICAgICAgICAgICAgICAgICAgICAgICAgICAgICAgICAgICAgICAgICAgICAgICAgICAgICAgICAgICAgICAgICAgIAogICAgICAgICAgICAgICAgICAgICAgICAgICAgICAgICAgICAgICAgICAgICAgICAgICAgICAgICAgICAgICAgICAgICAgICAgICAgICAgICAgICAgICAgICAgICAgICAgICAgCiAgICAgICAgICAgICAgICAgICAgICAgICAgICAgICAgICAgICAgICAgICAgICAgICAgICAgICAgICAgICAgICAgICAgICAgICAgICAgICAgICAgICAgICAgICAgICAgICAgICAKICAgICAgICAgICAgICAgICAgICAgICAgICAgICAgICAgICAgICAgICAgICAgICAgICAgICAgICAgICAgICAgICAgICAgICAgICAgICAgICAgICAgICAgICAgICAgICAgICAgIAogICAgICAgICAgICAgICAgICAgICAgICAgICAgICAgICAgICAgICAgICAgICAgICAgICAgICAgICAgICAgICAgICAgICAgICAgICAgICAgICAgICAgICAgICAgICAgICAgICAgCiAgICAgICAgICAgICAgICAgICAgICAgICAgICAgICAgICAgICAgICAgICAgICAgICAgICAgICAgICAgICAgICAgICAgICAgICAgICAgICAgICAgICAgICAgICAgICAgICAgICAKICAgICAgICAgICAgICAgICAgICAgICAgICAgICAgICAgICAgICAgICAgICAgICAgICAgICAgICAgICAgICAgICAgICAgICAgICAgICAgICAgICAgICAgICAgICAgICAgICAgIAogICAgICAgICAgICAgICAgICAgICAgICAgICAgICAgICAgICAgICAgICAgICAgICAgICAgICAgICAgICAgICAgICAgICAgICAgICAgICAgICAgICAgICAgICAgICAgICAgICAgCiAgICAgICAgICAgICAgICAgICAgICAgICAgICAgICAgICAgICAgICAgICAgICAgICAgICAgICAgICAgICAgICAgICAgICAgICAgICAgICAgICAgICAgICAgICAgICAgICAgICAKICAgICAgICAgICAgICAgICAgICAgICAgICAgICAgICAgICAgICAgICAgICAgICAgICAgICAgICAgICAgICAgICAgICAgICAgICAgICAgICAgICAgICAgICAgICAgICAgICAgIAogICAgICAgICAgICAgICAgICAgICAgICAgICAgICAgICAgICAgICAgICAgICAgICAgICAgICAgICAgICAgICAgICAgICAgICAgICAgICAgICAgICAgICAgICAgICAgICAgICAgCiAgICAgICAgICAgICAgICAgICAgICAgICAgICA8P3hwYWNrZXQgZW5kPSd3Jz8+/9sAQwAHBQUGBQQHBgUGCAcHCAoRCwoJCQoVDxAMERgVGhkYFRgXGx4nIRsdJR0XGCIuIiUoKSssKxogLzMvKjInKisq/9sAQwEHCAgKCQoUCwsUKhwYHCoqKioqKioqKioqKioqKioqKioqKioqKioqKioqKioqKioqKioqKioqKioqKioqKioq/8AAEQgBeQLrAwEiAAIRAQMRAf/EAB8AAAEFAQEBAQEBAAAAAAAAAAABAgMEBQYHCAkKC//EALUQAAIBAwMCBAMFBQQEAAABfQECAwAEEQUSITFBBhNRYQcicRQygZGhCCNCscEVUtHwJDNicoIJChYXGBkaJSYnKCkqNDU2Nzg5OkNERUZHSElKU1RVVldYWVpjZGVmZ2hpanN0dXZ3eHl6g4SFhoeIiYqSk5SVlpeYmZqio6Slpqeoqaqys7S1tre4ubrCw8TFxsfIycrS09TV1tfY2drh4uPk5ebn6Onq8fLz9PX29/j5+v/EAB8BAAMBAQEBAQEBAQEAAAAAAAABAgMEBQYHCAkKC//EALURAAIBAgQEAwQHBQQEAAECdwABAgMRBAUhMQYSQVEHYXETIjKBCBRCkaGxwQkjM1LwFWJy0QoWJDThJfEXGBkaJicoKSo1Njc4OTpDREVGR0hJSlNUVVZXWFlaY2RlZmdoaWpzdHV2d3h5eoKDhIWGh4iJipKTlJWWl5iZmqKjpKWmp6ipqrKztLW2t7i5usLDxMXGx8jJytLT1NXW19jZ2uLj5OXm5+jp6vLz9PX29/j5+v/aAAwDAQACEQMRAD8A910rQJdDtXt9JbT7WF5GlZI7N+WPU/63/wDV0rG0PWfFV1phXStC0ea0s7iewjludYlikk+zyvAXKLbOFyYycbjgHrXa1zfgP/kXbr/sNar/AOnC4oAPt3jf/oXvD/8A4Pp//kOj7d43/wChe8P/APg+n/8AkOukooA5v7d43/6F7w//AOD6f/5Do+3eN/8AoXvD/wD4Pp//AJDrpKKAOb+3eN/+he8P/wDg+n/+Q6Pt3jf/AKF7w/8A+D6f/wCQ66SigDm/t3jf/oXvD/8A4Pp//kOj7d43/wChe8P/APg+n/8AkOrvinXf+Ea8M3eri1a8+zBT5COEL5YLgE8Z57/p1q7pst/NYI+rWsFpdHO6G3uDOqjPHzlEycdeOPU9aAMX7d43/wChe8P/APg+n/8AkOj7d43/AOhe8P8A/g+n/wDkOukooA5v7d43/wChe8P/APg+n/8AkOj7d43/AOhe8P8A/g+n/wDkOukooA5v7d43/wChe8P/APg+n/8AkOj7d43/AOhe8P8A/g+n/wDkOukooA42LxH4xm1+70hfDehi4tbWC6djrs2wrK0qqAfsmc5hbPHcdecXvt3jf/oXvD//AIPp/wD5Dosf+Sp67/2BdN/9H31dJQBzf27xv/0L3h//AMH0/wD8h0fbvG//AEL3h/8A8H0//wAh10lFAHN/bvG//QveH/8AwfT/APyHR9u8b/8AQveH/wDwfT//ACHXSUUAc39u8b/9C94f/wDB9P8A/IdH27xv/wBC94f/APB9P/8AIddJWfr+qf2H4b1LVvJ8/wCwWktz5W7bv2IW25wcZxjODQBl/bvG/wD0L3h//wAH0/8A8h0fbvG//QveH/8AwfT/APyHUWieLNQvtettN1nRU03+0LF76xeO888vGjIHSQBFCOBLGcKXXk4bjnqaAOb+3eN/+he8P/8Ag+n/APkOj7d43/6F7w//AOD6f/5DrpKKAOb+3eN/+he8P/8Ag+n/APkOj7d43/6F7w//AOD6f/5DrpKKAOb+3eN/+he8P/8Ag+n/APkOqN/4j8Y6de6Zaz+G9DZ9SumtYSmuzEKwhkmy2bTgbYmHGeSPqOyrm/FH/IxeDP8AsNSf+m+8oAPt3jf/AKF7w/8A+D6f/wCQ6Pt3jf8A6F7w/wD+D6f/AOQ66SigDm/t3jf/AKF7w/8A+D6f/wCQ6Pt3jf8A6F7w/wD+D6f/AOQ66SigDm/t3jf/AKF7w/8A+D6f/wCQ6Pt3jf8A6F7w/wD+D6f/AOQ66SigDm/t3jf/AKF7w/8A+D6f/wCQ6Pt3jf8A6F7w/wD+D6f/AOQ66SuI/wCE+v2ube4i0GN9GutW/sqC7+3YmLiUxNI0JjwE3K+MOWOFyACSADT+3eN/+he8P/8Ag+n/APkOj7d43/6F7w//AOD6f/5DrpKKAOb+3eN/+he8P/8Ag+n/APkOj7d43/6F7w//AOD6f/5DrpKKAOb+3eN/+he8P/8Ag+n/APkOj7d43/6F7w//AOD6f/5DrpKKAON1vxH4x0HQNQ1e88N6G9vp9rJdSrFrsxdlRSxCg2gGcDjJFXvt3jf/AKF7w/8A+D6f/wCQ6PiP/wAks8V/9gW8/wDRD10lAHN/bvG//QveH/8AwfT/APyHR9u8b/8AQveH/wDwfT//ACHXSU13SKNpJGVEUFmZjgADqSaAOd+3eN/+he8P/wDg+n/+Q6Pt3jf/AKF7w/8A+D6f/wCQ6lXx54QZgq+KtEJJwANRh5/8erfoA5v7d43/AOhe8P8A/g+n/wDkOj7d43/6F7w//wCD6f8A+Q6Z4s1m+tdW8PaLpMot7rV73a8xUMY4Il8yXAIIyQNoJHG7PXFGr+OItI8TJoR0PVru8mhM1v8AZY4mWdQQGwTINuN3JfaOOCcjIA/7d43/AOhe8P8A/g+n/wDkOj7d43/6F7w//wCD6f8A+Q63LC7F/p1vdrBPbieNZPJuIzHJHkZ2sp6MOhFcD4+8TPF400fww+ux+HrC4ge8vr9p1hdkB2rFG7cKSQcnrjp0oA6L7d43/wChe8P/APg+n/8AkOj7d43/AOhe8P8A/g+n/wDkOvItH8bSaDoVhrlt4vbUbhdUkt73SLzUvtDT2xmKq6BmLKwXaQRwRye+fXtZ8ZRaN4jtNEOj6ne3d7E0tt9lWIrLsxvGWkXaQCDlsD0JPFACfbvG/wD0L3h//wAH0/8A8h0fbvG//QveH/8AwfT/APyHWV4i8ayjwPL4j0NpYDpN8o1KyuI1EhRHCzQt1CthgwZSegwSDXcAhlDKQQRkEd6AOc+3eN/+he8P/wDg+n/+Q6Pt3jf/AKF7w/8A+D6f/wCQ66SigDjdJ8R+MdZspLq18N6GiR3VxakSa7MDuhmeFjxaHgtGSPbHTpV77d43/wChe8P/APg+n/8AkOjwH/yLt1/2GtV/9OFxXSUAc39u8b/9C94f/wDB9P8A/IdH27xv/wBC94f/APB9P/8AIddJRQBzf27xv/0L3h//AMH0/wD8h0fbvG//AEL3h/8A8H0//wAh1Y8a6+/hjwXqesQxiSa2h/co3RpGIVAfbcwrNl8Vz+HrzSvD2p2Op6zrF1ab1uLWOAJcugHmYy6BMZz8wUY4BJ4oAtfbvG//AEL3h/8A8H0//wAh0fbvG/8A0L3h/wD8H0//AMh1o6Dr1r4hsHubRJoWhma3uLedQskEq/eRgCRkZHQkEEEE1l+L/EV/4bvdBmhit30y7v1s795FYvF5nEbqQQAA3ByD1HSgB/27xv8A9C94f/8AB9P/APIdH27xv/0L3h//AMH0/wD8h0zw54iv/EHibXkjigXRNNmFnBMFbzJp1H73nONqk7eB178Vqa5r1toNvA88U1xNdTrb21rbqDJPI3RVyQBwCSSQAASSKAM77d43/wChe8P/APg+n/8AkOj7d43/AOhe8P8A/g+n/wDkOqD+LbvxBFr+j6HZajpGsabah2mvIoSkMrAmNMB23bgCcgFcZ5zit3wrri+JfCemayqeWb23SVkHRWI+YfQHNAFH7d43/wChe8P/APg+n/8AkOj7d43/AOhe8P8A/g+n/wDkOukooA5v7d43/wChe8P/APg+n/8AkOqMXiPxjNr93pC+G9DFxa2sF07HXZthWVpVUA/ZM5zC2eO46847Kubsf+Sp67/2BdN/9H31AB9u8b/9C94f/wDB9P8A/IdH27xv/wBC94f/APB9P/8AIddJWXqfifQdFuVt9Y1vTtPnZA6xXV3HExUkjcAxBxkEZ9jQBn/bvG//AEL3h/8A8H0//wAh0fbvG/8A0L3h/wD8H0//AMh1fTxLpFzot5qmm6jaaha2cbvLJaTrKq7V3EEqSAcdq56w8X3mj/C+18VeJobi+Nwn2ydLJIh9mikJZAAzLlVUovVmJ555wAaX27xv/wBC94f/APB9P/8AIdH27xv/ANC94f8A/B9P/wDIdXdC1/8Atwzf8SnU9PWNUdGvoBGJkfOCuGP93lThhkZAzVL4g+JJfCPgHVdbto1knto1ESt03u6opPsCwP4UAH27xv8A9C94f/8AB9P/APIdH27xv/0L3h//AMH0/wD8h15ZFfwN4uisrr4pSbpNEe4k1CPWVFul95ygKEDeXgKT8mORz716Z8NfFFz4u8E2+o6gIvtiSPbzvCcxyMjY3r7EYP40AT/bvG//AEL3h/8A8H0//wAh0fbvG/8A0L3h/wD8H0//AMh0/XfGEWha9p+kNpOpXtzqSO1qbRYisjJyy5aRdpAIOSAuD1zkVkeIfGU7+BtQ1zQDJa3WiXQ+32N1Gm/EbDzYW5IGUOQyk54weaANT7d43/6F7w//AOD6f/5Do+3eN/8AoXvD/wD4Pp//AJDroIJkubeOeI5SVA6n1BGRUGo3k9jaiW20261F9wHk2rRK2PX946Lj8c89KAMb7d43/wChe8P/APg+n/8AkOj7d43/AOhe8P8A/g+n/wDkOs7XvHWp6Dbxaje+FNRtdJhf/iYXFxNbEwxngOqxzMWwxGRjp9K7G3uIru1iuLdt8UyB0bGMqRkHn2oA5a+8ReKtIW2uNV8P6OtpLe21pI9trMskiedOkIYK1qobBkBxuHArra5vx5/yLtr/ANhrSv8A04W9dJQAVzfgP/kXbr/sNar/AOnC4rpK5vwH/wAi7df9hrVf/ThcUAdJRRRQAUUUUAFFFFAGfrujW/iDRZ9MvXlSGfbuaIgMNrBhjII6j0rQoooAKKKKACiiigAooooA5ux/5Knrv/YF03/0ffV0lc3Y/wDJU9d/7Aum/wDo++rpKACiiigAooooAKyPF1jcap4J1ywsY/NubrTriGGPcF3O0bKoyeBkkcmteigDmfDXhBdInt7++1C/1C8hsltIBevGws4+CyIUUFslUyzl2Oxfm656aiigAooooAKKKKACub8Uf8jF4M/7DUn/AKb7yukrm/FH/IxeDP8AsNSf+m+8oA6SiiigAooooAKKKKACuB1fwBLBeafNol7qEtrHrsWoNprTRrb2+6XfLIvyhzyWbYWYAscKOMd9RQAUUUUAFFFFABRRRQBzfxH/AOSWeK/+wLef+iHrpK5v4j/8ks8V/wDYFvP/AEQ9dJQAUUUUAZviHQrXxLoVxpN+8qW9xt3tCwDfKwYYJB7qO1aVFFAHP+J9AudVu9G1LTJYor/Sb1Z4/OJCyRMNkqEgEjKMcHB5AqO/8IPeeJv7di8RatZ3Qt2to1gW2KRxMVZlAeFicsgOSSfQ44rpKKACuY8SeGb2913TvEPh+5gttWsEeHbcoTFcwv1jfHK8jIYdD2NdPRQB5fonw416TTLTR/Et3p8ekW2oPqElvYu8j3TmQyKjMyrtQE8gAk46jtpeLtH1nUfiJod9p1pqkVrY280b39hNbKyNIUx8srfMoCncCh6jAJ6d9RQBxur+A/tPhRtA065Yw6hfpcatc3UmZrhCwaUggY3ttVcABQOg4ArsqKKACiiigDm/Af8AyLt1/wBhrVf/AE4XFdJXN+A/+Rduv+w1qv8A6cLiukoAKKKKAMnxToMXifwtqGjTuY1vISgkAzsbqrfgwB/CuN1rRvE9/wCLfDF5Pa3yS2FjJFeajpM9uFWaTYCVWYjcnytkMh4IwCRkekUUAZuhaFbaBZSwWrzTPPM1xcXE7hpJ5W+87YAGeAMAAAAAAUuv6JaeI9ButJ1DzBb3SbWaIgOhBBVlJBwQQCOOorRooAzfD+hWnhvQ7fSrAyNDAD+8lILyMSWZmIAyxJJPHek1zQbbXre3WeWa3ntJ1uLa5t2AkgkGRuGQQeCQQwIIJyK06KAPMtG8P+KbXVvGhgivxNq9vEtlqWrz25G9FZDkQElR8+VAQDC84PB73QNHg8PeHrDSLQlobKBIVY9WwMZPuTz+NaFFABRRRQAVzdj/AMlT13/sC6b/AOj76ukrm7H/AJKnrv8A2BdN/wDR99QB0lYWt67e6XepDa6b9qRow5fbcnByRj91BIO3qDz06E7tFXCUYyvJXRMk2tHY85s7mayXWVXQ5ZV1md57oSLekZaNUKriyGBhe+TyeaXQvDd3r3w9j8J63e3lrb2cSQGe1heJriIE7VIuLcY2hUGUySRk4zg+i0VrOpScbRhZ+pMYzT1lf5FTTbKextTFdaldak5csJrpYlYDA+X92iDHHpnnrVbxLoFp4o8NX2i6hkQXkexmXqpzlWHuCAfwrn9M+IVr/YE/iDxBIljpE2oPbWEyQyP+7VvLDysuQu51bBO0AY5PWt/SPEul65cTW9hNKLiBVeSC5tpbeQK3RtkiqxU46gYrnNDil8K+P4/FMerDUNDkuI9KbSxev5u8gyBxMYtuN/y9N+CTnpxXZeFfDdt4U8OW+k2kkk4j3PJPKfmmkYlmc/Uk/Sn+KNXuNA8L6hq1nY/2hLZwmb7N5vl71Xlvmwei5PTnGKyj43juNY8OafpNn9tbW7Y3rv5u0WtuFB8w8HOSwUDjnvQBneNtJ1jUvGvhy60yy1QW+npOZb3T5rZHjaQKAAsrYbGw7gVIwwxk9LOseBXn8JXmiaXdsX1a7WXVL27fM0yFh5hG1Qu4qoUKAqgeldfLLHBC808ixxRqWd3OFUDkkk9BXO2/xC8OXV9Y2cF1dG41Ej7Ih0+4Xz1IzvUmPBTHO/7oHJOKAOjjjWKNY4xtRAFUDsBVbUdK0/WLUW2r2FrfwBg4iuoVlXcOhwwIzyayfCfiC51kapaapFFDqOlXz2s6wghHXho3XJJwUZe/UGuhoA5iX4b+EJNQsrxPD2nW8llL5sYt7WOMM2MAttA3Y6gHjPPaunoooA5vx5/yLtr/ANhrSv8A04W9dJXN+PP+Rdtf+w1pX/pwt66SgArm/Af/ACLt1/2GtV/9OFxXSV5/4T8W6dpml31pc22sPLHrWqbmttEvLiM5v5zxJHEynr2JweOooA9Aorm/+E80j/nz8Qf+E5qH/wAYo/4TzSP+fPxB/wCE5qH/AMYoA6Siub/4TzSP+fPxB/4Tmof/ABij/hPNI/58/EH/AITmof8AxigDpKK5v/hPNI/58/EH/hOah/8AGKP+E80j/nz8Qf8AhOah/wDGKAOkorm/+E80j/nz8Qf+E5qH/wAYo/4TzSP+fPxB/wCE5qH/AMYoA6Siub/4TzSP+fPxB/4Tmof/ABij/hPNI/58/EH/AITmof8AxigDpKK5v/hPNI/58/EH/hOah/8AGKP+E80j/nz8Qf8AhOah/wDGKAOkorm/+E80j/nz8Qf+E5qH/wAYo/4TzSP+fPxB/wCE5qH/AMYoALH/AJKnrv8A2BdN/wDR99XSV53Z+NNLX4k6zcG11zZJpNggA0C+LgrNeE5TydwHzDBIweQCdpx0H/CeaR/z5+IP/Cc1D/4xQB0lFc3/AMJ5pH/Pn4g/8JzUP/jFH/CeaR/z5+IP/Cc1D/4xQB0lFc3/AMJ5pH/Pn4g/8JzUP/jFH/CeaR/z5+IP/Cc1D/4xQB0lFc3/AMJ5pH/Pn4g/8JzUP/jFH/CeaR/z5+IP/Cc1D/4xQB0lFc3/AMJ5pH/Pn4g/8JzUP/jFH/CeaR/z5+IP/Cc1D/4xQB0lFc3/AMJ5pH/Pn4g/8JzUP/jFH/CeaR/z5+IP/Cc1D/4xQB0lFc3/AMJ5pH/Pn4g/8JzUP/jFH/CeaR/z5+IP/Cc1D/4xQB0lc34o/wCRi8Gf9hqT/wBN95R/wnmkf8+fiD/wnNQ/+MVz/iPxppc2veE3S11wCHVpHYPoF8pI+w3S/KDCCxyw4XJxk4wCQAeiUVzf/CeaR/z5+IP/AAnNQ/8AjFH/AAnmkf8APn4g/wDCc1D/AOMUAdJRXN/8J5pH/Pn4g/8ACc1D/wCMUf8ACeaR/wA+fiD/AMJzUP8A4xQB0lFc3/wnmkf8+fiD/wAJzUP/AIxR/wAJ5pH/AD5+IP8AwnNQ/wDjFAHSUVzf/CeaR/z5+IP/AAnNQ/8AjFH/AAnmkf8APn4g/wDCc1D/AOMUAdJRXN/8J5pH/Pn4g/8ACc1D/wCMUf8ACeaR/wA+fiD/AMJzUP8A4xQB0lFc3/wnmkf8+fiD/wAJzUP/AIxR/wAJ5pH/AD5+IP8AwnNQ/wDjFAHSUVzf/CeaR/z5+IP/AAnNQ/8AjFH/AAnmkf8APn4g/wDCc1D/AOMUAHxH/wCSWeK/+wLef+iHrpK878feNNLuvht4lt4rXXFebSbpFMugX0aAmFgNztCFUepJAHUmug/4TzSP+fPxB/4Tmof/ABigDpKK5v8A4TzSP+fPxB/4Tmof/GKP+E80j/nz8Qf+E5qH/wAYoA6Siub/AOE80j/nz8Qf+E5qH/xij/hPNI/58/EH/hOah/8AGKAOkorm/wDhPNI/58/EH/hOah/8Yo/4TzSP+fPxB/4Tmof/ABigDpKK5v8A4TzSP+fPxB/4Tmof/GKP+E80j/nz8Qf+E5qH/wAYoA6Siub/AOE80j/nz8Qf+E5qH/xij/hPNI/58/EH/hOah/8AGKAOkorm/wDhPNI/58/EH/hOah/8Yo/4TzSP+fPxB/4Tmof/ABigDpKK5v8A4TzSP+fPxB/4Tmof/GKP+E80j/nz8Qf+E5qH/wAYoAPAf/Iu3X/Ya1X/ANOFxXSV534L8aaXbaDcpJa64SdW1JwY9AvnGGvp2HKwkZwRkdQcggEEV0H/AAnmkf8APn4g/wDCc1D/AOMUAdJRXN/8J5pH/Pn4g/8ACc1D/wCMUf8ACeaR/wA+fiD/AMJzUP8A4xQB0lFc3/wnmkf8+fiD/wAJzUP/AIxR/wAJ5pH/AD5+IP8AwnNQ/wDjFAHSUVzf/CeaR/z5+IP/AAnNQ/8AjFH/AAnmkf8APn4g/wDCc1D/AOMUAdJRXN/8J5pH/Pn4g/8ACc1D/wCMUf8ACeaR/wA+fiD/AMJzUP8A4xQB0lFc3/wnmkf8+fiD/wAJzUP/AIxR/wAJ5pH/AD5+IP8AwnNQ/wDjFAHSUVzf/CeaR/z5+IP/AAnNQ/8AjFH/AAnmkf8APn4g/wDCc1D/AOMUAdJXN2P/ACVPXf8AsC6b/wCj76j/AITzSP8Anz8Qf+E5qH/xiufs/Gmlr8SdZuDa65sk0mwQAaBfFwVmvCcp5O4D5hgkYPIBO04APRKK5v8A4TzSP+fPxB/4Tmof/GKP+E80j/nz8Qf+E5qH/wAYoA6Siub/AOE80j/nz8Qf+E5qH/xij/hPNI/58/EH/hOah/8AGKAOF13QtV0b4VT+GTY3cv2fWE+wTWNs1y0lv9oWbeVUNtKgsMMADsGM557jQNEuZdZHiXVtRF5dyWQtYVj097NY4iwc7o3Zn3lgOpGMdBzTv+E80j/nz8Qf+E5qH/xij/hPNI/58/EH/hOah/8AGKAOjdFkjZJFDowIZWGQR6GuR8EeAIvB1xeTG/a/eRVt7YvFtNtbKzMkIOTnBY5PGeOOKt/8J5pH/Pn4g/8ACc1D/wCMUf8ACeaR/wA+fiD/AMJzUP8A4xQBsaxpdvrmiXul3u/7PeQPBJsOGCsMHB9ea87urPW7H4meD01K7n1S109ZoWktdCmjSLfCUV5JQXUknAONqr1IArrP+E80j/nz8Qf+E5qH/wAYo/4TzSP+fPxB/wCE5qH/AMYoAj8GaNfWM+uarrEIt73V9QabyA6t5USARxAkcE7V3H/erqK5v/hPNI/58/EH/hOah/8AGKP+E80j/nz8Qf8AhOah/wDGKAOkorm/+E80j/nz8Qf+E5qH/wAYo/4TzSP+fPxB/wCE5qH/AMYoAPHn/Iu2v/Ya0r/04W9dJXn/AIs8W6dqel2NpbW2sJLJrWl7WudEvLeMYv4DzJJEqjp3IyeOpr0CgArm/Af/ACLt1/2GtV/9OFxXSVzfgP8A5F26/wCw1qv/AKcLigDpKKKKACiiigArlfE3iTX9D1SwgsdE028t9Ru1tLeWbVJIXEhjZ8sgt3AX5GGQxPTj06qsTxHotxq93oUts8Srp2preS+YSCyCKVMLgHnLjrjjPNAEB8Z6bZ3Tadq8nk6pbwCe8t7SKa5jt12ltxkEYAXCnDMFyRjrxV7/AISXSBLaxveohu7N7+EyKyqYE2bnLEYUDzE6kHn2NZ//AAjM0ut+Jp7iWMW2s2sNvHsJLptR1YkYA/jGMH8q5dvAHiHW4baz8Qy6ZaW0Ph260QvYyySuzSiECbDooA/dn5MnHHzNn5QDtNE8V6R4hlePTJpzIkazbLm0mt2aNs7XUSqpZTg/MuR71sVxfg7wreaTqhvtX0+GO6S0+zLdL4hvNQLAspZRHcKBGpKg8EnjHvXaUAFFFFABRRRQBzdj/wAlT13/ALAum/8Ao++rpK5ux/5Knrv/AGBdN/8AR99XSUAFFFFABRRRQBheLtZ1Tw/oNzqul6baX8VnBLcXKXF61uwRF3fJiJ9xODwdvbmqcXjL+ztPtJ/Ftvb6dNqB/wBCt9Pkmvnn+UMQAsKtux/CAenWtbxNps2teEtX0u1ZEnvrGa3jaQkKGeMqCSATjJ9DWfP4eu5dW8L3SyQ7NHEgnBY5bdAYxt455PfHFAFs+K9GWxku2uysEV6lg7NDICs7OqKhG3P3nUZxgZ5PBqNfGOhvrn9krdSG58822/7LL5BmC7jF5+3y9+P4d2cgjGeK5nUvBviKeW9sLI6X/Zlzr1vq/wBolmkEwVJYZHi8sIVzmNiH3c8DaM7hHp/w7ubDxCxntY9Q07+1X1KKaTX7yIxM0pmH+hqphYq5ODkBsAkA5oA9GooooAKKKKACub8Uf8jF4M/7DUn/AKb7yukrm/FH/IxeDP8AsNSf+m+8oA6SiiigAooooAKr3z3kdjI2mQQXF0B+7iuJjCjHPdwjkcf7JqxRQBxekeOL+aw1HVfEmm6bpOk6bPPbXFzHqUlwyvFJsJ2eQvykg85zjt6bun+KNK1S4EFrLOJjbm5Ec9pLCxiDbd+HUcZ6evUZHNYFx4M1GbwJ4h0VZrUXOp391cwuXbYqyzmRQx25Bx1wDz61d1zRdabxVFrGgrp8pk097Cdb2V4/LBdWWRdqtvx82UO3PHzCgCWfx/4cgsbK8N7NLBe2gvYjb2U8xFuQD5rqiExpz95wo4Poa6KORJolkidXjdQyupyGB6EHuK8rg+GGq6fa6SUEN/LDodtpd5AmuXmmpuh3YZXgUmRT5jDDqMYBHUivTNLso9N0ezsYIFt4rWBIUhSQyLGqqAFDNywGMZPJoAtUUUUAFFFFAHN/Ef8A5JZ4r/7At5/6Ieukrm/iP/ySzxX/ANgW8/8ARD10lABRRRQAUUUUAFcdD4m8UyeMJNBfw9pCtFbR3ckw1mUjynkZBgfZRlvkJxwOnNdjWJFotwnj+51wvF9ml0yGzVATvDpLI5JGMYw47+vFAENn478PX7J9kvJZEkuVtEl+xzCN5iSuwOU2lgVIIB474qe78XaJZJetPdtmxuks5o44JJJDO6K6xoiqWkYq6nCA8Z9DjBTwdqtt4H0zT7eSyk1LTNSF/GskjrDL+/d9hcKWXKORnacHsRWVd/D3XdS+26hfSWa6hJriarDbWl/cW6FPsi27RG4RRIhA3EOo5wMqAxUAHoGk6vZa3YC802VpIt7RsJImidHU4ZWRwGVgR0IBq7WD4Q0M6FpU8ctjHZT3Ny08ypqc9/5jFVXcZZlVycKBjGBit6gAooooAKKKKAOb8B/8i7df9hrVf/ThcV0lc34D/wCRduv+w1qv/pwuK6SgAooooAKKKKAOW8UeI9f0LULGKw0XTb22v7pLSGWbVJIXEjKzfMggcBRtPIYn2qwvjHT7a8Omas4h1aGETXdtZxTXMdupUsGMgjAC4BwzBckY61N4j0a41ibRWtniUWGpx3cvmEjcio4IGAefmHXH1qCLw5MfEHiS7uJI/s2r20EEYQkuuxHViRjH8Yxg/lQBeXxLpDNYD7aq/wBoWj3tszqyq8CBCzkkYUASJ97B59jiLRPFmkeIZni0yecyLEswW4tJrcyRtwJE8xV3px95cjpzyK41fAPiHVrWx0/X5dMtrOz8P3eieZZSySySeckSedhkULxF9zJx/ebPGr4N8JXmj6qt7q2nwrdQ2ZtUvF8QXl+WUshYCKdQsakop4YkYA560AdtRRRQAUUUUAFc3Y/8lT13/sC6b/6Pvq6Subsf+Sp67/2BdN/9H31AHSUUUUAFFFFABWL4q1bVND0SfUdK060v1tYZJ7hLm9a3IRFLfLtifceDwcfWtqs/xBYS6r4Z1PTrdkWa7s5YI2kJChnQqCcZ4yaAMS38a/YtNsrnxZb2+nSalg2NvYSzXzz/ACbiNqwK24D+EA9DWo3irRksLi8e7KwWt2llMzQuCkzsiqhG3PLSIM4wM89Dii3hy7OoeFJ/Mh26Kki3A3HL7oPLGzjnn1xxWFq3g7xFcPqmn2B0v+zNQ1m21UzzTSCZfLkhd4tgQryYSQ27vjb/ABAA6f8A4THRP7c/sn7VIbnz/s28WspgE23d5Xn7fL34/h3ZzxjPFbdec2vw7ubTxLLJNaR6jp0msNqiSya/eQeS7Ted/wAeiqYXKPkg5G7Azzkn0agAooooAKKKKAOb8ef8i7a/9hrSv/Thb10lc348/wCRdtf+w1pX/pwt66SgArm/Af8AyLt1/wBhrVf/AE4XFdJXN+A/+Rduv+w1qv8A6cLigDpKKKKACiiigAooooAKKKKACiiigAooooAKKKKAObsf+Sp67/2BdN/9H31dJXN2P/JU9d/7Aum/+j76ukoAKKKKACiiigAooooAKKKKACiiigAooooAK5vxR/yMXgz/ALDUn/pvvK6Sub8Uf8jF4M/7DUn/AKb7ygDpKKKKACiiigAooooAKKKKACiiigAooooAKKKKAOb+I/8AySzxX/2Bbz/0Q9dJXN/Ef/klniv/ALAt5/6IeukoAKKKKACiiigAooooAKKKKACiiigAooooAKKKKAOb8B/8i7df9hrVf/ThcV0lc34D/wCRduv+w1qv/pwuK6SgAooooAKKKKACiiigAooooAKKKKACiiigArm7H/kqeu/9gXTf/R99XSVzdj/yVPXf+wLpv/o++oA6SiiigAooooAKKKKACiiigAooooAKKKKACiiigDm/Hn/Iu2v/AGGtK/8AThb10lc348/5F21/7DWlf+nC3rpKACvP/Cfi3TtM0u+tLm21h5Y9a1Tc1tol5cRnN/OeJI4mU9exODx1FegVzfgP/kXbr/sNar/6cLigA/4TzSP+fPxB/wCE5qH/AMYo/wCE80j/AJ8/EH/hOah/8YrpKKAOb/4TzSP+fPxB/wCE5qH/AMYo/wCE80j/AJ8/EH/hOah/8YrpKKAOb/4TzSP+fPxB/wCE5qH/AMYo/wCE80j/AJ8/EH/hOah/8YrpK5XxN4k1/Q9UsILHRNNvLfUbtbS3lm1SSFxIY2fLILdwF+RhkMT049ACb/hPNI/58/EH/hOah/8AGKP+E80j/nz8Qf8AhOah/wDGKcfGem2d02navJ5OqW8AnvLe0imuY7ddpbcZBGAFwpwzBckY68Ve/wCEl0gS2sb3qIbuze/hMisqmBNm5yxGFA8xOpB59jQBn/8ACeaR/wA+fiD/AMJzUP8A4xR/wnmkf8+fiD/wnNQ/+MVc0TxXpHiGV49MmnMiRrNsubSa3Zo2ztdRKqllOD8y5HvWxQBzf/CeaR/z5+IP/Cc1D/4xR/wnmkf8+fiD/wAJzUP/AIxXSUUAc3/wnmkf8+fiD/wnNQ/+MUf8J5pH/Pn4g/8ACc1D/wCMV0lFAHndn400tfiTrNwbXXNkmk2CADQL4uCs14TlPJ3AfMMEjB5AJ2nHQf8ACeaR/wA+fiD/AMJzUP8A4xRY/wDJU9d/7Aum/wDo++rpKAOb/wCE80j/AJ8/EH/hOah/8Yo/4TzSP+fPxB/4Tmof/GK6SigDm/8AhPNI/wCfPxB/4Tmof/GKP+E80j/nz8Qf+E5qH/xiukooA5v/AITzSP8Anz8Qf+E5qH/xij/hPNI/58/EH/hOah/8YqfxdrOqeH9BudV0vTbS/is4Jbi5S4vWt2CIu75MRPuJweDt7c1Ti8Zf2dp9pP4tt7fTptQP+hW+nyTXzz/KGIAWFW3Y/hAPTrQBL/wnmkf8+fiD/wAJzUP/AIxR/wAJ5pH/AD5+IP8AwnNQ/wDjFXD4r0ZbGS7a7KwRXqWDs0MgKzs6oqEbc/edRnGBnk8Go18Y6G+uf2St1Ibnzzbb/ssvkGYLuMXn7fL34/h3ZyCMZ4oAr/8ACeaR/wA+fiD/AMJzUP8A4xR/wnmkf8+fiD/wnNQ/+MV0lFAHN/8ACeaR/wA+fiD/AMJzUP8A4xR/wnmkf8+fiD/wnNQ/+MV0lFAHN/8ACeaR/wA+fiD/AMJzUP8A4xXP+I/Gmlza94TdLXXAIdWkdg+gXykj7DdL8oMILHLDhcnGTjAJHolc34o/5GLwZ/2GpP8A033lAB/wnmkf8+fiD/wnNQ/+MUf8J5pH/Pn4g/8ACc1D/wCMV0lFAHN/8J5pH/Pn4g/8JzUP/jFH/CeaR/z5+IP/AAnNQ/8AjFdJRQBzf/CeaR/z5+IP/Cc1D/4xR/wnmkf8+fiD/wAJzUP/AIxXSVi+Ldel8NeHJNStrRLyYT28EcEkxiVmmnSIEuFYgAyZ+6elAFX/AITzSP8Anz8Qf+E5qH/xij/hPNI/58/EH/hOah/8YqY+IZ9K09ZfFVrFaXMspSG20pp9QaRQAchVhV+Oc4QgDBzzxnt47sv7ZtZEu7b+wJtDm1Vr1gwKhJIxn2G12yCM5GOOlAFr/hPNI/58/EH/AITmof8Axij/AITzSP8Anz8Qf+E5qH/xippPGejw6bHezm/hSaf7PDDLpdylxM+3cQkBj8x+MnKqRgH0ONPS9Us9a02K/wBNm862lztYqVIIJVlKsAVYMCCpAIIIIBFAGN/wnmkf8+fiD/wnNQ/+MUf8J5pH/Pn4g/8ACc1D/wCMV0lFAHN/8J5pH/Pn4g/8JzUP/jFH/CeaR/z5+IP/AAnNQ/8AjFdJRQB534+8aaXdfDbxLbxWuuK82k3SKZdAvo0BMLAbnaEKo9SSAOpNdB/wnmkf8+fiD/wnNQ/+MUfEf/klniv/ALAt5/6IeukoA5v/AITzSP8Anz8Qf+E5qH/xij/hPNI/58/EH/hOah/8YrpKKAOb/wCE80j/AJ8/EH/hOah/8Yo/4TzSP+fPxB/4Tmof/GK6SigDm/8AhPNI/wCfPxB/4Tmof/GKP+E80j/nz8Qf+E5qH/xiukrjofE3imTxhJoL+HtIVoraO7kmGsykeU8jIMD7KMt8hOOB05oAu/8ACeaR/wA+fiD/AMJzUP8A4xR/wnmkf8+fiD/wnNQ/+MU+z8d+Hr9k+yXksiSXK2iS/Y5hG8xJXYHKbSwKkEA8d8VPd+LtEskvWnu2zY3SWc0ccEkkhndFdY0RVLSMVdThAeM+hwAVf+E80j/nz8Qf+E5qH/xij/hPNI/58/EH/hOah/8AGK19J1ey1uwF5psrSRb2jYSRNE6OpwysjgMrAjoQDV2gDm/+E80j/nz8Qf8AhOah/wDGKP8AhPNI/wCfPxB/4Tmof/GK6SigDm/+E80j/nz8Qf8AhOah/wDGKP8AhPNI/wCfPxB/4Tmof/GK6SigDzvwX400u20G5SS11wk6tqTgx6BfOMNfTsOVhIzgjI6g5BAIIroP+E80j/nz8Qf+E5qH/wAYo8B/8i7df9hrVf8A04XFdJQBzf8Awnmkf8+fiD/wnNQ/+MUf8J5pH/Pn4g/8JzUP/jFdJRQBzf8Awnmkf8+fiD/wnNQ/+MUf8J5pH/Pn4g/8JzUP/jFdJRQBzf8Awnmkf8+fiD/wnNQ/+MUf8J5pH/Pn4g/8JzUP/jFReKPEev6FqFjFYaLpt7bX90lpDLNqkkLiRlZvmQQOAo2nkMT7VYXxjp9teHTNWcQ6tDCJru2s4prmO3UqWDGQRgBcA4ZguSMdaAGf8J5pH/Pn4g/8JzUP/jFH/CeaR/z5+IP/AAnNQ/8AjFaC+JdIZrAfbVX+0LR722Z1ZVeBAhZySMKAJE+9g8+xxFonizSPEMzxaZPOZFiWYLcWk1uZI24EieYq704+8uR055FAFT/hPNI/58/EH/hOah/8Yo/4TzSP+fPxB/4Tmof/ABiukooA5v8A4TzSP+fPxB/4Tmof/GKP+E80j/nz8Qf+E5qH/wAYrpKKAOb/AOE80j/nz8Qf+E5qH/xiufs/Gmlr8SdZuDa65sk0mwQAaBfFwVmvCcp5O4D5hgkYPIBO049Erm7H/kqeu/8AYF03/wBH31AB/wAJ5pH/AD5+IP8AwnNQ/wDjFH/CeaR/z5+IP/Cc1D/4xXSUUAc3/wAJ5pH/AD5+IP8AwnNQ/wDjFH/CeaR/z5+IP/Cc1D/4xXSUUAc3/wAJ5pH/AD5+IP8AwnNQ/wDjFH/CeaR/z5+IP/Cc1D/4xXSVi+KtW1TQ9En1HStOtL9bWGSe4S5vWtyERS3y7Yn3Hg8HH1oAq/8ACeaR/wA+fiD/AMJzUP8A4xR/wnmkf8+fiD/wnNQ/+MVBb+NfsWm2Vz4st7fTpNSwbG3sJZr55/k3EbVgVtwH8IB6GtRvFWjJYXF492VgtbtLKZmhcFJnZFVCNueWkQZxgZ56HABS/wCE80j/AJ8/EH/hOah/8Yo/4TzSP+fPxB/4Tmof/GKs/wDCY6J/bn9k/apDc+f9m3i1lMAm27vK8/b5e/H8O7OeMZ4rboA5v/hPNI/58/EH/hOah/8AGKP+E80j/nz8Qf8AhOah/wDGK6SigDm/+E80j/nz8Qf+E5qH/wAYo/4TzSP+fPxB/wCE5qH/AMYrpKKAPP8AxZ4t07U9LsbS2ttYSWTWtL2tc6JeW8YxfwHmSSJVHTuRk8dTXoFc348/5F21/wCw1pX/AKcLeukoAK5vwH/yLt1/2GtV/wDThcV0lc34D/5F26/7DWq/+nC4oA6SiiigAooooAKxPEei3Gr3ehS2zxKunamt5L5hILIIpUwuAecuOuOM81t0UAc3/wAIzNLrfiae4ljFtrNrDbx7CS6bUdWJGAP4xjB/KuXbwB4h1uG2s/EMumWltD4dutEL2Mskrs0ohAmw6KAP3Z+TJxx8zZ+X0yigDi/B3hW80nVDfavp8Md0lp9mW6XxDeagWBZSyiO4UCNSVB4JPGPeu0oooAKKKKACiiigDm7H/kqeu/8AYF03/wBH31dJXN2P/JU9d/7Aum/+j76ukoAKKKKACiiigDM8TabNrXhLV9LtWRJ76xmt42kJChnjKgkgE4yfQ1nz+HruXVvC90skOzRxIJwWOW3QGMbeOeT3xxXR0UAee6l4N8RTy3thZHS/7Mudet9X+0SzSCYKksMjxeWEK5zGxD7ueBtGdwj0/wCHdzYeIWM9rHqGnf2q+pRTSa/eRGJmlMw/0NVMLFXJwcgNgEgHNejUUAFFFFABRRRQAVzfij/kYvBn/Yak/wDTfeV0lc34o/5GLwZ/2GpP/TfeUAdJRRRQAUUUUAFYHjfw8/inwrJpMa27CW6tZJEuRmN447iOR1Iwc5VGGMYJPPFb9FAHF674Nmhs7G18GWdnp9hFO8t3p1peSaStwzJhX822QuCuPu4w2Rk/KKzNF+H2p6VYWEN7Fpmqi20S506a2nmkWO4eWdJBlijnbtU5JDHPr1r0eigDzF/h7r8tlZzTXQkmsb2WW20/+3LxRFA8SoYxeqomJDKXGVIwSmMYI7Twpo/9h6Ctq1lHZSvLJNLHHfy3oLuxJYzSqHYnOTkdSevWtqigAooooAKKKKAOb+I//JLPFf8A2Bbz/wBEPXSVzfxH/wCSWeK/+wLef+iHrpKACiiigAooooAKxItFuE8f3OuF4vs0umQ2aoCd4dJZHJIxjGHHf14rbooA4dPB2q23gfTNPt5LKTUtM1IX8aySOsMv7932FwpZco5GdpwexFZV38Pdd1L7bqF9JZrqEmuJqsNtaX9xboU+yLbtEbhFEiEDcQ6jnAyoDFR6bRQBg+ENDOhaVPHLYx2U9zctPMqanPf+YxVV3GWZVcnCgYxgYreoooAKKKKACiiigDm/Af8AyLt1/wBhrVf/AE4XFdJXN+A/+Rduv+w1qv8A6cLiukoAKKKKACiiigDE8R6NcaxNorWzxKLDU47uXzCRuRUcEDAPPzDrj61BF4cmPiDxJd3Ekf2bV7aCCMISXXYjqxIxj+MYwfyroqKAPNF8A+IdWtbHT9fl0y2s7Pw/d6J5llLJLJJ5yRJ52GRQvEX3MnH95s8avg3wleaPqq3urafCt1DZm1S8XxBeX5ZSyFgIp1CxqSinhiRgDnrXbUUAFFFFABRRRQAVzdj/AMlT13/sC6b/AOj76ukrm7H/AJKnrv8A2BdN/wDR99QB0lFFFABRRRQAVn+ILCXVfDOp6dbsizXdnLBG0hIUM6FQTjPGTWhRQBzTeHLs6h4Un8yHboqSLcDccvug8sbOOefXHFYWreDvEVw+qafYHS/7M1DWbbVTPNNIJl8uSF3i2BCvJhJDbu+Nv8Q9CooA85tfh3c2niWWSa0j1HTpNYbVElk1+8g8l2m87/j0VTC5R8kHI3YGeck+jUUUAFFFFABRRRQBzfjz/kXbX/sNaV/6cLeukrm/Hn/Iu2v/AGGtK/8AThb10lABXN+A/wDkXbr/ALDWq/8ApwuK6Sub8B/8i7df9hrVf/ThcUAdJRRRQAUUUUAFFFFABRRRQAUUUUAFFFFABRRRQBzdj/yVPXf+wLpv/o++rpK5ux/5Knrv/YF03/0ffV0lABRRRQAUUUUAFFFFABRRRQAUUUUAFFFFABXN+KP+Ri8Gf9hqT/033ldJXN+KP+Ri8Gf9hqT/ANN95QB0lFFFABRRRQAUUUUAFFFFABRRRQAUUUUAFFFFAHN/Ef8A5JZ4r/7At5/6Ieukrm/iP/ySzxX/ANgW8/8ARD10lABRRRQAUUUUAFFFFABRRRQAUUUUAFFFFABRRRQBzfgP/kXbr/sNar/6cLiukrm/Af8AyLt1/wBhrVf/AE4XFdJQAUUUUAFFFFABRRRQAUUUUAFFFFABRRRQAVzdj/yVPXf+wLpv/o++rpK5ux/5Knrv/YF03/0ffUAdJRRRQAUUUUAFFFFABRRRQAUUUUAFFFFABRRRQBzfjz/kXbX/ALDWlf8Apwt66Sub8ef8i7a/9hrSv/Thb10lABXn/hPwV4V1fS76+1Xw1o99dy61qnmXFzYRSSPi/nAyzKScAAfQV6BXN+A/+Rduv+w1qv8A6cLigA/4Vx4I/wChN8P/APgrg/8AiaP+FceCP+hN8P8A/grg/wDia6SigDm/+FceCP8AoTfD/wD4K4P/AImj/hXHgj/oTfD/AP4K4P8A4mukooA5v/hXHgj/AKE3w/8A+CuD/wCJrn9Z074X6DqEdlqfgyxWaVxHF5PhWSZJHKlgqvHAys2ATgEng+leiVzPjC0uLrUPCzW0Esywa2kspjQsI08iYbmx0GSBk9yKAI7TwF4EvbOK5h8F6KscqhlE2ixxOB7o6BlPsQDU3/CuPBH/AEJvh/8A8FcH/wATWHeeFE1fxj4turrTBLM9hBFp1xcRZVHaKVWMZbgNyoJHOMAmufYa5rS6Ynh/TdWsL+z8I3tktxdWklsIrxhbBYw7gDcChww+U4+Vjg4AO8/4Vx4I/wChN8P/APgrg/8AiaP+FceCP+hN8P8A/grg/wDia5f4Z6OtjrMlxahbGM2CxTWEHhi60tHcMCJHeV2WWRfmXKnJ3EkkAV6ZQBzf/CuPBH/Qm+H/APwVwf8AxNH/AArjwR/0Jvh//wAFcH/xNdJRQBzf/CuPBH/Qm+H/APwVwf8AxNH/AArjwR/0Jvh//wAFcH/xNdJRQB53Z+AfB7fEnWbVvCehm3j0mwkSI6bDsVmmvAzAbcAkIoJ77R6Cug/4Vx4I/wChN8P/APgrg/8AiaLH/kqeu/8AYF03/wBH31dJQBzf/CuPBH/Qm+H/APwVwf8AxNH/AArjwR/0Jvh//wAFcH/xNdJRQBzf/CuPBH/Qm+H/APwVwf8AxNH/AArjwR/0Jvh//wAFcH/xNdJRQBwetaD8M9AvLS11DwfpTXN4sjwQ2nhz7U7rHt3nbFExAG9eTjrWnbeAPAt1axXEXgzQ1SZA6iXRoo3AIyNyMgZT6ggEdCKqeKdG1DVPiJ4bksL3UNNigsNQEt7ZQxvsLNbbUYyxug3bWI4ydpx0Nch8Q7DU7jWpI7fSZLq9s1szZag2jTXdzOVcM8kdzGVitSMHKBctgnHzKKAOu0rwl8P9Xn1KK28FaIradeGzl8zSrcBnCI+VwDxhx1xznitH/hXHgj/oTfD/AP4K4P8A4muJ1rRBNBrjanbXQx4kku7WCXQ59StrsfZY0/ewxrlk5bDZADqDkkYrJ1zQ9S1K88zXNMTSEuNItUsFi8O3OqNpbhDvW3a3cfZ3R8HO3nCYJ24AB6Z/wrjwR/0Jvh//AMFcH/xNH/CuPBH/AEJvh/8A8FcH/wATXQQB1t4xLJ5rhAGcrt3HHJx2+lSUAc3/AMK48Ef9Cb4f/wDBXB/8TR/wrjwR/wBCb4f/APBXB/8AE10lFAHN/wDCuPBH/Qm+H/8AwVwf/E1z/iPwD4Pg17wnHB4T0ONLjVpI5lTTYQJF+w3TbWAXkblU4PdQe1eiVzfij/kYvBn/AGGpP/TfeUAH/CuPBH/Qm+H/APwVwf8AxNH/AArjwR/0Jvh//wAFcH/xNdJRQBzf/CuPBH/Qm+H/APwVwf8AxNH/AArjwR/0Jvh//wAFcH/xNdJRQBzf/CuPBH/Qm+H/APwVwf8AxNV77wL4D06xku7jwXozxxDLLb6Gk7nnHCJGWb8Aa6yigDz3Q9L+GHiK6eDSvBtg7Rs6O83hZ4I1ZDhlLyQqoYHjbnPXit7/AIVx4I/6E3w//wCCuD/4muWvdJ1GT4V+L7NbG7+03Oq3zwxJG4kkVrklWQDkgjkEfUVevNPtfCHjKGbTNDuV06fSJbWJNLsGkUT+aG2tsHyltxO98LwcsKANv/hXHgj/AKE3w/8A+CuD/wCJo/4Vx4I/6E3w/wD+CuD/AOJryn/hG9TbRvDkOv2O2xXwxbW0C3fhy51RrO4APnYjhZWgkwY/nIydmARtIPt2jRSwaFYRXN1JeTR20ayXMsRjeZgoBdkPKknkg8jOKAMf/hXHgj/oTfD/AP4K4P8A4mj/AIVx4I/6E3w//wCCuD/4mukooA5v/hXHgj/oTfD/AP4K4P8A4mj/AIVx4I/6E3w//wCCuD/4mukooA878feAfB9n8NvEt1Z+E9DguIdJupIpYtNhV42ELEMpC5BBGQRXQf8ACuPBH/Qm+H//AAVwf/E0fEf/AJJZ4r/7At5/6IeukoA5v/hXHgj/AKE3w/8A+CuD/wCJo/4Vx4I/6E3w/wD+CuD/AOJrpKKAOb/4Vx4I/wChN8P/APgrg/8AiaP+FceCP+hN8P8A/grg/wDia6SigDm/+FceCP8AoTfD/wD4K4P/AImsLw/pPwx8UBG0bwbp0sUkPnRzzeGGgikTjBWSSFVbORgAkkZPQGvQa8s8OaLreifBG2aeTVdSuBo8cf8AYl1CiLAcLuG2KNJm2jOULEsMr1INAG9rPhL4f6JBay3fgrRHW6vIbNPK0q3JDyuEUnIHGTz7djWj/wAK48Ef9Cb4f/8ABXB/8TXnOjaPqKC8js9KeKwPiLSrmBLTRJtOhKq6CWRbdyzIBsG4nGdu7GCCZbjRtQQ+KbXwnpstzPeWtzKdWn0iWyvVdplY25nk2faAwLhChXaEUE8q1AHoP/CuPBH/AEJvh/8A8FcH/wATR/wrjwR/0Jvh/wD8FcH/AMTWD8NtKjsdS1KeyZLW2mhhVrC38M3OkQK6l/3gWZiHcg7WK9lXPavQqAOb/wCFceCP+hN8P/8Agrg/+Jo/4Vx4I/6E3w//AOCuD/4mukooA5v/AIVx4I/6E3w//wCCuD/4mj/hXHgj/oTfD/8A4K4P/ia6SigDzvwX4B8H3Wg3Ml14T0OZ11bUow0mmwsQqX06quSvQKoAHYADtXQf8K48Ef8AQm+H/wDwVwf/ABNHgP8A5F26/wCw1qv/AKcLiukoA5v/AIVx4I/6E3w//wCCuD/4mj/hXHgj/oTfD/8A4K4P/ia6SigDm/8AhXHgj/oTfD//AIK4P/iaP+FceCP+hN8P/wDgrg/+JrpKKAPPNZ034X6BfR2mp+DLFZZXVIzD4VknSRmBIVXjgZWbAPAOeK2LPwH4DvrOK6g8F6Kscq7lWfRI4XA90eMMp9iAal8ZWtxdXHhs20Eswh1qGWUxoW8tBHICxx0HI5PrWTN4Wj1Txz4qvLzTBLKbK3j0+5uIsqjmKRXMZPAblQSOcYBNAGx/wrjwR/0Jvh//AMFcH/xNH/CuPBH/AEJvh/8A8FcH/wATXBxrrerW2hW+h6ZqtjqGneFL+y+0XVnJbrDeNHbrGodwASGjJ3DKnHBODjR+GWjfYdcNzCBYj+zhDc2MPhi601ZZAykSSSyuyzSL865UknexyRQB1f8AwrjwR/0Jvh//AMFcH/xNH/CuPBH/AEJvh/8A8FcH/wATXSUUAc3/AMK48Ef9Cb4f/wDBXB/8TR/wrjwR/wBCb4f/APBXB/8AE10lFAHN/wDCuPBH/Qm+H/8AwVwf/E1z9n4B8Ht8SdZtW8J6GbePSbCRIjpsOxWaa8DMBtwCQignvtHoK9Erm7H/AJKnrv8A2BdN/wDR99QAf8K48Ef9Cb4f/wDBXB/8TR/wrjwR/wBCb4f/APBXB/8AE10lFAHN/wDCuPBH/Qm+H/8AwVwf/E0f8K48Ef8AQm+H/wDwVwf/ABNdJRQBzf8AwrjwR/0Jvh//AMFcH/xNZeu+Gvhx4cs/tWqeDNLEGGLPbeHftIQKMkt5UTbRjucCu4rI8Wwy3PgvW4LeN5ZpdPnSOONSzOxjYAADqSe1AGBovhb4deILU3OneC9LEQxhrrw79m3AjIKiWJSwx3GRWl/wrjwR/wBCb4f/APBXB/8AE1i6p4eGsXHgW11PTHu7KGOT7ZDLEWjX/RsASjpjcBw3GQKxNYt7u1s9c0CDRtTknuvElnewNBYyNB9nE1q5fzANgCiNgVzuGM4xzQB2v/CuPBH/AEJvh/8A8FcH/wATR/wrjwR/0Jvh/wD8FcH/AMTXA2ugagfiDLPqj/ZNRXXmuYb1PDVzcTSWvmZSL7cr+WkZhIjKkALzkZ+Y+xUAc3/wrjwR/wBCb4f/APBXB/8AE0f8K48Ef9Cb4f8A/BXB/wDE10lFAHN/8K48Ef8AQm+H/wDwVwf/ABNH/CuPBH/Qm+H/APwVwf8AxNdJRQB5/wCLPBXhXSNLsb7SvDWj2N3FrWl+XcW1hFHImb+AHDKoIyCR9DXoFc348/5F21/7DWlf+nC3rpKACub8B/8AIu3X/Ya1X/04XFdJXN+A/wDkXbr/ALDWq/8ApwuKAOkooooAKKKKACiiigAooooAKKKKACiiigAooooA5ux/5Knrv/YF03/0ffV0lc3Y/wDJU9d/7Aum/wDo++rpKACiiigAooooAKKKKACiiigAooooAKKKKACub8Uf8jF4M/7DUn/pvvK6Sub8Uf8AIxeDP+w1J/6b7ygDpKKKKACiiigAooooAKKKKACiiigAooooAKKKKAOb+I//ACSzxX/2Bbz/ANEPXSVzfxH/AOSWeK/+wLef+iHrpKACiiigAooooAKKKKACiiigAooooAKKKKACiiigDm/Af/Iu3X/Ya1X/ANOFxXSVzfgP/kXbr/sNar/6cLiukoAKKKKACiiigAooooAKKKKACiiigAooooAK5ux/5Knrv/YF03/0ffV0lc3Y/wDJU9d/7Aum/wDo++oA6SiiigAooooAKKKKACiiigAooooAKKKKACiiigDm/Hn/ACLtr/2GtK/9OFvXSVzfjz/kXbX/ALDWlf8Apwt66SgArm/Af/Iu3X/Ya1X/ANOFxXSV5/4T8FeFdX0u+vtV8NaPfXcutap5lxc2EUkj4v5wMsyknAAH0FAHoFFc3/wrjwR/0Jvh/wD8FcH/AMTR/wAK48Ef9Cb4f/8ABXB/8TQB0lFc3/wrjwR/0Jvh/wD8FcH/AMTR/wAK48Ef9Cb4f/8ABXB/8TQB0lFc3/wrjwR/0Jvh/wD8FcH/AMTXP6zp3wv0HUI7LU/Blis0riOLyfCskySOVLBVeOBlZsAnAJPB9KAPRKK5W08BeBL2ziuYfBeirHKoZRNoscTge6OgZT7EA1N/wrjwR/0Jvh//AMFcH/xNAHSUVzf/AArjwR/0Jvh//wAFcH/xNH/CuPBH/Qm+H/8AwVwf/E0AdJRXN/8ACuPBH/Qm+H//AAVwf/E0f8K48Ef9Cb4f/wDBXB/8TQB0lFc3/wAK48Ef9Cb4f/8ABXB/8TR/wrjwR/0Jvh//AMFcH/xNABY/8lT13/sC6b/6Pvq6SvO7PwD4Pb4k6zat4T0M28ek2EiRHTYdis014GYDbgEhFBPfaPQV0H/CuPBH/Qm+H/8AwVwf/E0AdJRXN/8ACuPBH/Qm+H//AAVwf/E0f8K48Ef9Cb4f/wDBXB/8TQB0lFc3/wAK48Ef9Cb4f/8ABXB/8TR/wrjwR/0Jvh//AMFcH/xNAHSUVwetaD8M9AvLS11DwfpTXN4sjwQ2nhz7U7rHt3nbFExAG9eTjrWnbeAPAt1axXEXgzQ1SZA6iXRoo3AIyNyMgZT6ggEdCKAOporitK8JfD/V59SitvBWiK2nXhs5fM0q3AZwiPlcA8Ycdcc54rR/4Vx4I/6E3w//AOCuD/4mgDpKK5v/AIVx4I/6E3w//wCCuD/4mj/hXHgj/oTfD/8A4K4P/iaAOkorm/8AhXHgj/oTfD//AIK4P/iaP+FceCP+hN8P/wDgrg/+JoA6Sub8Uf8AIxeDP+w1J/6b7yj/AIVx4I/6E3w//wCCuD/4muf8R+AfB8GveE44PCehxpcatJHMqabCBIv2G6bawC8jcqnB7qD2oA9Eorm/+FceCP8AoTfD/wD4K4P/AImj/hXHgj/oTfD/AP4K4P8A4mgDpKK5v/hXHgj/AKE3w/8A+CuD/wCJo/4Vx4I/6E3w/wD+CuD/AOJoA6Siub/4Vx4I/wChN8P/APgrg/8Aiaoa14S+HPh/SZNS1XwloUVrGyIzR6LHKxZ3CKAiRliSzKMAHrQB2dFcbpXg/wCH+s2rXFn4J0uNFcoReeHhavnAPCSxKxHPUDHUZ4NMfwl8P08TQ6GfBWifaZbN7xXGlW+wIjohBOM5y47evNAHa0Vzf/CuPBH/AEJvh/8A8FcH/wATR/wrjwR/0Jvh/wD8FcH/AMTQB0lFc3/wrjwR/wBCb4f/APBXB/8AE0f8K48Ef9Cb4f8A/BXB/wDE0AdJRXN/8K48Ef8AQm+H/wDwVwf/ABNH/CuPBH/Qm+H/APwVwf8AxNAB8R/+SWeK/wDsC3n/AKIeukrzvx94B8H2fw28S3Vn4T0OC4h0m6kili02FXjYQsQykLkEEZBFdB/wrjwR/wBCb4f/APBXB/8AE0AdJRXN/wDCuPBH/Qm+H/8AwVwf/E0f8K48Ef8AQm+H/wDwVwf/ABNAHSUVzf8AwrjwR/0Jvh//AMFcH/xNH/CuPBH/AEJvh/8A8FcH/wATQB0lFc3/AMK48Ef9Cb4f/wDBXB/8TWF4f0n4Y+KAjaN4N06WKSHzo55vDDQRSJxgrJJCqtnIwASSMnoDQB6DRXFaz4S+H+iQWst34K0R1uryGzTytKtyQ8rhFJyBxk8+3Y1o/wDCuPBH/Qm+H/8AwVwf/E0AdJRXN/8ACuPBH/Qm+H//AAVwf/E0f8K48Ef9Cb4f/wDBXB/8TQB0lFc3/wAK48Ef9Cb4f/8ABXB/8TR/wrjwR/0Jvh//AMFcH/xNAHSUVzf/AArjwR/0Jvh//wAFcH/xNH/CuPBH/Qm+H/8AwVwf/E0AHgP/AJF26/7DWq/+nC4rpK878F+AfB91oNzJdeE9DmddW1KMNJpsLEKl9Oqrkr0CqAB2AA7V0H/CuPBH/Qm+H/8AwVwf/E0AdJRXN/8ACuPBH/Qm+H//AAVwf/E0f8K48Ef9Cb4f/wDBXB/8TQB0lFc3/wAK48Ef9Cb4f/8ABXB/8TR/wrjwR/0Jvh//AMFcH/xNAHSUV582k/DEeIJtFTwbp017BNHDN5HhhpYondVZQ0qwmNfldSSWAAPOK2LnwB4FtbSa4k8GaCUiRnYLpcGSAM8fLQB1NFcfpHgvwFrWiWOqWvgvQ0gvreO4jWTSoAwV1DAEBSM4Pqauf8K48Ef9Cb4f/wDBXB/8TQB0lFc3/wAK48Ef9Cb4f/8ABXB/8TR/wrjwR/0Jvh//AMFcH/xNAHSUVzf/AArjwR/0Jvh//wAFcH/xNH/CuPBH/Qm+H/8AwVwf/E0AdJXN2P8AyVPXf+wLpv8A6PvqP+FceCP+hN8P/wDgrg/+Jrn7PwD4Pb4k6zat4T0M28ek2EiRHTYdis014GYDbgEhFBPfaPQUAeiUVzf/AArjwR/0Jvh//wAFcH/xNH/CuPBH/Qm+H/8AwVwf/E0AdJRXN/8ACuPBH/Qm+H//AAVwf/E0f8K48Ef9Cb4f/wDBXB/8TQB0lFc3/wAK48Ef9Cb4f/8ABXB/8TWXrvhr4ceHLP7VqngzSxBhiz23h37SECjJLeVE20Y7nAoA7iiuJ0Xwt8OvEFqbnTvBeliIYw114d+zbgRkFRLEpYY7jIrS/wCFceCP+hN8P/8Agrg/+JoA6Siub/4Vx4I/6E3w/wD+CuD/AOJo/wCFceCP+hN8P/8Agrg/+JoA6Siub/4Vx4I/6E3w/wD+CuD/AOJo/wCFceCP+hN8P/8Agrg/+JoA6Siub/4Vx4I/6E3w/wD+CuD/AOJo/wCFceCP+hN8P/8Agrg/+JoAPHn/ACLtr/2GtK/9OFvXSV5/4s8FeFdI0uxvtK8NaPY3cWtaX5dxbWEUciZv4AcMqgjIJH0NegUAFc34D/5F26/7DWq/+nC4rpK5vwH/AMi7df8AYa1X/wBOFxQB0lFFFABRRRQAVzPjC0uLrUPCzW0Esywa2kspjQsI08iYbmx0GSBk9yK6aigDz+88KJq/jHxbdXWmCWZ7CCLTri4iyqO0UqsYy3AblQSOcYBNc+w1zWl0xPD+m6tYX9n4RvbJbi6tJLYRXjC2Cxh3AG4FDhh8px8rHBx7BRQB5n8M9HWx1mS4tQtjGbBYprCDwxdaWjuGBEjvK7LLIvzLlTk7iSSAK9MoooAKKKKACiiigDm7H/kqeu/9gXTf/R99XSVzdj/yVPXf+wLpv/o++rpKACiiigAooooA4vxTo2oap8RPDclhe6hpsUFhqAlvbKGN9hZrbajGWN0G7axHGTtOOhrkPiHYanca1JHb6TJdXtmtmbLUG0aa7uZyrhnkjuYysVqRg5QLlsE4+ZRXsdFAHkutaIJoNcbU7a6GPEkl3awS6HPqVtdj7LGn72GNcsnLYbIAdQckjFZOuaHqWpXnma5piaQlxpFqlgsXh251RtLcId627W7j7O6Pg5284TBO3A9wooAjgDrbxiWTzXCAM5XbuOOTjt9KkoooAKKKKACub8Uf8jF4M/7DUn/pvvK6Sub8Uf8AIxeDP+w1J/6b7ygDpKKKKACiiigArlPiVYXep+CJLXT1uDcPf2BU20e+RAt5CzOAQR8oBbkEADJ4rq6KAPO/GmnXdtp2mWV/5viO2kuZHmvNU0c6ksGE+VTaWixh8nOHYfLzz8wxz2iaHqEuh6Zb6/b6xYwjwpeWNxNb2srTW+biMKiqoc7tg4UbjgcZAzXstFAHic+lajPoGnxJ4fsbbRLXVJftCReGJxDeKYAEnk00Mspw+U53cqr4xgr6P4AsTp3g+C3+1SXEYllaIPp0tj5KGRiIlhlJdEXO1QT90DHGK6WigAooooAKKKKAOb+I/wDySzxX/wBgW8/9EPXSVzfxH/5JZ4r/AOwLef8Aoh66SgAooooAKKKKACvLPDmi63onwRtmnk1XUrgaPHH/AGJdQoiwHC7htijSZtozlCxLDK9SDXqdFAHiujaPqKC8js9KeKwPiLSrmBLTRJtOhKq6CWRbdyzIBsG4nGdu7GCCZbjRtQQ+KbXwnpstzPeWtzKdWn0iWyvVdplY25nk2faAwLhChXaEUE8q1ey0UAee/DbSo7HUtSnsmS1tpoYVawt/DNzpECupf94FmYh3IO1ivZVz2r0KiigAooooAKKKKAOb8B/8i7df9hrVf/ThcV0lc34D/wCRduv+w1qv/pwuK6SgAooooAKKKKAOH0XQtTb4heKtQOp6np9o+o27pbxww+TeKtpACdzxM5GQVJRh0PQg1xul2Opz+NI72PQWsJZbfUYr8Q6NcROCy/u0mu5GIuySoIZRgEcEZAPtVFAHj9lpL2V34Ouho8upapFpum2s1lqGiTSLZhQN0sN0VCW8ibmZgSS2xRwcU3wloF/B4xsptVY2esQX9xJdTx+G7rzbxG8z5JL/AHmJ4ypVlBAA2oAFK4r2KigAooooAKKKKACubsf+Sp67/wBgXTf/AEffV0lc3Y/8lT13/sC6b/6PvqAOkooooAKKKKACsjxbDLc+C9bgt43lml0+dI441LM7GNgAAOpJ7Vr0UAcDqnh4axceBbXU9Me7soY5PtkMsRaNf9GwBKOmNwHDcZArE1i3u7Wz1zQING1OSe68SWd7A0FjI0H2cTWrl/MA2AKI2BXO4YzjHNes0UAeO2ugagfiDLPqj/ZNRXXmuYb1PDVzcTSWvmZSL7cr+WkZhIjKkALzkZ+Y+xUUUAFFFFABRRRQBzfjz/kXbX/sNaV/6cLeukrm/Hn/ACLtr/2GtK/9OFvXSUAFc34D/wCRduv+w1qv/pwuK1BrCJKiXtrcWW8gI86rtJPQblJAP1xWX4D/AORduv8AsNar/wCnC4oA6SiiigAooooAKKKKACiiigAooooAKKKKACiiigDm7H/kqeu/9gXTf/R99XSVzdj/AMlT13/sC6b/AOj76ukoAKKKKACiiigAooooAKKKKACiiigAooooAK5vxR/yMXgz/sNSf+m+8rpK5vxR/wAjF4M/7DUn/pvvKAOkooooAKKKKACiiigAooooAKKKKACiiigAooooA5v4j/8AJLPFf/YFvP8A0Q9dJXN/Ef8A5JZ4r/7At5/6IeukoAKKKKACiiigAooooAKKKKACiiigAooooAKKKKAOb8B/8i7df9hrVf8A04XFdJXN+A/+Rduv+w1qv/pwuK6SgAooooAKKKKACiiigAooooAKKKKACiiigArm7H/kqeu/9gXTf/R99XSVzdj/AMlT13/sC6b/AOj76gDpKKKKACiiigAooooAKKKKACiiigAooooAKKKKAOb8ef8AIu2v/Ya0r/04W9dJXN+PP+Rdtf8AsNaV/wCnC3rpKAOY0k3k2jXUWo2loli1xeedIt0zMv76QnCmMA4PQ5HHPHSs3whPex+HyNE868tWvbtzNPaoHMrXMhlBzOvSQuBx0A5PU9INHlmXyr66ja23F2t7aDyldidxLcknJJJ6ZJ5qh4D/AORduv8AsNar/wCnC4oAm+1+IP8An1/8lo//AJJo+1+IP+fX/wAlo/8A5JreooAwftfiD/n1/wDJaP8A+SaPtfiD/n1/8lo//kmt6igDB+1+IP8An1/8lo//AJJo+1+IP+fX/wAlo/8A5JrerzayNxe/FXxCtxZeIr6Kz1K1WCa01cw2lqv2WByHh+0JuG5ixAjbOT16UAdX9r8Qf8+v/ktH/wDJNH2vxB/z6/8AktH/APJNcl/wnd7f64+mNLa3dhf2t6I3ttOuYliaJeNtzJ+7uARuBKBcHHUU3w54j1TTdN8H2M72+m6PNpGnrHdz2EtwLqVkCtF5qOq27fcCmQHcX4zjBAOv+1+IP+fX/wAlo/8A5Jo+1+IP+fX/AMlo/wD5JrlvDvxB1jW9csWWwkk02+upYDDHo12htI137JWu2/cyAlACqgY38FtvPo9AGD9r8Qf8+v8A5LR//JNH2vxB/wA+v/ktH/8AJNb1FAGD9r8Qf8+v/ktH/wDJNH2vxB/z6/8AktH/APJNb1FAHF201+PGmpSwpI2ptp9otxCbVNiQiS4MTD/SOpZpgeT90cDvrfa/EH/Pr/5LR/8AyTUNj/yVPXf+wLpv/o++rpKAMH7X4g/59f8AyWj/APkmj7X4g/59f/JaP/5JreooAwftfiD/AJ9f/JaP/wCSaPtfiD/n1/8AJaP/AOSa3qKAMH7X4g/59f8AyWj/APkmj7X4g/59f/JaP/5Jqr8RLFZ/A2r3q3N/bXNhp9zPbyWV/NbFXEZIJ8t13YIHDZFZIk1HQU8N6Z4cn3T65vM9zrFzc33lFYd+5Q8ue33QyjntQB0H2vxB/wA+v/ktH/8AJNH2vxB/z6/+S0f/AMk1i3HjLVLbQr26eG0ae28Qw6UP3bBWie4ijLY3Z3YkJHOM44PfPsPiHq+o+JAtrYyTaf8A2s+nG2j0a7Z0RJDEZzd/6jAddxXHC8btwoA6r7X4g/59f/JaP/5Jo+1+IP8An1/8lo//AJJreooAwftfiD/n1/8AJaP/AOSaPtfiD/n1/wDJaP8A+Sa3qKAMH7X4g/59f/JaP/5JrJ1ma/k1bw+2oJJFcR6g7WKJapiWb7LOCrf6QePKMrduVHPY9pXN+KP+Ri8Gf9hqT/033lAE32vxB/z6/wDktH/8k0fa/EH/AD6/+S0f/wAk1vUUAYP2vxB/z6/+S0f/AMk0fa/EH/Pr/wCS0f8A8k1vUUAYP2vxB/z6/wDktH/8k0fa/EH/AD6/+S0f/wAk1vVXvrKLUbGS0uGnSOUYZre4eBxznh0IZfwIoAyftfiD/n1/8lo//kmj7X4g/wCfX/yWj/8AkmuI02abw34N8S+I7W51C/vtO1C9t7ePUdWup4fLS4KKpRpCOFAG7GfrXW2Wsa3b+Jzo+rvYzkaW16ZbW3eIb/N2hQGdsgDv3PPHSgC19r8Qf8+v/ktH/wDJNH2vxB/z6/8AktH/APJNcKnxP1y/sNLFjbxRXkuhW+qXHl6Nd36SyTBtsSiA5hGY2+Zy3UYBwa9O0y8fUNIs72W2ltJLiBJWt5hh4SyglGHYjOD7igDL+1+IP+fX/wAlo/8A5Jo+1+IP+fX/AMlo/wD5JreooAwftfiD/n1/8lo//kmj7X4g/wCfX/yWj/8Akmt6igDi/Fk1/P4L1uLXEkttMk0+dbyaK1QvHCY2Dsv+kHkLkjg/Q1rfa/EH/Pr/AOS0f/yTUPxH/wCSWeK/+wLef+iHrpKAMH7X4g/59f8AyWj/APkmj7X4g/59f/JaP/5JreooAwftfiD/AJ9f/JaP/wCSaPtfiD/n1/8AJaP/AOSa3qKAMH7X4g/59f8AyWj/APkmj7X4g/59f/JaP/5JreryX4fapPY/Dq38Q39vrcNydJSSTU9b1h7m0ndtvKxCeRgxPIAjVj90YLYoA7z7X4g/59f/ACWj/wDkmj7X4g/59f8AyWj/APkmuDufFN9r8C2Wp7ZJNO8SaUEnXTZ7DzEeVG5gnJdSCGGc4IwRWndfEHVdHh1+bWo7eG6sY5XtNINhMkkiCUJHKLjeyTKQyFhGmVLgHkYIB1P2vxB/z6/+S0f/AMk0fa/EH/Pr/wCS0f8A8k1n+DvEer6tqV9ZatBJLHDFHLDfDRrrTo3LFg0Wy4JJZdqncCQQ/QY566gDB+1+IP8An1/8lo//AJJo+1+IP+fX/wAlo/8A5JreooAwftfiD/n1/wDJaP8A+SaPtfiD/n1/8lo//kmt6igDi/DU1/DpMy6Okk9udQvWd5LVARMbqUzL/wAfA4WUuo9gOT1Ot9r8Qf8APr/5LR//ACTUPgP/AJF26/7DWq/+nC4rpKAMH7X4g/59f/JaP/5Jo+1+IP8An1/8lo//AJJreooAwftfiD/n1/8AJaP/AOSaPtfiD/n1/wDJaP8A+Sa3qKAMH7X4g/59f/JaP/5Jo+1+IP8An1/8lo//AJJrD8e6RHJqmhXCX2rW73uqw2s62urXUCNEUkJGxJAo5UcgA8daeuq61Z65rGlaU9qum6DZxTA3gmuri4LxuwUyNJngp947ic4x3oA2ftfiD/n1/wDJaP8A+SaPtfiD/n1/8lo//kmsC/8AiBd6Xpujahc2sMsN14cvNZuo4wQ2+COBwiEnAB81hzntz1zN4M8Wa1rOsfY9VtXlhksvtS3UeiXdhHBIGUGEtPkSkh8qy44RsjpQBs/a/EH/AD6/+S0f/wAk0fa/EH/Pr/5LR/8AyTW9RQBg/a/EH/Pr/wCS0f8A8k0fa/EH/Pr/AOS0f/yTW9RQBg/a/EH/AD6/+S0f/wAk1k201+PGmpSwpI2ptp9otxCbVNiQiS4MTD/SOpZpgeT90cDv2lc3Y/8AJU9d/wCwLpv/AKPvqAJvtfiD/n1/8lo//kmj7X4g/wCfX/yWj/8Akmt6igDB+1+IP+fX/wAlo/8A5Jo+1+IP+fX/AMlo/wD5JreooAwftfiD/n1/8lo//kmj7X4g/wCfX/yWj/8Akmt6ub8e2CXXg7U7n7TfW09lZTzwSWd/NbEOIyQT5TruwQOGyKAJvtfiD/n1/wDJaP8A+SaPtfiD/n1/8lo//kmucgl1LQ7bwxp/h6433GvKWuLnWbq5vvKKweYWVXlzzg/KGUc9qs3XjLVLXQNYu2itWnsNet9MT92wVo5JrdCxG7O7EzEc46cHuAbX2vxB/wA+v/ktH/8AJNH2vxB/z6/+S0f/AMk1ytt8QtXvPE7xWlhLPYR6y2lvbRaNdu4RZDC05ux+5ADgsVxwoI3Zr0igDB+1+IP+fX/yWj/+SaPtfiD/AJ9f/JaP/wCSa3qKAMH7X4g/59f/ACWj/wDkmj7X4g/59f8AyWj/APkmt6igDjteku7iytI9eWS2s/7TsW8yO2TPmi7iMS8TsQDIEUnaeCenWuxrm/Hn/Iu2v/Ya0r/04W9dJQAVzfgP/kXbr/sNar/6cLiukrm/Af8AyLt1/wBhrVf/AE4XFAHSUUUUAFFFFABVS00uzsb6+u7WHZPqEqzXL7ifMdY1jBwTgfKijjHT1q3RQBzlp4B8OWV8t3BZTeZGsqwrJezvHAsoIkWNGcrGpz0UAcD0GJB4J0PdY5humi09IktrZr+4a3QRY8smEv5bFcAglScgHORmt+igDFs/COk6fqp1CxW8t5DI8pgi1C4W3LvncfID+VySSfl6nPXmtqiigAooooAKKKKAObsf+Sp67/2BdN/9H31dJXN2P/JU9d/7Aum/+j76ukoAKKKKACiiigCvf2Nvqmm3NhfR+bbXULwzR7iu5GBVhkcjIJ5FQvo1hJc6fO8GZdNDC1be37vcmw9+fl45zV6igDnbvwH4dv8AVH1C6sZHmkuY7xlF3MsRnjK7JfKDhN42KN23JAwSQSDYTwlpMOtPqlut5b3Ek3nyRwahcRQPJgAs0KuI2JxzleTycmtqigAooooAKKKKACub8Uf8jF4M/wCw1J/6b7yukrm/FH/IxeDP+w1J/wCm+8oA6SiiigAooooAKKKKAMl/DGkSaPe6W9pmzv5pJ7mLzX+d3fexznIy3OAQKTWPC2ka9dQXOp28jzQRvErxXEkJaNiC0b7GG9CVXKNlTjpWvRQBzr+BNANrYQQ291aLp9sLS3ey1C4tpFhGMRs8bqzqMZAYnBye5rfijWGFIkLFUUKC7lmIHqTkk+55p9FABRRRQAUUUUAc38R/+SWeK/8AsC3n/oh66Sub+I//ACSzxX/2Bbz/ANEPXSUAFFFFABRRRQAVkr4Y0dfCqeHFs8aVHAtukHmPlUXG3D53AjAIbOQQDnNa1FAHPWvgXw/aeYY7SaSSW5hu5Jbi8mmkklhOYmZ3cs23AHJxgAdABT18FaF511Lc209813C9vL9vvJroCNyC6KJXYIpwMhcA7R6Ct6igDM0fw/ZaF5v2GXUJBKACLzUri6AxnG0Su23r2xnjPQVp0UUAFFFFABRRRQBzfgP/AJF26/7DWq/+nC4rpK5vwH/yLt1/2GtV/wDThcV0lABRRRQAUUUUAVL7TLPUmtWvYfNNncLcwfMRskAIDcHnhjweOaSLSrKHULy+jgAuL5US4csSJAgIUYJwMBj0HOeauUUAc5pngHw3pNyk9np7F47d7WMT3Us6xwPjdEqyMQqfKMIBgc4AyauaL4X03w+5OmNfqvliNYp9SuJ40UdAscjsq4xgbQMDjpWvRQAUUUUAFFFFABXN2P8AyVPXf+wLpv8A6Pvq6Subsf8Akqeu/wDYF03/ANH31AHSUUUUAFFFFABUN7ZwahYXFleJ5lvcxNFKmSNyMMEZHI4PapqKAKB0TTzNp0pt/n0sFbQ72/dApsPfn5eOc1m3vgTw7qOqSX95YyPNLPHcyKLqZYmmj27JTEHCbxsUbsZwMZxxXQ0UAYo8JaSmtPqkC3lvcSTCeRLfULiKGSTAG5oVcRsTgZypz3zW1RRQAUUUUAFFFFAHN+PP+Rdtf+w1pX/pwt66Sub8ef8AIu2v/Ya0r/04W9dJQAVzfgP/AJF26/7DWq/+nC4rpK8/8J2niqXS759K1nR7a0Otap5cVzpEs0i/6fPnLrcoDzk/dGBxz1IB6BRXN/YfG/8A0MPh/wD8EM//AMmUfYfG/wD0MPh//wAEM/8A8mUAdJRXN/YfG/8A0MPh/wD8EM//AMmUfYfG/wD0MPh//wAEM/8A8mUAdJRXN/YfG/8A0MPh/wD8EM//AMmUfYfG/wD0MPh//wAEM/8A8mUAdJRXN/YfG/8A0MPh/wD8EM//AMmUfYfG/wD0MPh//wAEM/8A8mUAdJRXN/YfG/8A0MPh/wD8EM//AMmUfYfG/wD0MPh//wAEM/8A8mUAdJRXN/YfG/8A0MPh/wD8EM//AMmUfYfG/wD0MPh//wAEM/8A8mUAdJRXN/YfG/8A0MPh/wD8EM//AMmUfYfG/wD0MPh//wAEM/8A8mUAFj/yVPXf+wLpv/o++rpK87s7Pxj/AMLJ1lV13QxcDSbAvIdFmKMvnXm0BftWQQQ2Tk5yOBgk9B9h8b/9DD4f/wDBDP8A/JlAHSUVzf2Hxv8A9DD4f/8ABDP/APJlH2Hxv/0MPh//AMEM/wD8mUAdJRXN/YfG/wD0MPh//wAEM/8A8mUfYfG//Qw+H/8AwQz/APyZQB0lFc39h8b/APQw+H//AAQz/wDyZR9h8b/9DD4f/wDBDP8A/JlAHSUVzf2Hxv8A9DD4f/8ABDP/APJlH2Hxv/0MPh//AMEM/wD8mUAdJRXN/YfG/wD0MPh//wAEM/8A8mUfYfG//Qw+H/8AwQz/APyZQB0lFc39h8b/APQw+H//AAQz/wDyZR9h8b/9DD4f/wDBDP8A/JlAHSVzfij/AJGLwZ/2GpP/AE33lH2Hxv8A9DD4f/8ABDP/APJlc/4js/GI17wmJ9d0N3bVpBCyaLMoRvsN1ywN0dw27hgEckHPGCAeiUVzf2Hxv/0MPh//AMEM/wD8mUfYfG//AEMPh/8A8EM//wAmUAdJRXN/YfG//Qw+H/8AwQz/APyZR9h8b/8AQw+H/wDwQz//ACZQB0lFc39h8b/9DD4f/wDBDP8A/JlH2Hxv/wBDD4f/APBDP/8AJlAHSUVzf2Hxv/0MPh//AMEM/wD8mUfYfG//AEMPh/8A8EM//wAmUAdJRXN/YfG//Qw+H/8AwQz/APyZR9h8b/8AQw+H/wDwQz//ACZQB0lFc39h8b/9DD4f/wDBDP8A/JlH2Hxv/wBDD4f/APBDP/8AJlAHSUVzf2Hxv/0MPh//AMEM/wD8mUfYfG//AEMPh/8A8EM//wAmUAHxH/5JZ4r/AOwLef8Aoh66SvO/H1n4xX4beJWvNd0OW3Gk3Rlji0WZHZfJbIVjdMFJHQkHHoeldB9h8b/9DD4f/wDBDP8A/JlAHSUVzf2Hxv8A9DD4f/8ABDP/APJlH2Hxv/0MPh//AMEM/wD8mUAdJRXN/YfG/wD0MPh//wAEM/8A8mUfYfG//Qw+H/8AwQz/APyZQB0lFc39h8b/APQw+H//AAQz/wDyZR9h8b/9DD4f/wDBDP8A/JlAHSUVzf2Hxv8A9DD4f/8ABDP/APJlH2Hxv/0MPh//AMEM/wD8mUAdJRXN/YfG/wD0MPh//wAEM/8A8mUfYfG//Qw+H/8AwQz/APyZQB0lFc39h8b/APQw+H//AAQz/wDyZR9h8b/9DD4f/wDBDP8A/JlAHSUVzf2Hxv8A9DD4f/8ABDP/APJlH2Hxv/0MPh//AMEM/wD8mUAHgP8A5F26/wCw1qv/AKcLiukrzvwXZ+MW0G5Nrruhxp/a2pArJoszkt9un3HIuhwWyQMcAgZOMnoPsPjf/oYfD/8A4IZ//kygDpKK5v7D43/6GHw//wCCGf8A+TKPsPjf/oYfD/8A4IZ//kygDpKK5v7D43/6GHw//wCCGf8A+TKPsPjf/oYfD/8A4IZ//kygDpKK5v7D43/6GHw//wCCGf8A+TKPsPjf/oYfD/8A4IZ//kygDpKK5v7D43/6GHw//wCCGf8A+TKPsPjf/oYfD/8A4IZ//kygDpKK5v7D43/6GHw//wCCGf8A+TKPsPjf/oYfD/8A4IZ//kygDpKK5v7D43/6GHw//wCCGf8A+TKPsPjf/oYfD/8A4IZ//kygDpK5ux/5Knrv/YF03/0ffUfYfG//AEMPh/8A8EM//wAmVz9nZ+Mf+Fk6yq67oYuBpNgXkOizFGXzrzaAv2rIIIbJyc5HAwSQD0Siub+w+N/+hh8P/wDghn/+TKPsPjf/AKGHw/8A+CGf/wCTKAOkorm/sPjf/oYfD/8A4IZ//kyj7D43/wChh8P/APghn/8AkygDpKK5v7D43/6GHw//AOCGf/5Mo+w+N/8AoYfD/wD4IZ//AJMoA6Siub+w+N/+hh8P/wDghn/+TKPsPjf/AKGHw/8A+CGf/wCTKAOkorm/sPjf/oYfD/8A4IZ//kyj7D43/wChh8P/APghn/8AkygDpKK5v7D43/6GHw//AOCGf/5Mo+w+N/8AoYfD/wD4IZ//AJMoA6Siub+w+N/+hh8P/wDghn/+TKPsPjf/AKGHw/8A+CGf/wCTKADx5/yLtr/2GtK/9OFvXSV5/wCLLTxVFpdi+q6zo9zaDWtL8yK20iWGRv8AT4MYdrlwOcH7pyOOOo9AoAK5vwH/AMi7df8AYa1X/wBOFxXSVzfgP/kXbr/sNar/AOnC4oA6SiiigAooooAK82sjcXvxV8QrcWXiK+is9StVgmtNXMNpar9lgch4ftCbhuYsQI2zk9elek1UtNLs7G+vru1h2T6hKs1y+4nzHWNYwcE4Hyoo4x09aAPP/wDhO72/1x9MaW1u7C/tb0RvbadcxLE0S8bbmT93cAjcCUC4OOopvhzxHqmm6b4PsZ3t9N0ebSNPWO7nsJbgXUrIFaLzUdVt2+4FMgO4vxnGD1Vp4B8OWV8t3BZTeZGsqwrJezvHAsoIkWNGcrGpz0UAcD0GJB4J0PdY5humi09IktrZr+4a3QRY8smEv5bFcAglScgHORmgDl/DvxB1jW9csWWwkk02+upYDDHo12htI137JWu2/cyAlACqgY38FtvPo9Ytn4R0nT9VOoWK3lvIZHlMEWoXC25d87j5AfyuSST8vU5681tUAFFFFABRRRQBzdj/AMlT13/sC6b/AOj76ukrm7H/AJKnrv8A2BdN/wDR99XSUAFFFFABRRRQBy/xEsVn8Daverc39tc2Gn3M9vJZX81sVcRkgny3XdggcNkVkiTUdBTw3pnhyfdPrm8z3OsXNzfeUVh37lDy57fdDKOe1dtf2Nvqmm3NhfR+bbXULwzR7iu5GBVhkcjIJ5FQvo1hJc6fO8GZdNDC1be37vcmw9+fl45zQBytx4y1S20K9unhtGntvEMOlD92wVonuIoy2N2d2JCRzjOOD3z7D4h6vqPiQLa2Mk2n/wBrPpxto9Gu2dESQxGc3f8AqMB13FccLxu3Cumu/Afh2/1R9QurGR5pLmO8ZRdzLEZ4yuyXyg4TeNijdtyQMEkEg2E8JaTDrT6pbreW9xJN58kcGoXEUDyYALNCriNicc5Xk8nJoA2qKKKACiiigArm/FH/ACMXgz/sNSf+m+8rpK5vxR/yMXgz/sNSf+m+8oA6SiiigAooooAK5H4o3NzaeALiSye7SU3ljH/oU5hmdXu4VZFcMu0spK53Dr1FddVTU9Ls9ZsfsmpQ+dB5sU2zcV+eORZEOQQeGRT7454oA4yXVp/Dmh28NlDqGjXF5dPti1v7Rrdy4VASY4oJ5HK8c/vFC9SPm5xrDxNqus6npviCw02O41eTwneSR2YJRJJ1uIRtG7BUFl6HkA4JzXoes+HdO177O2oJcCS1ZmhmtbuW2lTcMMA8TK2COozg4HHAqrbeCdBsraGCxs5LRILR7OE211LE0ULuHZVZWBX5lByDkYwCBxQByU/xDv4tP0+C3vYLrULy8lhllTw9eBrMRxhyj2Qdpi53LzuUYYN0A3dh4R1i+1vw7Hd6rZyWl0sskTh7aS3EoRyqyrHJ86q6gMFbkZxk4yYf+EF8P/YPsv2W4/4+PtX2n7dP9p83bs3/AGjf5udny53fd+XpxWvp2nw6XYpaWz3DxpnDXNzJcSHJzy8jMx69zx0oAtUUUUAFFFFAHN/Ef/klniv/ALAt5/6Ieukrm/iP/wAks8V/9gW8/wDRD10lABRRRQAUUUUAFeS/D7VJ7H4dW/iG/t9bhuTpKSSanresPc2k7tt5WITyMGJ5AEasfujBbFetVkr4Y0dfCqeHFs8aVHAtukHmPlUXG3D53AjAIbOQQDnNAHndz4pvtfgWy1PbJJp3iTSgk66bPYeYjyo3ME5LqQQwznBGCK07r4g6ro8Ovza1Hbw3VjHK9ppBsJkkkQShI5Rcb2SZSGQsI0ypcA8jB6a18C+H7TzDHaTSSS3MN3JLcXk00kksJzEzO7lm24A5OMADoAKevgrQvOupbm2nvmu4Xt5ft95NdARuQXRRK7BFOBkLgHaPQUAZ/g7xHq+ralfWWrQSSxwxRyw3w0a606NyxYNFsuCSWXap3AkEP0GOeurM0fw/ZaF5v2GXUJBKACLzUri6AxnG0Su23r2xnjPQVp0AFFFFABRRRQBzfgP/AJF26/7DWq/+nC4rpK5vwH/yLt1/2GtV/wDThcV0lABRRRQAUUUUAcL490iOTVNCuEvtWt3vdVhtZ1tdWuoEaIpISNiSBRyo5AB4609dV1qz1zWNK0p7VdN0GzimBvBNdXFwXjdgpkaTPBT7x3E5xjvXWX2mWepNatew+abO4W5g+YjZIAQG4PPDHg8c0kWlWUOoXl9HABcXyolw5YkSBAQowTgYDHoOc80Acdf/ABAu9L03RtQubWGWG68OXms3UcYIbfBHA4RCTgA+aw5z2565m8GeLNa1nWPseq2rywyWX2pbqPRLuwjgkDKDCWnyJSQ+VZccI2R0rU0zwD4b0m5Sez09i8du9rGJ7qWdY4HxuiVZGIVPlGEAwOcAZNXNF8L6b4fcnTGv1XyxGsU+pXE8aKOgWOR2VcYwNoGBx0oA16KKKACiiigArm7H/kqeu/8AYF03/wBH31dJXN2P/JU9d/7Aum/+j76gDpKKKKACiiigArm/Htgl14O1O5+031tPZWU88ElnfzWxDiMkE+U67sEDhsiukqG9s4NQsLiyvE8y3uYmilTJG5GGCMjkcHtQBwkEupaHbeGNP8PXG+415S1xc6zdXN95RWDzCyq8uecH5QyjntVm68Zapa6BrF20Vq09hr1vpifu2CtHJNboWI3Z3YmYjnHTg9+pOiaeZtOlNv8APpYK2h3t+6BTYe/Py8c5rNvfAnh3UdUkv7yxkeaWeO5kUXUyxNNHt2SmIOE3jYo3YzgYzjigDmLb4haveeJ3itLCWewj1ltLe2i0a7dwiyGFpzdj9yAHBYrjhQRuzXpFYo8JaSmtPqkC3lvcSTCeRLfULiKGSTAG5oVcRsTgZypz3zW1QAUUUUAFFFFAHN+PP+Rdtf8AsNaV/wCnC3rpK5vx5/yLtr/2GtK/9OFvXSUAFc34D/5F26/7DWq/+nC4rpK5vwH/AMi7df8AYa1X/wBOFxQB0lFFFABRRRQAUUUUAFFFFABRRRQAUUUUAFFFFAHN2P8AyVPXf+wLpv8A6Pvq6Subsf8Akqeu/wDYF03/ANH31dJQAUUUUAFFFFABRRRQAUUUUAFFFFABRRRQAVzfij/kYvBn/Yak/wDTfeV0lc34o/5GLwZ/2GpP/TfeUAdJRRRQAUUUUAFFFFABRRRQAUUUUAFFFFABRRRQBzfxH/5JZ4r/AOwLef8Aoh66Sub+I/8AySzxX/2Bbz/0Q9dJQAUUUUAFFFFABRRRQAUUUUAFFFFABRRRQAUUUUAc34D/AORduv8AsNar/wCnC4rpK5vwH/yLt1/2GtV/9OFxXSUAFFFFABRRRQAUUUUAFFFFABRRRQAUUUUAFc3Y/wDJU9d/7Aum/wDo++rpK5ux/wCSp67/ANgXTf8A0ffUAdJRRRQAUUUUAFFFFABRRRQAUUUUAFFFFABRRRQBzfjz/kXbX/sNaV/6cLeukrm/Hn/Iu2v/AGGtK/8AThb10lABXn/hPXtRstLvre28J6xqESa1qm25tpbNY3zfzngSTq3GccqOR3HNegVzfgP/AJF26/7DWq/+nC4oAP8AhKNX/wChE8Qf9/8AT/8A5Ko/4SjV/wDoRPEH/f8A0/8A+Sq6SigDm/8AhKNX/wChE8Qf9/8AT/8A5Ko/4SjV/wDoRPEH/f8A0/8A+Sq6SigDm/8AhKNX/wChE8Qf9/8AT/8A5Ko/4SjV/wDoRPEH/f8A0/8A+Sq6SuBXxpcy/EfU9Cm8R+HdMisr23t4bC7hJu7xXhikOxvPXkmRlGI26Dg9KANr/hKNX/6ETxB/3/0//wCSqP8AhKNX/wChE8Qf9/8AT/8A5KqK58ZAXkunvpepafLNbXEtjdXUUYjuDEAW2qHLqecgOi5ANVfDHjaXUbPRLB7G91PUptKsry/uIPISOATLw7BnQkEq5xGrYx05AoAv/wDCUav/ANCJ4g/7/wCn/wDyVR/wlGr/APQieIP+/wDp/wD8lUyx8d2N9qdtAlhfxWd7cSWtnqcqxi3uZUDEquHLjPlvgsiq23gnK56egDm/+Eo1f/oRPEH/AH/0/wD+SqP+Eo1f/oRPEH/f/T//AJKrpKKAOb/4SjV/+hE8Qf8Af/T/AP5Ko/4SjV/+hE8Qf9/9P/8AkqukooA87s/EeqD4k6zKPBeuM7aTYKYRNY70AmvCGP8ApO3B3EDBJ+U5A4z0H/CUav8A9CJ4g/7/AOn/APyVRY/8lT13/sC6b/6Pvq6SgDm/+Eo1f/oRPEH/AH/0/wD+SqP+Eo1f/oRPEH/f/T//AJKrpKKAOb/4SjV/+hE8Qf8Af/T/AP5Ko/4SjV/+hE8Qf9/9P/8AkqukooA5v/hKNX/6ETxB/wB/9P8A/kqj/hKNX/6ETxB/3/0//wCSqzvG/i658P8AiLRNOj1rRNEttQgupZbzWIi6BojCFRf30QBPmseSfu9Ku3vjKPSLK1nvLO71G0McBudXsIUW0XzCqhwGk3shLA/J5m0HkmgCT/hKNX/6ETxB/wB/9P8A/kqj/hKNX/6ETxB/3/0//wCSqyrXxvLY32q29/Dc6ncPr76dp1parEjlVtkm27nZF4G85ZsnoM8CtDVPHltpUk6y6Pqk4sbVLrUmgSJhp6MCf3n7wbiArEiLecDPdcgEv/CUav8A9CJ4g/7/AOn/APyVR/wlGr/9CJ4g/wC/+n//ACVXRo6yRq8bB0YAqynII9RS0Ac3/wAJRq//AEIniD/v/p//AMlUf8JRq/8A0IniD/v/AKf/APJVdJRQBzf/AAlGr/8AQieIP+/+n/8AyVXP+I/EeqSa94TZ/BeuRGPVpGVHmscyn7DdDauLkjOCW+bAwp5zgH0Sub8Uf8jF4M/7DUn/AKb7ygA/4SjV/wDoRPEH/f8A0/8A+SqP+Eo1f/oRPEH/AH/0/wD+Sq6SigDm/wDhKNX/AOhE8Qf9/wDT/wD5Ko/4SjV/+hE8Qf8Af/T/AP5KrpKKAOb/AOEo1f8A6ETxB/3/ANP/APkqj/hKNX/6ETxB/wB/9P8A/kqukqvfJeSWMi6ZPBb3RH7uW4gMyKc90DoTx/tCgDD/AOEo1f8A6ETxB/3/ANP/APkqj/hKNX/6ETxB/wB/9P8A/kqsTSfFuuWmiaxr3ii80+bTtKurm1kg07TJEmcxS+WHBadhzjO3bnnr69FYeKY7zU/7PuNMv9PuvsZvPLuhHnyw+wfcdsE9cenXB4oAg/4SjV/+hE8Qf9/9P/8Akqj/AISjV/8AoRPEH/f/AE//AOSqpr8SLG50+zu9M0nVNR+0aamqSxWyRb7W3cZVpN8ijJw2FQsTsbjpnqrO7gv7GC8s5Vmt7iNZYpF6OjDII+oNAGD/AMJRq/8A0IniD/v/AKf/APJVH/CUav8A9CJ4g/7/AOn/APyVXSUUAc3/AMJRq/8A0IniD/v/AKf/APJVH/CUav8A9CJ4g/7/AOn/APyVXSUUAed+PvEeqT/DbxLFL4L1y2STSbpWmlmsSkYMLAs225LYHU4BPoDXQf8ACUav/wBCJ4g/7/6f/wDJVHxH/wCSWeK/+wLef+iHrpKAOb/4SjV/+hE8Qf8Af/T/AP5Ko/4SjV/+hE8Qf9/9P/8AkqukooA5v/hKNX/6ETxB/wB/9P8A/kqj/hKNX/6ETxB/3/0//wCSq6SigDm/+Eo1f/oRPEH/AH/0/wD+SqP+Eo1f/oRPEH/f/T//AJKrpK4mC/8AGLePJdDk1XQzBDZxXrSLpEwZleV02D/SSAcR/e569OKANL/hKNX/AOhE8Qf9/wDT/wD5Ko/4SjV/+hE8Qf8Af/T/AP5KqvY/EGyv4ba4TStUitLq9WxguZY4lWSUsynA8zdgFDk7cHtmp7vxzp9tPe20dpe3N5baimmx2sKpvuZmhWbEe5guAjEksVA2t7ZAF/4SjV/+hE8Qf9/9P/8Akqj/AISjV/8AoRPEH/f/AE//AOSq0dC1yDXrOWaGCe1mt52t7m1uAvmQSLjKttLL0IIIJBDA5rToA5v/AISjV/8AoRPEH/f/AE//AOSqP+Eo1f8A6ETxB/3/ANP/APkqukooA5v/AISjV/8AoRPEH/f/AE//AOSqP+Eo1f8A6ETxB/3/ANP/APkqukooA878F+I9Uh0G5WPwXrk4OrakxeOaxABN9OSvzXIOVJKntkHBIwT0H/CUav8A9CJ4g/7/AOn/APyVR4D/AORduv8AsNar/wCnC4rpKAOb/wCEo1f/AKETxB/3/wBP/wDkqj/hKNX/AOhE8Qf9/wDT/wD5KrpKKAOb/wCEo1f/AKETxB/3/wBP/wDkqj/hKNX/AOhE8Qf9/wDT/wD5KrpKKAOb/wCEo1f/AKETxB/3/wBP/wDkqj/hKNX/AOhE8Qf9/wDT/wD5Kqp4v1LxPpWpaZ/Y9/pMdrqN9HZCO602WV4iysS+5Z0Dfd6bR161Mvi9rPUbnSbyyu9QvNNt1nv7yzt0ht41ZWYEB5S3O0jaCxz7c0AS/wDCUav/ANCJ4g/7/wCn/wDyVR/wlGr/APQieIP+/wDp/wD8lU6TxvpMEWmzXXnW8GoaZNqizSKNsMESxs+/BJBxKvTPQ89Mu0PxbFrOoCxn0vUNKuZLYXdvHfLEDcQ5ALrsdsYLJlW2sN68UAR/8JRq/wD0IniD/v8A6f8A/JVH/CUav/0IniD/AL/6f/8AJVdJRQBzf/CUav8A9CJ4g/7/AOn/APyVR/wlGr/9CJ4g/wC/+n//ACVXSUUAc3/wlGr/APQieIP+/wDp/wD8lVz9n4j1QfEnWZR4L1xnbSbBTCJrHegE14Qx/wBJ24O4gYJPynIHGfRK5ux/5Knrv/YF03/0ffUAH/CUav8A9CJ4g/7/AOn/APyVR/wlGr/9CJ4g/wC/+n//ACVXSUUAc3/wlGr/APQieIP+/wDp/wD8lUf8JRq//QieIP8Av/p//wAlV0lFAHN/8JRq/wD0IniD/v8A6f8A/JVH/CUav/0IniD/AL/6f/8AJVdJWF4wutZ07w7d6joV1YwPZW8txIl5ZvOJQiFgo2ypt6defpQBB/wlGr/9CJ4g/wC/+n//ACVR/wAJRq//AEIniD/v/p//AMlVRt/Fep6Vp+k/29H/AGzfa0N1nb6NY+TjEe9lYyzsOmfmLKOK0JPGunw6XfX0ttdqljqUWmyptQt5skkSAj5sFQZlyc9jweMgDf8AhKNX/wChE8Qf9/8AT/8A5Ko/4SjV/wDoRPEH/f8A0/8A+SqZ/wAJ1Y/2t9mFhfGy+3/2cdV2x/Zhc52+X9/zPv8A7vds27uM109AHN/8JRq//QieIP8Av/p//wAlUf8ACUav/wBCJ4g/7/6f/wDJVdJRQBzf/CUav/0IniD/AL/6f/8AJVH/AAlGr/8AQieIP+/+n/8AyVXSUUAef+LNe1G90uxt7nwnrGnxPrWl7rm5ls2jTF/AeRHOzc4xwp5PYc16BXN+PP8AkXbX/sNaV/6cLeukoAK5vwH/AMi7df8AYa1X/wBOFxXSVzfgP/kXbr/sNar/AOnC4oA6SiiigAooooAKydJ0L+y9b13UPtHm/wBr3Udx5ezb5WyCOLGcndny854647ZrWooA850v4Uf2frseovqNi7xJdJ50elhLq588EbricyEysuRg4UHnjkYuv8PbiWPw5bS6jYeRoMVskVwmmkXuYgu7ZP5uEV9gDLsOVJGe47migDhPD/wztvDuvR3dpDoElvFPJLHJLoa/b13ljj7UJBnBbAJTO0YOT81d3RRQAUUUUAFFFFAHN2P/ACVPXf8AsC6b/wCj76ukrm7H/kqeu/8AYF03/wBH31dJQAUUUUAFFFFAGTeaF9r8XaXrn2jZ/Z9rc2/k7M+Z5xiOd2eMeT0wc7u2OeV8W/DD/hKdcub576xVbhYAGutMFzcWvlHOIJTIBErH7w2knLHIJGPQKKAOOv8AwPcXNjrFpDdaVPDq+otezRappRuo1BjjQKFEqcgx7tx9enGayrj4SW5uYLiGTSNRmWygtJpPEWjjUWcxLtEit5iFSR94ZIOARjnPo1FADY0EUSIqqqqoACjAAHoOwp1FFABRRRQAVzfij/kYvBn/AGGpP/TfeV0lc34o/wCRi8Gf9hqT/wBN95QB0lFFFABRRRQAUUUUAcpP4I87whrWh/2ht/tW8uLrz/I/1XmymTbt3c4zjORnrxVjW/Dd/fa/Dq2j6rHp832N7K4Etp5++JmVgU+ddrqQcE7l+blTXR0UAebN8IbZLfSPLfRb65sNKh0yV9a0UXscixZ2uieYpjb5mz8xBBHpmvQ7K2WzsLe2RIUWGJYwkEflxqAMYVcnavHAycDipqKACiiigAooooA5v4j/APJLPFf/AGBbz/0Q9dJXN/Ef/klniv8A7At5/wCiHrpKACiiigAooooAKyY9D2eMp9e+0Z86wisvI2dNkkj7t2e/mYxjt1rWooA5H/hCJYvB9lpFrqax3en3wvre7e23oHEzSYaPcCVwxU4YHnIIrLu/hcdTtL1tX1Kz1C+uNWTVUa50wPbK4gWAxtAX+dNobHzBhlTuJXJ9CooAxvC+gr4d0g2awaTAWlaRhpOnfYoSSAM+Xvf5sAZOecCtmiigAooooAKKKKAOb8B/8i7df9hrVf8A04XFdJXN+A/+Rduv+w1qv/pwuK6SgAooooAKKKKAMrXNE/tqTSn+0eT/AGffpeY2bvM2qy7eox97rz06VFF4cRdb1y+mn8yPV4IYXhCY8sIrqec853+gxjvW1RQBwNv8NrqeO0tvEGurf2Vpo9xo0cMFl9nZoJljUszb2y+IxkgAdMKOc3/B3gZfCt203keHd32fyBPpuhCyuHGQfnkEjBgdoJAVRnB4xiuvooAKKKKACiiigArm7H/kqeu/9gXTf/R99XSVzdj/AMlT13/sC6b/AOj76gDpKKKKACiiigAqlrWnf2voN/pvm+T9stpLfzNu7ZvUrnGRnGemau0UAYJ8M5vPDk/2v/kBo67fK/126Hy/X5fXv6e9Y2p+Ab6+ub6K312O30u+1ODU5LY2O+XzY3iYqJN4GxjCDjbuBP3scHt6KAOEtfhla2HiuXVraDw/NHNqDagzXuiCa8jkZ97bLkSLj58lSUJXOOQBXd0UUAFFFFABRRRQBzfjz/kXbX/sNaV/6cLeukrm/Hn/ACLtr/2GtK/9OFvXSUAFc34D/wCRduv+w1qv/pwuK6SvP/CevajZaXfW9t4T1jUIk1rVNtzbS2axvm/nPAknVuM45UcjuOaAPQKK5v8A4SjV/wDoRPEH/f8A0/8A+SqP+Eo1f/oRPEH/AH/0/wD+SqAOkorm/wDhKNX/AOhE8Qf9/wDT/wD5Ko/4SjV/+hE8Qf8Af/T/AP5KoA6Siub/AOEo1f8A6ETxB/3/ANP/APkqj/hKNX/6ETxB/wB/9P8A/kqgDpKK5v8A4SjV/wDoRPEH/f8A0/8A+SqP+Eo1f/oRPEH/AH/0/wD+SqAOkorm/wDhKNX/AOhE8Qf9/wDT/wD5Ko/4SjV/+hE8Qf8Af/T/AP5KoA6Siub/AOEo1f8A6ETxB/3/ANP/APkqj/hKNX/6ETxB/wB/9P8A/kqgDpKK5v8A4SjV/wDoRPEH/f8A0/8A+SqP+Eo1f/oRPEH/AH/0/wD+SqACx/5Knrv/AGBdN/8AR99XSV53Z+I9UHxJ1mUeC9cZ20mwUwiax3oBNeEMf9J24O4gYJPynIHGeg/4SjV/+hE8Qf8Af/T/AP5KoA6Siub/AOEo1f8A6ETxB/3/ANP/APkqj/hKNX/6ETxB/wB/9P8A/kqgDpKK5v8A4SjV/wDoRPEH/f8A0/8A+SqP+Eo1f/oRPEH/AH/0/wD+SqAOkorm/wDhKNX/AOhE8Qf9/wDT/wD5Ko/4SjV/+hE8Qf8Af/T/AP5KoA6Siub/AOEo1f8A6ETxB/3/ANP/APkqj/hKNX/6ETxB/wB/9P8A/kqgDpKK5v8A4SjV/wDoRPEH/f8A0/8A+SqP+Eo1f/oRPEH/AH/0/wD+SqAOkorm/wDhKNX/AOhE8Qf9/wDT/wD5Ko/4SjV/+hE8Qf8Af/T/AP5KoA6Sub8Uf8jF4M/7DUn/AKb7yj/hKNX/AOhE8Qf9/wDT/wD5Krn/ABH4j1STXvCbP4L1yIx6tIyo81jmU/YbobVxckZwS3zYGFPOcAgHolFc3/wlGr/9CJ4g/wC/+n//ACVR/wAJRq//AEIniD/v/p//AMlUAdJRXN/8JRq//QieIP8Av/p//wAlUf8ACUav/wBCJ4g/7/6f/wDJVAHSUVzf/CUav/0IniD/AL/6f/8AJVH/AAlGr/8AQieIP+/+n/8AyVQB0lFc3/wlGr/9CJ4g/wC/+n//ACVR/wAJRq//AEIniD/v/p//AMlUAdJRXN/8JRq//QieIP8Av/p//wAlUf8ACUav/wBCJ4g/7/6f/wDJVAHSUVzf/CUav/0IniD/AL/6f/8AJVH/AAlGr/8AQieIP+/+n/8AyVQB0lFc3/wlGr/9CJ4g/wC/+n//ACVR/wAJRq//AEIniD/v/p//AMlUAHxH/wCSWeK/+wLef+iHrpK878feI9Un+G3iWKXwXrlskmk3StNLNYlIwYWBZttyWwOpwCfQGug/4SjV/wDoRPEH/f8A0/8A+SqAOkorm/8AhKNX/wChE8Qf9/8AT/8A5Ko/4SjV/wDoRPEH/f8A0/8A+SqAOkorm/8AhKNX/wChE8Qf9/8AT/8A5Ko/4SjV/wDoRPEH/f8A0/8A+SqAOkorm/8AhKNX/wChE8Qf9/8AT/8A5Ko/4SjV/wDoRPEH/f8A0/8A+SqAOkorm/8AhKNX/wChE8Qf9/8AT/8A5Ko/4SjV/wDoRPEH/f8A0/8A+SqAOkorm/8AhKNX/wChE8Qf9/8AT/8A5Ko/4SjV/wDoRPEH/f8A0/8A+SqAOkorm/8AhKNX/wChE8Qf9/8AT/8A5Ko/4SjV/wDoRPEH/f8A0/8A+SqAOkorm/8AhKNX/wChE8Qf9/8AT/8A5Ko/4SjV/wDoRPEH/f8A0/8A+SqADwH/AMi7df8AYa1X/wBOFxXSV534L8R6pDoNysfgvXJwdW1Ji8c1iACb6clfmuQcqSVPbIOCRgnoP+Eo1f8A6ETxB/3/ANP/APkqgDpKK5v/AISjV/8AoRPEH/f/AE//AOSqP+Eo1f8A6ETxB/3/ANP/APkqgDpKK5v/AISjV/8AoRPEH/f/AE//AOSqP+Eo1f8A6ETxB/3/ANP/APkqgDpKK5v/AISjV/8AoRPEH/f/AE//AOSqP+Eo1f8A6ETxB/3/ANP/APkqgDpKK5v/AISjV/8AoRPEH/f/AE//AOSqP+Eo1f8A6ETxB/3/ANP/APkqgDpKK5v/AISjV/8AoRPEH/f/AE//AOSqP+Eo1f8A6ETxB/3/ANP/APkqgDpKK5v/AISjV/8AoRPEH/f/AE//AOSqP+Eo1f8A6ETxB/3/ANP/APkqgDpK5ux/5Knrv/YF03/0ffUf8JRq/wD0IniD/v8A6f8A/JVc/Z+I9UHxJ1mUeC9cZ20mwUwiax3oBNeEMf8ASduDuIGCT8pyBxkA9Eorm/8AhKNX/wChE8Qf9/8AT/8A5Ko/4SjV/wDoRPEH/f8A0/8A+SqAOkorm/8AhKNX/wChE8Qf9/8AT/8A5Ko/4SjV/wDoRPEH/f8A0/8A+SqAOkorm/8AhKNX/wChE8Qf9/8AT/8A5Ko/4SjV/wDoRPEH/f8A0/8A+SqAOkorm/8AhKNX/wChE8Qf9/8AT/8A5Ko/4SjV/wDoRPEH/f8A0/8A+SqAOkorm/8AhKNX/wChE8Qf9/8AT/8A5Ko/4SjV/wDoRPEH/f8A0/8A+SqAOkorm/8AhKNX/wChE8Qf9/8AT/8A5Ko/4SjV/wDoRPEH/f8A0/8A+SqAOkorm/8AhKNX/wChE8Qf9/8AT/8A5Ko/4SjV/wDoRPEH/f8A0/8A+SqADx5/yLtr/wBhrSv/AE4W9dJXn/izXtRvdLsbe58J6xp8T61pe65uZbNo0xfwHkRzs3OMcKeT2HNegUAFc34D/wCRduv+w1qv/pwuK6Sub8B/8i7df9hrVf8A04XFAHSUUUUAFFFFABXAr40uZfiPqehTeI/DumRWV7b28Nhdwk3d4rwxSHY3nryTIyjEbdBweld9WTpOhf2Xreu6h9o83+17qO48vZt8rZBHFjOTuz5ec8dcds0AZlz4yAvJdPfS9S0+Wa2uJbG6uooxHcGIAttUOXU85AdFyAaq+GPG0uo2eiWD2N7qepTaVZXl/cQeQkcAmXh2DOhIJVziNWxjpyBWZpfwo/s/XY9RfUbF3iS6Tzo9LCXVz54I3XE5kJlZcjBwoPPHIxdf4e3Esfhy2l1Gw8jQYrZIrhNNIvcxBd2yfzcIr7AGXYcqSM9wAaVj47sb7U7aBLC/is724ktbPU5VjFvcyoGJVcOXGfLfBZFVtvBOVz09cJ4f+Gdt4d16O7tIdAkt4p5JY5JdDX7eu8scfahIM4LYBKZ2jByfmru6ACiiigAooooA5ux/5Knrv/YF03/0ffV0lc3Y/wDJU9d/7Aum/wDo++rpKACiiigAooooA4rxv4uufD/iLRNOj1rRNEttQgupZbzWIi6BojCFRf30QBPmseSfu9Ku3vjKPSLK1nvLO71G0McBudXsIUW0XzCqhwGk3shLA/J5m0HkmtK80L7X4u0vXPtGz+z7W5t/J2Z8zzjEc7s8Y8npg53dsc8r4t+GH/CU65c3z31iq3CwANdaYLm4tfKOcQSmQCJWP3htJOWOQSMAE9r43lsb7Vbe/hudTuH199O060tViRyq2yTbdzsi8Decs2T0GeBWhqnjy20qSdZdH1ScWNql1qTQJEw09GBP7z94NxAViRFvOBnuua9/4HuLmx1i0hutKnh1fUWvZotU0o3UagxxoFCiVOQY924+vTjNZVx8JLc3MFxDJpGozLZQWk0niLRxqLOYl2iRW8xCpI+8MkHAIxzkA9FR1kjV42DowBVlOQR6ilpsaCKJEVVVVUABRgAD0HYU6gAooooAK5vxR/yMXgz/ALDUn/pvvK6Sub8Uf8jF4M/7DUn/AKb7ygDpKKKKACiiigArnPHviC58L+DbjVbKW0hljntovNvVLQxLJcRxs7AMvCq5P3h0610dZPibQv8AhI9E/s/7R9m/0q2uPM2b/wDUzxy4xkdfLxntnPOMUAZWl+KJpNEFzb3Vt4xle4aNH8NwokagKCQzSXDICM55kBO4AL65knxEtxqVtqxmmj0A+HbnU5oGhHmK8csS4I67gGdcA4z+BrX8ZeED4q/s8iaxIs5Hc2up2P2y1m3Lty0W9Msv8LZ4y3HPGfofw+n8PW9gNP1WB5rDSp9OjNxY7o28yZZN7IrrwNuNoIznqOlAGnN4xNvZ2jT6BqqX19M0Vppwa2eaYKu9nDLMYwgGeWcenUjOnoetW+v6Wt7apLF+8eGWCcASQyoxR0YAkZDKRwSD1BIINcQfhFbvpkUUk2kyTw3z3kVtJo4fTow8YjaNbUyfKp2h+HB35PQla7Tw5o40HQ4rAQ6bCUZiV0yx+yQZJJ4i3Ng+vzHJ59qANSiiigAooooA5v4j/wDJLPFf/YFvP/RD10lc38R/+SWeK/8AsC3n/oh66SgAooooAKKKKACuJgv/ABi3jyXQ5NV0MwQ2cV60i6RMGZXldNg/0kgHEf3uevTiu2rJj0PZ4yn177RnzrCKy8jZ02SSPu3Z7+ZjGO3WgDJsfiDZX8NtcJpWqRWl1erYwXMscSrJKWZTgeZuwChyduD2zU93450+2nvbaO0vbm8ttRTTY7WFU33MzQrNiPcwXARiSWKgbW9s1v8AhCJYvB9lpFrqax3en3wvre7e23oHEzSYaPcCVwxU4YHnIIrLu/hcdTtL1tX1Kz1C+uNWTVUa50wPbK4gWAxtAX+dNobHzBhlTuJXJAOv0LXINes5ZoYJ7Wa3na3ubW4C+ZBIuMq20svQgggkEMDmtOsbwvoK+HdINmsGkwFpWkYaTp32KEkgDPl73+bAGTnnArZoAKKKKACiiigDm/Af/Iu3X/Ya1X/04XFdJXN+A/8AkXbr/sNar/6cLiukoAKKKKACiiigDgV8aXMvxH1PQpvEfh3TIrK9t7eGwu4Sbu8V4YpDsbz15JkZRiNug4PStW58ZAXkunvpepafLNbXEtjdXUUYjuDEAW2qHLqecgOi5ANaek6F/Zet67qH2jzf7Xuo7jy9m3ytkEcWM5O7Pl5zx1x2zXH6X8KP7P12PUX1Gxd4kuk86PSwl1c+eCN1xOZCZWXIwcKDzxyMAGn4Y8bS6jZ6JYPY3up6lNpVleX9xB5CRwCZeHYM6EglXOI1bGOnIFXLHx3Y32p20CWF/FZ3txJa2epyrGLe5lQMSq4cuM+W+CyKrbeCcrnNf4e3Esfhy2l1Gw8jQYrZIrhNNIvcxBd2yfzcIr7AGXYcqSM9w3w/8M7bw7r0d3aQ6BJbxTySxyS6Gv29d5Y4+1CQZwWwCUztGDk/NQB3dFFFABRRRQAVzdj/AMlT13/sC6b/AOj76ukrm7H/AJKnrv8A2BdN/wDR99QB0lFFFABRRRQAVxXjfxdc+H/EWiadHrWiaJbahBdSy3msRF0DRGEKi/vogCfNY8k/d6V2tZN5oX2vxdpeufaNn9n2tzb+Tsz5nnGI53Z4x5PTBzu7Y5AM298ZR6RZWs95Z3eo2hjgNzq9hCi2i+YVUOA0m9kJYH5PM2g8k1nWvjeWxvtVt7+G51O4fX307TrS1WJHKrbJNt3OyLwN5yzZPQZ4FQeLfhh/wlOuXN899YqtwsADXWmC5uLXyjnEEpkAiVj94bSTljkEjF+/8D3FzY6xaQ3WlTw6vqLXs0WqaUbqNQY40ChRKnIMe7cfXpxmgCxqnjy20qSdZdH1ScWNql1qTQJEw09GBP7z94NxAViRFvOBnuueoR1kjV42DowBVlOQR6ivOrj4SW5uYLiGTSNRmWygtJpPEWjjUWcxLtEit5iFSR94ZIOARjnPokaCKJEVVVVUABRgAD0HYUAOooooAKKKKAOb8ef8i7a/9hrSv/Thb10lc348/wCRdtf+w1pX/pwt66SgArm/Af8AyLt1/wBhrVf/AE4XFdJXN+A/+Rduv+w1qv8A6cLigDpKKKKACiiigAooooAKKKKACiiigAooooAKKKKAObsf+Sp67/2BdN/9H31dJXN2P/JU9d/7Aum/+j76ukoAKKKKACiiigAooooAKKKKACiiigAooooAK5vxR/yMXgz/ALDUn/pvvK6Sub8Uf8jF4M/7DUn/AKb7ygDpKKKKACiiigAooooAKKKKACiiigAooooAKKKKAOb+I/8AySzxX/2Bbz/0Q9dJXN/Ef/klniv/ALAt5/6IeukoAKKKKACiiigAooooAKKKKACiiigAooooAKKKKAOb8B/8i7df9hrVf/ThcV0lc34D/wCRduv+w1qv/pwuK6SgAooooAKKKKACiiigAooooAKKKKACiiigArm7H/kqeu/9gXTf/R99XSVzdj/yVPXf+wLpv/o++oA6SiiigAooooAKKKKACiiigAooooAKKKKACiiigDm/Hn/Iu2v/AGGtK/8AThb10lc348/5F21/7DWlf+nC3rpKACuN0q08Y6DBdWdnpOh3lu+oXl1FNLrE0Lss1zJMAyC1YAgSYOGPSuyooA5v7d43/wChe8P/APg+n/8AkOj7d43/AOhe8P8A/g+n/wDkOukooA5v7d43/wChe8P/APg+n/8AkOj7d43/AOhe8P8A/g+n/wDkOukooA5v7d43/wChe8P/APg+n/8AkOj7d43/AOhe8P8A/g+n/wDkOukooA5v7d43/wChe8P/APg+n/8AkOj7d43/AOhe8P8A/g+n/wDkOukooA5v7d43/wChe8P/APg+n/8AkOj7d43/AOhe8P8A/g+n/wDkOukooA5v7d43/wChe8P/APg+n/8AkOj7d43/AOhe8P8A/g+n/wDkOukooA5v7d43/wChe8P/APg+n/8AkOj7d43/AOhe8P8A/g+n/wDkOukooA4mC28bw+Kr7Wf7E8Pt9rsra08n+25/k8l533bvsnOfPxjHG3vnjS+3eN/+he8P/wDg+n/+Q66SigDm/t3jf/oXvD//AIPp/wD5Do+3eN/+he8P/wDg+n/+Q66SigDm/t3jf/oXvD//AIPp/wD5Do+3eN/+he8P/wDg+n/+Q66SigDm/t3jf/oXvD//AIPp/wD5Do+3eN/+he8P/wDg+n/+Q66SigDm/t3jf/oXvD//AIPp/wD5Do+3eN/+he8P/wDg+n/+Q66SigDm/t3jf/oXvD//AIPp/wD5Do+3eN/+he8P/wDg+n/+Q66SigDm/t3jf/oXvD//AIPp/wD5Do+3eN/+he8P/wDg+n/+Q66SigDm/t3jf/oXvD//AIPp/wD5DrN1S28b6lqOjXX9ieH4v7LvWu9v9tznzc280O3P2Tj/AF27PP3cd8jtqKAOb+3eN/8AoXvD/wD4Pp//AJDo+3eN/wDoXvD/AP4Pp/8A5DrpKKAOb+3eN/8AoXvD/wD4Pp//AJDo+3eN/wDoXvD/AP4Pp/8A5DrpKKAOb+3eN/8AoXvD/wD4Pp//AJDo+3eN/wDoXvD/AP4Pp/8A5DrpKKAOb+3eN/8AoXvD/wD4Pp//AJDo+3eN/wDoXvD/AP4Pp/8A5DrpKKAOb+3eN/8AoXvD/wD4Pp//AJDo+3eN/wDoXvD/AP4Pp/8A5DrpKKAOb+3eN/8AoXvD/wD4Pp//AJDo+3eN/wDoXvD/AP4Pp/8A5DrpKKAOb+3eN/8AoXvD/wD4Pp//AJDo+3eN/wDoXvD/AP4Pp/8A5DrpKKAOJ8R23jfxB4V1XRv7E8P2/wDaNlNaed/bc7+X5iFN237IM4znGRWl9u8b/wDQveH/APwfT/8AyHXSUUAc39u8b/8AQveH/wDwfT//ACHR9u8b/wDQveH/APwfT/8AyHXSUUAc39u8b/8AQveH/wDwfT//ACHR9u8b/wDQveH/APwfT/8AyHXSUUAc39u8b/8AQveH/wDwfT//ACHR9u8b/wDQveH/APwfT/8AyHXSUUAc39u8b/8AQveH/wDwfT//ACHR9u8b/wDQveH/APwfT/8AyHXSUUAc39u8b/8AQveH/wDwfT//ACHR9u8b/wDQveH/APwfT/8AyHXSUUAc39u8b/8AQveH/wDwfT//ACHR9u8b/wDQveH/APwfT/8AyHXSUUAc39u8b/8AQveH/wDwfT//ACHR9u8b/wDQveH/APwfT/8AyHXSUUAcToNt430TTpbX+xPD8/mXt1d7v7bnXHn3Ek23H2Q/d8zbnvjPGcVpfbvG/wD0L3h//wAH0/8A8h10lFAHN/bvG/8A0L3h/wD8H0//AMh0fbvG/wD0L3h//wAH0/8A8h10lFAHN/bvG/8A0L3h/wD8H0//AMh0fbvG/wD0L3h//wAH0/8A8h10lFAHN/bvG/8A0L3h/wD8H0//AMh0fbvG/wD0L3h//wAH0/8A8h10lFAHN/bvG/8A0L3h/wD8H0//AMh0fbvG/wD0L3h//wAH0/8A8h10lFAHN/bvG/8A0L3h/wD8H0//AMh0fbvG/wD0L3h//wAH0/8A8h10lFAHN/bvG/8A0L3h/wD8H0//AMh0fbvG/wD0L3h//wAH0/8A8h10lFAHN/bvG/8A0L3h/wD8H0//AMh1mwW3jeHxVfaz/Ynh9vtdlbWnk/23P8nkvO+7d9k5z5+MY42988dtRQBzf27xv/0L3h//AMH0/wD8h0fbvG//AEL3h/8A8H0//wAh10lFAHN/bvG//QveH/8AwfT/APyHR9u8b/8AQveH/wDwfT//ACHXSUUAc39u8b/9C94f/wDB9P8A/IdH27xv/wBC94f/APB9P/8AIddJRQBzf27xv/0L3h//AMH0/wD8h0fbvG//AEL3h/8A8H0//wAh10lFAHN/bvG//QveH/8AwfT/APyHR9u8b/8AQveH/wDwfT//ACHXSUUAc39u8b/9C94f/wDB9P8A/IdH27xv/wBC94f/APB9P/8AIddJRQBzf27xv/0L3h//AMH0/wD8h0fbvG//AEL3h/8A8H0//wAh10lFAHEa+vi7UtMjTUNI0W0tLa8tb2eWDV5ZpAlvcRzsFQ2yBmIjIGWAyetdT/aFz/0CLz/vuH/45Rrf/Iv6j/16y/8AoBq9QB//2Q==)"
      ],
      "metadata": {
        "id": "B3-CqMcWSDwA"
      }
    }
  ]
}