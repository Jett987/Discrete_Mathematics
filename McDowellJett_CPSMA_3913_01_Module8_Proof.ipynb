{
  "nbformat": 4,
  "nbformat_minor": 0,
  "metadata": {
    "colab": {
      "provenance": [],
      "include_colab_link": true
    },
    "kernelspec": {
      "name": "python3",
      "display_name": "Python 3"
    }
  },
  "cells": [
    {
      "cell_type": "markdown",
      "metadata": {
        "id": "view-in-github",
        "colab_type": "text"
      },
      "source": [
        "<a href=\"https://colab.research.google.com/github/Jett987/Discrete_Mathematics/blob/main/McDowellJett_CPSMA_3913_01_Module8_Proof.ipynb\" target=\"_parent\"><img src=\"https://colab.research.google.com/assets/colab-badge.svg\" alt=\"Open In Colab\"/></a>"
      ]
    },
    {
      "cell_type": "markdown",
      "source": [
        "Project Part # 8 : CPSMA 3913 Dr. Lynam's Discrete Mathematics Project Part#8\n",
        "Jett McDowell\n",
        "(all coding was referenced from Dr. Jacob's github Discrete_Math python repository.)"
      ],
      "metadata": {
        "id": "OMYkRfurpd8o"
      }
    },
    {
      "cell_type": "markdown",
      "metadata": {
        "id": "YCJaepmmfKrS"
      },
      "source": [
        "# Project Part # 8: CPSMA 3913 Dr. Lynam's Discrete Mathematics utilizing [Dr. Jacob's](https://github.com/nurfnick) Discrete Mathematics github repository\n",
        "\n",
        "## Project Module 8: Proof\n",
        "\n",
        "### Jett McDowell  206812 \n",
        "\n",
        "![Tree.jpg photo courtesy: Microsoft Word picture stock images](https://raw.githubusercontent.com/Jett987/Discrete_Mathematics/main/proof.jpg)\n",
        "\n",
        "(Picture Credit: Microsoft Word Picture Stock Images)\n",
        "\n"
      ]
    },
    {
      "cell_type": "markdown",
      "source": [
        "##The answers from section $2$ are answered throughout the document. \n",
        "\n",
        "$2a.$ Describe your findings in words. $2b$ Discuss the steps in your proof. Remember finding a value is different from proving that value\n",
        "works."
      ],
      "metadata": {
        "id": "v5rlQxPmgvIV"
      }
    },
    {
      "cell_type": "markdown",
      "metadata": {
        "id": "Xs_Pvtua1Nnt"
      },
      "source": [
        "## 1.) Typeset a small proof"
      ]
    },
    {
      "cell_type": "markdown",
      "source": [
        "###part a.) Create a linear equation y = mx+b by assigning non-zero values to m and b. Graph this function."
      ],
      "metadata": {
        "id": "TwYUzHlxlpk8"
      }
    },
    {
      "cell_type": "code",
      "source": [
        "import matplotlib.pyplot as plt\n",
        "import numpy as np\n",
        "from sympy import *\n",
        "x = symbols('x')\n",
        "y = symbols('y')"
      ],
      "metadata": {
        "id": "6rbYuUaSrk6Y"
      },
      "execution_count": 1,
      "outputs": []
    },
    {
      "cell_type": "markdown",
      "source": [
        "For my linear equation, I am going to use $y=4x+2$. "
      ],
      "metadata": {
        "id": "yYNUNCEbIDVS"
      }
    },
    {
      "cell_type": "code",
      "source": [
        "y=4*x+2"
      ],
      "metadata": {
        "id": "8FaMaDMTrKY4"
      },
      "execution_count": 2,
      "outputs": []
    },
    {
      "cell_type": "markdown",
      "source": [
        "Next, I will graph my equation. It should represent a straight line since it is a linear function. "
      ],
      "metadata": {
        "id": "kmg4iS0jIWZA"
      }
    },
    {
      "cell_type": "code",
      "source": [
        "x = np.arange(-1,1,.1)\n",
        "\n",
        "plt.plot(x,x*4+2)\n",
        "plt.scatter(-.5,0, c='green',s = 40)\n",
        "plt.scatter(0,2,c='blue',s = 40)\n",
        "plt.show()"
      ],
      "metadata": {
        "colab": {
          "base_uri": "https://localhost:8080/",
          "height": 265
        },
        "id": "TpoXvvQtrxBu",
        "outputId": "63fb96d5-8c7c-46ce-f5d4-65413cf750ee"
      },
      "execution_count": 4,
      "outputs": [
        {
          "output_type": "display_data",
          "data": {
            "text/plain": [
              "<Figure size 432x288 with 1 Axes>"
            ],
            "image/png": "[encoded data removed]"
          },
          "metadata": {
            "needs_background": "light"
          }
        }
      ]
    },
    {
      "cell_type": "markdown",
      "source": [
        "As you can see from the graph above, it appears that when $y$ is zero, the $x-intercept$ is -.5. When $x$ is zero, the $y-intercept$ is 2. "
      ],
      "metadata": {
        "id": "QTg_BmMRvNUO"
      }
    },
    {
      "cell_type": "markdown",
      "source": [
        "###part b.) Write a proof of the statement: (0, b)is the y-intercept for the function y = mx + b\n",
        "\n"
      ],
      "metadata": {
        "id": "23IcIXh2dXwq"
      }
    },
    {
      "cell_type": "markdown",
      "source": [
        "The root would be where $y$ is equal to zero. In this case it would mean the root is -.5. If $x$ was zero, then y would be equal to 2.  "
      ],
      "metadata": {
        "id": "nDBrZbcXfzYf"
      }
    },
    {
      "cell_type": "markdown",
      "source": [
        "To determine the y-intercept, I first need to set $x$ equal to zero, and solve for $y$. "
      ],
      "metadata": {
        "id": "gW3nTmlLvftC"
      }
    },
    {
      "cell_type": "code",
      "source": [
        "y1=4*0+2\n",
        "y1"
      ],
      "metadata": {
        "colab": {
          "base_uri": "https://localhost:8080/"
        },
        "id": "QAKxLiEIvrOF",
        "outputId": "41eb0980-8fef-4015-89ae-dbb3c9adbd6d"
      },
      "execution_count": 3,
      "outputs": [
        {
          "output_type": "execute_result",
          "data": {
            "text/plain": [
              "2"
            ]
          },
          "metadata": {},
          "execution_count": 3
        }
      ]
    },
    {
      "cell_type": "markdown",
      "source": [
        "The solution is 2. To prove this, I will set the y-intercept equal to what I just solved."
      ],
      "metadata": {
        "id": "XfpQUkBBvzaj"
      }
    },
    {
      "cell_type": "code",
      "source": [
        "2 == 4*0+2"
      ],
      "metadata": {
        "colab": {
          "base_uri": "https://localhost:8080/"
        },
        "id": "QExpn1zXufcH",
        "outputId": "7f25e0d5-2290-431d-d033-929a55384805"
      },
      "execution_count": 5,
      "outputs": [
        {
          "output_type": "execute_result",
          "data": {
            "text/plain": [
              "True"
            ]
          },
          "metadata": {},
          "execution_count": 5
        }
      ]
    },
    {
      "cell_type": "markdown",
      "source": [
        "This demonstrates that yes, it is true! Q.E.D. "
      ],
      "metadata": {
        "id": "ZGWixV6Gv_Mc"
      }
    }
  ]
}