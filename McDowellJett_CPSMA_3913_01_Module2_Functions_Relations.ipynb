{
  "nbformat": 4,
  "nbformat_minor": 0,
  "metadata": {
    "colab": {
      "provenance": [],
      "include_colab_link": true
    },
    "kernelspec": {
      "name": "python3",
      "display_name": "Python 3"
    }
  },
  "cells": [
    {
      "cell_type": "markdown",
      "metadata": {
        "id": "view-in-github",
        "colab_type": "text"
      },
      "source": [
        "<a href=\"https://colab.research.google.com/github/Jett987/Discrete_Mathematics/blob/main/McDowellJett_CPSMA_3913_01_Module2_Functions_Relations.ipynb\" target=\"_parent\"><img src=\"https://colab.research.google.com/assets/colab-badge.svg\" alt=\"Open In Colab\"/></a>"
      ]
    },
    {
      "cell_type": "markdown",
      "source": [
        "Project Part # 2 : CPSMA 3913 Dr. Lynam's Discrete Mathematics Project Part#2\n",
        "Jett McDowell\n",
        "(all coding was referenced from Dr. Jacob's github Discrete_Math python repository.)"
      ],
      "metadata": {
        "id": "OMYkRfurpd8o"
      }
    },
    {
      "cell_type": "markdown",
      "metadata": {
        "id": "YCJaepmmfKrS"
      },
      "source": [
        "# Project Part # 2: CPSMA 3913 Dr. Lynam's Discrete Mathematics utilizing [Dr. Jacob's](https://github.com/nurfnick) Discrete Mathematics github repository\n",
        "\n",
        "## Project Module 2: Functions and Relations\n",
        "\n",
        "### Jett McDowell  206812 \n",
        "\n",
        "![Goats.jpg](https://raw.githubusercontent.com/Jett987/Discrete_Mathematics/main/Goats_small.JPG)\n",
        "\n"
      ]
    },
    {
      "cell_type": "markdown",
      "metadata": {
        "id": "Xs_Pvtua1Nnt"
      },
      "source": [
        "## 1.) Define a function and graph it."
      ]
    },
    {
      "cell_type": "markdown",
      "metadata": {
        "id": "2z6U1aB_fQDM"
      },
      "source": [
        "###(Part a.) Define a function with three features. "
      ]
    },
    {
      "cell_type": "markdown",
      "source": [
        "For my function, I created a random function that had at least three features. The function I created is  $f(x)=(\\frac{2x^2}{\\pi})+2$ My functions features are coefficients, an exponent, and a variable. "
      ],
      "metadata": {
        "id": "a9N-3KcysndY"
      }
    },
    {
      "cell_type": "code",
      "source": [
        "import math\n",
        "import numpy as np\n",
        "import matplotlib.pyplot as plt"
      ],
      "metadata": {
        "id": "NUeP5PRe5Ygj"
      },
      "execution_count": 23,
      "outputs": []
    },
    {
      "cell_type": "code",
      "source": [
        "def Jettfunction(x):\n",
        "  return ((2*x**2/math.pi))+2"
      ],
      "metadata": {
        "id": "LJTLrXZ22Sz4"
      },
      "execution_count": 24,
      "outputs": []
    },
    {
      "cell_type": "markdown",
      "source": [
        "Next, I will substitute $0$ into my equation in place of $x$ to check the result. "
      ],
      "metadata": {
        "id": "4rfqzK710fuk"
      }
    },
    {
      "cell_type": "code",
      "source": [
        "Jettfunction(0)"
      ],
      "metadata": {
        "colab": {
          "base_uri": "https://localhost:8080/"
        },
        "id": "wBPpwdaV0U2M",
        "outputId": "7e91fcd2-e595-4be3-fbef-a6c0b2c4f12b"
      },
      "execution_count": 25,
      "outputs": [
        {
          "output_type": "execute_result",
          "data": {
            "text/plain": [
              "2.0"
            ]
          },
          "metadata": {},
          "execution_count": 25
        }
      ]
    },
    {
      "cell_type": "markdown",
      "source": [
        "As you can see, it appears to work. When the $x$ value is $0$, the $y$ value is $2$. "
      ],
      "metadata": {
        "id": "wjOObdKX02Pq"
      }
    },
    {
      "cell_type": "markdown",
      "source": [
        "###Part B.) Graphing the function. "
      ],
      "metadata": {
        "id": "qjcqmaA3F8pR"
      }
    },
    {
      "cell_type": "markdown",
      "source": [
        "If considering the function $x^2$, the variances in function I have defined are as follows: The $x^2$ in my function gives it the parabola shape. The coefficient $2$ appears to make it more narrow, and the division by $\\pi$ appear to widen it back out. The $+2$ shift it up to starting at $y=2$. "
      ],
      "metadata": {
        "id": "txKlgWMPRpWE"
      }
    },
    {
      "cell_type": "markdown",
      "source": [
        "Next, I'll plot the function! I have plotted a window of [$-10$, $10$] to show there is nothing significant happening as the window widens. "
      ],
      "metadata": {
        "id": "E5ILzRix1Oxq"
      }
    },
    {
      "cell_type": "code",
      "source": [
        "x = np.arange(-10,10,.1)\n",
        "\n",
        "plt.plot(x,Jettfunction(x))"
      ],
      "metadata": {
        "colab": {
          "base_uri": "https://localhost:8080/",
          "height": 282
        },
        "id": "rkfuzap65lx4",
        "outputId": "b7b1975f-7061-40fc-fc2b-e8914831cd8f"
      },
      "execution_count": 26,
      "outputs": [
        {
          "output_type": "execute_result",
          "data": {
            "text/plain": [
              "[<matplotlib.lines.Line2D at 0x7f3087d72a30>]"
            ]
          },
          "metadata": {},
          "execution_count": 26
        },
        {
          "output_type": "display_data",
          "data": {
            "text/plain": [
              "<Figure size 432x288 with 1 Axes>"
            ],
            "image/png": "[encoded data removed]"
          },
          "metadata": {
            "needs_background": "light"
          }
        }
      ]
    },
    {
      "cell_type": "markdown",
      "source": [
        "I will now reduce the window to [$-.2.5, 2.5$] to more accurately display what happens around $0$."
      ],
      "metadata": {
        "id": "MY2CG6vR1lGS"
      }
    },
    {
      "cell_type": "code",
      "source": [
        "x = np.arange(-2.5,2.5,.1)\n",
        "\n",
        "plt.plot(x,Jettfunction(x))"
      ],
      "metadata": {
        "colab": {
          "base_uri": "https://localhost:8080/",
          "height": 282
        },
        "id": "IqKhv1oU1HVI",
        "outputId": "7aee028c-8b43-4934-b8b8-5516bfad0c47"
      },
      "execution_count": 27,
      "outputs": [
        {
          "output_type": "execute_result",
          "data": {
            "text/plain": [
              "[<matplotlib.lines.Line2D at 0x7f30884781f0>]"
            ]
          },
          "metadata": {},
          "execution_count": 27
        },
        {
          "output_type": "display_data",
          "data": {
            "text/plain": [
              "<Figure size 432x288 with 1 Axes>"
            ],
            "image/png": "[encoded data removed]"
          },
          "metadata": {
            "needs_background": "light"
          }
        }
      ]
    },
    {
      "cell_type": "markdown",
      "source": [
        "The function illustrated above does not appear to be a one-to-one function, but it does appear to be surjective since all of the $y-values$ have an $x-value$ associated with them. Since the function is not injective (one-to-one) it cannot be considered bijective since it would have to be both injective and surjective. "
      ],
      "metadata": {
        "id": "xJJnLuy-KZBQ"
      }
    },
    {
      "cell_type": "markdown",
      "source": [
        "## 2.) Define a dictionary.\n",
        "\n",
        "![Cows_Chickens_small.jpg](https://raw.githubusercontent.com/Jett987/Discrete_Mathematics/main/Cows_Chickens_small.jpg)"
      ],
      "metadata": {
        "id": "_v3HBz-J6R_j"
      }
    },
    {
      "cell_type": "markdown",
      "source": [
        "###Part A.) Define a dictionary using numbers or strings. "
      ],
      "metadata": {
        "id": "4dXPxRuJW0M9"
      }
    },
    {
      "cell_type": "markdown",
      "source": [
        "The line of code below builds a dictionary based off of the sets I used in the first project. "
      ],
      "metadata": {
        "id": "SqNKCD9XX6HU"
      }
    },
    {
      "cell_type": "code",
      "source": [
        "A={'Brown Swiss', 'Nubian Goat', 'Pygmy Goat', 'Shorthorn', 'Ayrshire', 'Guernsey'}\n",
        "B={'Black Angus', 'Brahman', 'Hereford', 'Nubian Goat','Pygmy Goat','Naked Neck Chicken'}\n",
        "\n",
        "dictionary = dict({a:b for a,b in zip(A, B)})"
      ],
      "metadata": {
        "id": "am7xFiz46Y3b"
      },
      "execution_count": 28,
      "outputs": []
    },
    {
      "cell_type": "code",
      "source": [
        "dictionary"
      ],
      "metadata": {
        "colab": {
          "base_uri": "https://localhost:8080/"
        },
        "id": "WxVIRLrgMd5M",
        "outputId": "4274b07c-ef12-4e57-aa37-4a6b9c9ded14"
      },
      "execution_count": 29,
      "outputs": [
        {
          "output_type": "execute_result",
          "data": {
            "text/plain": [
              "{'Pygmy Goat': 'Pygmy Goat',\n",
              " 'Ayrshire': 'Brahman',\n",
              " 'Nubian Goat': 'Hereford',\n",
              " 'Shorthorn': 'Nubian Goat',\n",
              " 'Guernsey': 'Black Angus',\n",
              " 'Brown Swiss': 'Naked Neck Chicken'}"
            ]
          },
          "metadata": {},
          "execution_count": 29
        }
      ]
    },
    {
      "cell_type": "markdown",
      "source": [
        "The dictionary function above is considered bijective since each element in $B$ is mapped to one unique element in $A$. It satisfies the requirements for injective since each element in $A$ is mapped to a single unique element in $B$ making it one-to-one. It satisfies the requirements of surjective, or onto, since every element in $B$ is mapped to an element in $A$. It seems confusing since my two sets use names that are the same, but since they are from different sets I believe it is okay. "
      ],
      "metadata": {
        "id": "9P_QT8IxVJzl"
      }
    },
    {
      "cell_type": "markdown",
      "source": [
        "###Part B.) Applying the dictionary to a small set. "
      ],
      "metadata": {
        "id": "XdKQXg8oXjp9"
      }
    },
    {
      "cell_type": "markdown",
      "source": [
        "Next, the dictionary is applied to a small set with the results displayed below. "
      ],
      "metadata": {
        "id": "YLrrfRRiXnyn"
      }
    },
    {
      "cell_type": "code",
      "source": [
        "actualDictionary = dict({'Brown Swiss':'Naked Neck Chicken','Nubian Goat':'Pygmy Goat', 'Pygmy Goat':'Nubian Goat'})"
      ],
      "metadata": {
        "id": "dRKAhCexMfD1"
      },
      "execution_count": 30,
      "outputs": []
    },
    {
      "cell_type": "code",
      "source": [
        "secondlist=[actualDictionary.get(x,x) for x in A] "
      ],
      "metadata": {
        "id": "BesGJJ7ENi_E"
      },
      "execution_count": 31,
      "outputs": []
    },
    {
      "cell_type": "code",
      "source": [
        "secondlist"
      ],
      "metadata": {
        "colab": {
          "base_uri": "https://localhost:8080/"
        },
        "id": "7qWgQwikN9ox",
        "outputId": "e7e5acf2-ea95-4e72-aff7-2d50b1b1e268"
      },
      "execution_count": 32,
      "outputs": [
        {
          "output_type": "execute_result",
          "data": {
            "text/plain": [
              "['Nubian Goat',\n",
              " 'Ayrshire',\n",
              " 'Pygmy Goat',\n",
              " 'Shorthorn',\n",
              " 'Guernsey',\n",
              " 'Naked Neck Chicken']"
            ]
          },
          "metadata": {},
          "execution_count": 32
        }
      ]
    },
    {
      "cell_type": "markdown",
      "source": [
        "It appears that when applying the dictionary to a small set, some of the items are changed throughout. My new dictionary contained items that weren't included in the $secondlist$ that was created. "
      ],
      "metadata": {
        "id": "JA0-SzjzJ8hC"
      }
    },
    {
      "cell_type": "markdown",
      "source": [
        "###Part C.) Considering the dictionary as an endo-relation. "
      ],
      "metadata": {
        "id": "BO5N4jnXWu1Z"
      }
    },
    {
      "cell_type": "markdown",
      "source": [
        "In the original dictionary relation, it is neither reflexive, symmetric, or transitive. For reflexive each element of $A$ would have to be realted to itself, such as $(Brown$ $Swiss$: $Brown$ $Swiss)$. For symmetric each relation would have to contain the opposite realtion. For example $(Brown$ $Swiss$ : $Hereford)$ would also need $(Hereford$ : $Brown$ $Swiss$) to be symmetric. It is also not transitive since the $(a,b),(b,c),(a,c)$ instance isn't displayed here. Since it is not reflexive, symmetric, or transitive, it isn't an equivalence relation. It appears to be antisymmetric since there is no instance of $({x,y}),({y,x})$, but there is $(x,y)$ relationship. "
      ],
      "metadata": {
        "id": "hHDIbZDuPBHB"
      }
    }
  ]
}