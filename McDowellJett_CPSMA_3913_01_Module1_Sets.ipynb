{
  "nbformat": 4,
  "nbformat_minor": 0,
  "metadata": {
    "colab": {
      "provenance": [],
      "include_colab_link": true
    },
    "kernelspec": {
      "name": "python3",
      "display_name": "Python 3"
    }
  },
  "cells": [
    {
      "cell_type": "markdown",
      "metadata": {
        "id": "view-in-github",
        "colab_type": "text"
      },
      "source": [
        "<a href=\"https://colab.research.google.com/github/Jett987/Discrete_Mathematics/blob/main/McDowellJett_CPSMA_3913_01_Module1_Sets.ipynb\" target=\"_parent\"><img src=\"https://colab.research.google.com/assets/colab-badge.svg\" alt=\"Open In Colab\"/></a>"
      ]
    },
    {
      "cell_type": "markdown",
      "source": [
        "Project Part # 1 : CPSMA 3913 Dr. Lynam's Discrete Mathematics Project Part#1\n",
        "Jett McDowell\n",
        "(all coding was referenced from Dr. Jacob's github Discrete_Math python repository.)"
      ],
      "metadata": {
        "id": "OMYkRfurpd8o"
      }
    },
    {
      "cell_type": "markdown",
      "metadata": {
        "id": "YCJaepmmfKrS"
      },
      "source": [
        "# Project Part # 1: CPSMA 3913 Dr. Lynam's Discrete Mathematics utilizing [Dr. Jacob's](https://github.com/nurfnick) Discrete Mathematics github repository\n",
        "\n",
        "## Project Module 1: Sets\n",
        "\n",
        "### Jett McDowell  206812 \n",
        "\n",
        "![Brown Swiss Small.jpg](https://raw.githubusercontent.com/Jett987/Discrete_Mathematics/main/Brown%20Swiss%20Small.jpg)\n",
        "\n"
      ]
    },
    {
      "cell_type": "markdown",
      "metadata": {
        "id": "Xs_Pvtua1Nnt"
      },
      "source": [
        "## 1.) Build and manipulate sets."
      ]
    },
    {
      "cell_type": "markdown",
      "metadata": {
        "id": "2z6U1aB_fQDM"
      },
      "source": [
        "###(Part a.) Build 3 sets. "
      ]
    },
    {
      "cell_type": "markdown",
      "source": [
        "For my sets, I am going to use the different types of animals I use on my homestead. Please keep in mind I do not own each of these breeds, but I do own the types and a few of the breeds. My DiaryAnimals set will include animals I use for milk production. My MeatAnimals will include animals I can use for meat. My UtilityAnimals will include animals that I use for other purposes such as clearing land, guarding other animals, or maintaining pest control."
      ],
      "metadata": {
        "id": "a9N-3KcysndY"
      }
    },
    {
      "cell_type": "code",
      "metadata": {
        "id": "rU_BgC_kfH7g"
      },
      "source": [
        "DairyAnimals={'Brown Swiss', 'Nubian Goat', 'Pygmy Goat', 'Shorthorn', 'Ayrshire', 'Guernsey'}\n",
        "MeatAnimals={'Black Angus', 'Brahman', 'Hereford', 'Nubian Goat','Pygmy Goat','Naked Neck Chicken'}\n",
        "UtilityAnimals={'Pygmy Goat', 'Anatolian Shepherd', 'Naked Neck Chicken', 'Cat', 'Nubian Goat'}"
      ],
      "execution_count": 1,
      "outputs": []
    },
    {
      "cell_type": "markdown",
      "source": [
        "###Part b.) Creating a universal set. "
      ],
      "metadata": {
        "id": "2pFDcL77veA0"
      }
    },
    {
      "cell_type": "markdown",
      "source": [
        "First, I am going to create a new set that has 5 elements not contained in the previous sets. "
      ],
      "metadata": {
        "id": "EqVNVuNsv2lG"
      }
    },
    {
      "cell_type": "code",
      "source": [
        "Dogs={'German Shepherd','Yorkie','Schnauzer','Great Pyrenees','Golden Retriever'}"
      ],
      "metadata": {
        "id": "GCxh1Muuv9Hu"
      },
      "execution_count": 2,
      "outputs": []
    },
    {
      "cell_type": "markdown",
      "source": [
        "Next, I am going to create a universal set. The universal set include all elements in DairyAnimals, MeatAnimals, UtilityAnimals, and Dogs. "
      ],
      "metadata": {
        "id": "7bBqrTV8a5BN"
      }
    },
    {
      "cell_type": "code",
      "source": [
        "SetofSets = [DairyAnimals,MeatAnimals,UtilityAnimals,Dogs]\n",
        "U = set() \n",
        "for sett in SetofSets:\n",
        "  U = U.union(sett)\n",
        "\n",
        "U"
      ],
      "metadata": {
        "colab": {
          "base_uri": "https://localhost:8080/"
        },
        "id": "2bNgRL67vZ4h",
        "outputId": "b5fffdf2-6331-4a6e-fe91-741d94dde426"
      },
      "execution_count": 4,
      "outputs": [
        {
          "output_type": "execute_result",
          "data": {
            "text/plain": [
              "{'Anatolian Shepherd',\n",
              " 'Ayrshire',\n",
              " 'Black Angus',\n",
              " 'Brahman',\n",
              " 'Brown Swiss',\n",
              " 'Cat',\n",
              " 'German Shepherd',\n",
              " 'Golden Retriever',\n",
              " 'Great Pyrenees',\n",
              " 'Guernsey',\n",
              " 'Hereford',\n",
              " 'Naked Neck Chicken',\n",
              " 'Nubian Goat',\n",
              " 'Pygmy Goat',\n",
              " 'Schnauzer',\n",
              " 'Shorthorn',\n",
              " 'Yorkie'}"
            ]
          },
          "metadata": {},
          "execution_count": 4
        }
      ]
    },
    {
      "cell_type": "markdown",
      "metadata": {
        "id": "Iggon6VK1Vxo"
      },
      "source": [
        "###Part c.) Intersections and unions. \n"
      ]
    },
    {
      "cell_type": "markdown",
      "source": [
        "I am now going obtain the union and intersection of my sets using the $.union$ and $.intersection$ functions. "
      ],
      "metadata": {
        "id": "EY4jB_z4bMes"
      }
    },
    {
      "cell_type": "markdown",
      "source": [
        "DairyAnimals ∪ MeatAnimals"
      ],
      "metadata": {
        "id": "Oc2gCkQ4yMCR"
      }
    },
    {
      "cell_type": "code",
      "source": [
        "DairyAnimals.union(MeatAnimals)"
      ],
      "metadata": {
        "colab": {
          "base_uri": "https://localhost:8080/"
        },
        "id": "PmIQsHLCxoiB",
        "outputId": "5c66ac59-fb4f-4af0-9b78-2819524e75dd"
      },
      "execution_count": 5,
      "outputs": [
        {
          "output_type": "execute_result",
          "data": {
            "text/plain": [
              "{'Ayrshire',\n",
              " 'Black Angus',\n",
              " 'Brahman',\n",
              " 'Brown Swiss',\n",
              " 'Guernsey',\n",
              " 'Hereford',\n",
              " 'Naked Neck Chicken',\n",
              " 'Nubian Goat',\n",
              " 'Pygmy Goat',\n",
              " 'Shorthorn'}"
            ]
          },
          "metadata": {},
          "execution_count": 5
        }
      ]
    },
    {
      "cell_type": "markdown",
      "source": [
        "DairyAnimals ∪ UtilityAnimals"
      ],
      "metadata": {
        "id": "TZUJxTChyXXu"
      }
    },
    {
      "cell_type": "code",
      "source": [
        "DairyAnimals.union(UtilityAnimals)"
      ],
      "metadata": {
        "colab": {
          "base_uri": "https://localhost:8080/"
        },
        "id": "ypd8-BXvyR23",
        "outputId": "59caca6c-d007-44f5-a2de-995d4e613fd5"
      },
      "execution_count": 6,
      "outputs": [
        {
          "output_type": "execute_result",
          "data": {
            "text/plain": [
              "{'Anatolian Shepherd',\n",
              " 'Ayrshire',\n",
              " 'Brown Swiss',\n",
              " 'Cat',\n",
              " 'Guernsey',\n",
              " 'Naked Neck Chicken',\n",
              " 'Nubian Goat',\n",
              " 'Pygmy Goat',\n",
              " 'Shorthorn'}"
            ]
          },
          "metadata": {},
          "execution_count": 6
        }
      ]
    },
    {
      "cell_type": "markdown",
      "source": [
        "MeatAnimals ∪ UtilityAnimals"
      ],
      "metadata": {
        "id": "qS9RyReLyz_4"
      }
    },
    {
      "cell_type": "code",
      "source": [
        "MeatAnimals.union(UtilityAnimals)"
      ],
      "metadata": {
        "colab": {
          "base_uri": "https://localhost:8080/"
        },
        "id": "a5pAAREvy4gH",
        "outputId": "9f3b362d-c1f3-4656-aa88-c24660acb3e4"
      },
      "execution_count": 7,
      "outputs": [
        {
          "output_type": "execute_result",
          "data": {
            "text/plain": [
              "{'Anatolian Shepherd',\n",
              " 'Black Angus',\n",
              " 'Brahman',\n",
              " 'Cat',\n",
              " 'Hereford',\n",
              " 'Naked Neck Chicken',\n",
              " 'Nubian Goat',\n",
              " 'Pygmy Goat'}"
            ]
          },
          "metadata": {},
          "execution_count": 7
        }
      ]
    },
    {
      "cell_type": "markdown",
      "source": [
        "DairyAnimals ∩ MeatAnimals"
      ],
      "metadata": {
        "id": "nG9JwKi8dXrj"
      }
    },
    {
      "cell_type": "code",
      "source": [
        "DairyAnimals.intersection(MeatAnimals)"
      ],
      "metadata": {
        "colab": {
          "base_uri": "https://localhost:8080/"
        },
        "id": "8Lmz4CzUddUQ",
        "outputId": "1b7ed06e-e3e0-4ce5-d0c6-695d674450fa"
      },
      "execution_count": 8,
      "outputs": [
        {
          "output_type": "execute_result",
          "data": {
            "text/plain": [
              "{'Nubian Goat', 'Pygmy Goat'}"
            ]
          },
          "metadata": {},
          "execution_count": 8
        }
      ]
    },
    {
      "cell_type": "markdown",
      "source": [
        "DairyAnimals ∩ UtilityAnimals"
      ],
      "metadata": {
        "id": "0hMvsC5Gd3_O"
      }
    },
    {
      "cell_type": "code",
      "source": [
        "DairyAnimals.intersection(UtilityAnimals)"
      ],
      "metadata": {
        "colab": {
          "base_uri": "https://localhost:8080/"
        },
        "id": "m09GLmH2d3ZY",
        "outputId": "a1174d74-ecde-41dc-9160-6e5e3028cb3f"
      },
      "execution_count": 9,
      "outputs": [
        {
          "output_type": "execute_result",
          "data": {
            "text/plain": [
              "{'Nubian Goat', 'Pygmy Goat'}"
            ]
          },
          "metadata": {},
          "execution_count": 9
        }
      ]
    },
    {
      "cell_type": "markdown",
      "source": [
        "MeatAnimals ∩ UtilityAnimals"
      ],
      "metadata": {
        "id": "rB25nOkGeI3B"
      }
    },
    {
      "cell_type": "code",
      "source": [
        "MeatAnimals.intersection(UtilityAnimals)"
      ],
      "metadata": {
        "colab": {
          "base_uri": "https://localhost:8080/"
        },
        "id": "1A1Hnc22eJ1g",
        "outputId": "2d53ca35-b249-4298-9e31-ee0a81167d4b"
      },
      "execution_count": 10,
      "outputs": [
        {
          "output_type": "execute_result",
          "data": {
            "text/plain": [
              "{'Naked Neck Chicken', 'Nubian Goat', 'Pygmy Goat'}"
            ]
          },
          "metadata": {},
          "execution_count": 10
        }
      ]
    },
    {
      "cell_type": "markdown",
      "source": [
        "It does not matter which set is called first. The union of a set will contain everything in each set, and it will not list the same element twice. The intersection will contain elements that appear within both sets. I have listed the first example, DiaryAnimals ∪ MeatAnimals in reverse order below to demonstrate."
      ],
      "metadata": {
        "id": "mXi6BY71cRe3"
      }
    },
    {
      "cell_type": "markdown",
      "source": [
        "MeatAnimals ∪ DairyAnimals"
      ],
      "metadata": {
        "id": "yGISuB4lcwOZ"
      }
    },
    {
      "cell_type": "code",
      "source": [
        "MeatAnimals.union(DairyAnimals)"
      ],
      "metadata": {
        "colab": {
          "base_uri": "https://localhost:8080/"
        },
        "id": "3SjA90s_cvff",
        "outputId": "427530f3-0b2f-4575-e585-e5b6006e041f"
      },
      "execution_count": 11,
      "outputs": [
        {
          "output_type": "execute_result",
          "data": {
            "text/plain": [
              "{'Ayrshire',\n",
              " 'Black Angus',\n",
              " 'Brahman',\n",
              " 'Brown Swiss',\n",
              " 'Guernsey',\n",
              " 'Hereford',\n",
              " 'Naked Neck Chicken',\n",
              " 'Nubian Goat',\n",
              " 'Pygmy Goat',\n",
              " 'Shorthorn'}"
            ]
          },
          "metadata": {},
          "execution_count": 11
        }
      ]
    },
    {
      "cell_type": "markdown",
      "source": [
        "Similarly the intersection result is the same. Instead of DairyAnimals ∩ UtilityAnimals, I will do UtilityAnimals ∩ DairyAnimals. "
      ],
      "metadata": {
        "id": "mjmVOItzdAma"
      }
    },
    {
      "cell_type": "code",
      "source": [
        "UtilityAnimals.intersection(DairyAnimals)"
      ],
      "metadata": {
        "colab": {
          "base_uri": "https://localhost:8080/"
        },
        "id": "zBFdXHrUdO0v",
        "outputId": "9bfb762b-d7dd-4083-829e-8654b338d1fd"
      },
      "execution_count": 12,
      "outputs": [
        {
          "output_type": "execute_result",
          "data": {
            "text/plain": [
              "{'Nubian Goat', 'Pygmy Goat'}"
            ]
          },
          "metadata": {},
          "execution_count": 12
        }
      ]
    },
    {
      "cell_type": "markdown",
      "source": [
        "As you can see, there is no difference. "
      ],
      "metadata": {
        "id": "cigmzmf6dWkz"
      }
    },
    {
      "cell_type": "markdown",
      "source": [
        "### Part d.)Computing the complements."
      ],
      "metadata": {
        "id": "QKLwnx3lebgS"
      }
    },
    {
      "cell_type": "markdown",
      "source": [
        "The complements of each set will contain elements listed in the first set that are not also listed in the second set. It will not include the element if it is in both the first set, and the second set. "
      ],
      "metadata": {
        "id": "1iXKTcJKgbQO"
      }
    },
    {
      "cell_type": "markdown",
      "source": [
        "Complement universal set - DairyAnimals"
      ],
      "metadata": {
        "id": "ycFW4ZSue9Bw"
      }
    },
    {
      "cell_type": "code",
      "source": [
        "U-DairyAnimals"
      ],
      "metadata": {
        "colab": {
          "base_uri": "https://localhost:8080/"
        },
        "id": "4xKwuf04eeBL",
        "outputId": "730a3992-747d-4c59-8ac3-08d3b17cea9f"
      },
      "execution_count": 13,
      "outputs": [
        {
          "output_type": "execute_result",
          "data": {
            "text/plain": [
              "{'Anatolian Shepherd',\n",
              " 'Black Angus',\n",
              " 'Brahman',\n",
              " 'Cat',\n",
              " 'German Shepherd',\n",
              " 'Golden Retriever',\n",
              " 'Great Pyrenees',\n",
              " 'Hereford',\n",
              " 'Naked Neck Chicken',\n",
              " 'Schnauzer',\n",
              " 'Yorkie'}"
            ]
          },
          "metadata": {},
          "execution_count": 13
        }
      ]
    },
    {
      "cell_type": "markdown",
      "source": [
        "Complement DairyAnimals-universal set"
      ],
      "metadata": {
        "id": "vPDqwIpjnb_B"
      }
    },
    {
      "cell_type": "code",
      "source": [
        "DairyAnimals-U"
      ],
      "metadata": {
        "colab": {
          "base_uri": "https://localhost:8080/"
        },
        "id": "-YrL3CsjniSo",
        "outputId": "dc4bf506-258d-4d9f-d35d-cbdf6d596cbd"
      },
      "execution_count": 14,
      "outputs": [
        {
          "output_type": "execute_result",
          "data": {
            "text/plain": [
              "set()"
            ]
          },
          "metadata": {},
          "execution_count": 14
        }
      ]
    },
    {
      "cell_type": "markdown",
      "source": [
        "Complement universal set - MeatAnimals"
      ],
      "metadata": {
        "id": "IcM43heQe_hh"
      }
    },
    {
      "cell_type": "code",
      "source": [
        "U-MeatAnimals"
      ],
      "metadata": {
        "colab": {
          "base_uri": "https://localhost:8080/"
        },
        "id": "YtWZse1QfBNa",
        "outputId": "f8223a20-abf3-4158-d1c1-367ae8414cd7"
      },
      "execution_count": 15,
      "outputs": [
        {
          "output_type": "execute_result",
          "data": {
            "text/plain": [
              "{'Anatolian Shepherd',\n",
              " 'Ayrshire',\n",
              " 'Brown Swiss',\n",
              " 'Cat',\n",
              " 'German Shepherd',\n",
              " 'Golden Retriever',\n",
              " 'Great Pyrenees',\n",
              " 'Guernsey',\n",
              " 'Schnauzer',\n",
              " 'Shorthorn',\n",
              " 'Yorkie'}"
            ]
          },
          "metadata": {},
          "execution_count": 15
        }
      ]
    },
    {
      "cell_type": "markdown",
      "source": [
        "Complement MeatAnimals-universal set"
      ],
      "metadata": {
        "id": "DJMTRehjnrJD"
      }
    },
    {
      "cell_type": "code",
      "source": [
        "MeatAnimals-U"
      ],
      "metadata": {
        "colab": {
          "base_uri": "https://localhost:8080/"
        },
        "id": "vORSSr78nxGb",
        "outputId": "eee8ecb9-7612-4554-f7b1-6f7cb93bd7f8"
      },
      "execution_count": 16,
      "outputs": [
        {
          "output_type": "execute_result",
          "data": {
            "text/plain": [
              "set()"
            ]
          },
          "metadata": {},
          "execution_count": 16
        }
      ]
    },
    {
      "cell_type": "markdown",
      "source": [
        "Complement universal set - UtilityAnimals"
      ],
      "metadata": {
        "id": "Xt9Nm10mfEqO"
      }
    },
    {
      "cell_type": "code",
      "source": [
        "U-UtilityAnimals"
      ],
      "metadata": {
        "colab": {
          "base_uri": "https://localhost:8080/"
        },
        "id": "idcCyYAdfG6L",
        "outputId": "cd5e8989-f662-46fc-b729-093ca76c0c64"
      },
      "execution_count": 17,
      "outputs": [
        {
          "output_type": "execute_result",
          "data": {
            "text/plain": [
              "{'Ayrshire',\n",
              " 'Black Angus',\n",
              " 'Brahman',\n",
              " 'Brown Swiss',\n",
              " 'German Shepherd',\n",
              " 'Golden Retriever',\n",
              " 'Great Pyrenees',\n",
              " 'Guernsey',\n",
              " 'Hereford',\n",
              " 'Schnauzer',\n",
              " 'Shorthorn',\n",
              " 'Yorkie'}"
            ]
          },
          "metadata": {},
          "execution_count": 17
        }
      ]
    },
    {
      "cell_type": "markdown",
      "source": [
        "Complement UtilityAnimals-universal set"
      ],
      "metadata": {
        "id": "bPDUVAu2oBFu"
      }
    },
    {
      "cell_type": "code",
      "source": [
        "UtilityAnimals-U"
      ],
      "metadata": {
        "colab": {
          "base_uri": "https://localhost:8080/"
        },
        "id": "YQfWhfZuog1L",
        "outputId": "b8517fd2-7d3b-4e05-b982-abecf8b2d120"
      },
      "execution_count": 18,
      "outputs": [
        {
          "output_type": "execute_result",
          "data": {
            "text/plain": [
              "set()"
            ]
          },
          "metadata": {},
          "execution_count": 18
        }
      ]
    },
    {
      "cell_type": "markdown",
      "source": [
        "Complement DairyAnimals - MeatAnimals"
      ],
      "metadata": {
        "id": "nRtJ7cyckZIN"
      }
    },
    {
      "cell_type": "code",
      "source": [
        "DairyAnimals-MeatAnimals"
      ],
      "metadata": {
        "colab": {
          "base_uri": "https://localhost:8080/"
        },
        "id": "7lGDCiXPj86J",
        "outputId": "5f330677-25d0-4e8f-9cff-a3f137b04475"
      },
      "execution_count": 19,
      "outputs": [
        {
          "output_type": "execute_result",
          "data": {
            "text/plain": [
              "{'Ayrshire', 'Brown Swiss', 'Guernsey', 'Shorthorn'}"
            ]
          },
          "metadata": {},
          "execution_count": 19
        }
      ]
    },
    {
      "cell_type": "markdown",
      "source": [
        "Complement MeatAnimals-DairyAnimals"
      ],
      "metadata": {
        "id": "vM9oj3Ojk6By"
      }
    },
    {
      "cell_type": "code",
      "source": [
        "MeatAnimals-DairyAnimals"
      ],
      "metadata": {
        "colab": {
          "base_uri": "https://localhost:8080/"
        },
        "id": "Egc4Ay_UkxyA",
        "outputId": "6bbed288-90f2-4267-8a58-c00f64c28cec"
      },
      "execution_count": 20,
      "outputs": [
        {
          "output_type": "execute_result",
          "data": {
            "text/plain": [
              "{'Black Angus', 'Brahman', 'Hereford', 'Naked Neck Chicken'}"
            ]
          },
          "metadata": {},
          "execution_count": 20
        }
      ]
    },
    {
      "cell_type": "markdown",
      "source": [
        "Complement MeatAnimals-UtilityAnimals"
      ],
      "metadata": {
        "id": "9QK8rNw-llWZ"
      }
    },
    {
      "cell_type": "code",
      "source": [
        "MeatAnimals-UtilityAnimals"
      ],
      "metadata": {
        "colab": {
          "base_uri": "https://localhost:8080/"
        },
        "id": "fwhDXIellcu-",
        "outputId": "cfbbf14a-da08-4cd8-d2c3-a980be327cc4"
      },
      "execution_count": 21,
      "outputs": [
        {
          "output_type": "execute_result",
          "data": {
            "text/plain": [
              "{'Black Angus', 'Brahman', 'Hereford'}"
            ]
          },
          "metadata": {},
          "execution_count": 21
        }
      ]
    },
    {
      "cell_type": "markdown",
      "source": [
        "Complement UtilityAnimals-MeatAnimals"
      ],
      "metadata": {
        "id": "iG5eSFFJl6bm"
      }
    },
    {
      "cell_type": "code",
      "source": [
        "UtilityAnimals-MeatAnimals"
      ],
      "metadata": {
        "colab": {
          "base_uri": "https://localhost:8080/"
        },
        "id": "OfmZZ_iAmCt8",
        "outputId": "40baaf0c-df22-4fd9-f304-bf21b69533c0"
      },
      "execution_count": 22,
      "outputs": [
        {
          "output_type": "execute_result",
          "data": {
            "text/plain": [
              "{'Anatolian Shepherd', 'Cat'}"
            ]
          },
          "metadata": {},
          "execution_count": 22
        }
      ]
    },
    {
      "cell_type": "markdown",
      "source": [
        "Complement DairyAnimals-UtilityAnimals"
      ],
      "metadata": {
        "id": "-26H0ktxmN0r"
      }
    },
    {
      "cell_type": "code",
      "source": [
        "DairyAnimals-UtilityAnimals"
      ],
      "metadata": {
        "colab": {
          "base_uri": "https://localhost:8080/"
        },
        "id": "vune8XZMmTFo",
        "outputId": "1448c77a-1e6e-4654-a317-1934a081b651"
      },
      "execution_count": 23,
      "outputs": [
        {
          "output_type": "execute_result",
          "data": {
            "text/plain": [
              "{'Ayrshire', 'Brown Swiss', 'Guernsey', 'Shorthorn'}"
            ]
          },
          "metadata": {},
          "execution_count": 23
        }
      ]
    },
    {
      "cell_type": "markdown",
      "source": [
        "Complement UtilityAnimals-DairyAnimals"
      ],
      "metadata": {
        "id": "g6zyjvegmfvH"
      }
    },
    {
      "cell_type": "code",
      "source": [
        "UtilityAnimals-DairyAnimals"
      ],
      "metadata": {
        "colab": {
          "base_uri": "https://localhost:8080/"
        },
        "id": "NgALnukOmprC",
        "outputId": "6899bf18-35f4-4ad2-ef25-2114d976e6e7"
      },
      "execution_count": 24,
      "outputs": [
        {
          "output_type": "execute_result",
          "data": {
            "text/plain": [
              "{'Anatolian Shepherd', 'Cat', 'Naked Neck Chicken'}"
            ]
          },
          "metadata": {},
          "execution_count": 24
        }
      ]
    },
    {
      "cell_type": "markdown",
      "source": [
        "As displayed in the lines of code above, the complement does not list the same elements when the set order is reversed. When taking the reverse of the universal set, the result is an empty set."
      ],
      "metadata": {
        "id": "N6eT6gJcmy8T"
      }
    },
    {
      "cell_type": "markdown",
      "source": [
        "The line of code below evaluates the complement of the union of DairyAnimals and MeatAnimals and the intersetion of DairyAnimals and MeatAnimals. "
      ],
      "metadata": {
        "id": "7kMUTcN2itFI"
      }
    },
    {
      "cell_type": "markdown",
      "source": [
        "Complement from DairyAnimals ∪ MeatAnimals - DairyAnimals ∩ MeatAnimals"
      ],
      "metadata": {
        "id": "-Y6W-4B0rvge"
      }
    },
    {
      "cell_type": "code",
      "source": [
        "DairyAnimals.union(MeatAnimals)-DairyAnimals.intersection(MeatAnimals)"
      ],
      "metadata": {
        "colab": {
          "base_uri": "https://localhost:8080/"
        },
        "id": "w39dIS1yscT-",
        "outputId": "27bfe093-8b25-48fb-ccb6-7a3f044a10b0"
      },
      "execution_count": 25,
      "outputs": [
        {
          "output_type": "execute_result",
          "data": {
            "text/plain": [
              "{'Ayrshire',\n",
              " 'Black Angus',\n",
              " 'Brahman',\n",
              " 'Brown Swiss',\n",
              " 'Guernsey',\n",
              " 'Hereford',\n",
              " 'Naked Neck Chicken',\n",
              " 'Shorthorn'}"
            ]
          },
          "metadata": {},
          "execution_count": 25
        }
      ]
    },
    {
      "cell_type": "markdown",
      "source": [
        "###Part e.) Subsets"
      ],
      "metadata": {
        "id": "BcbqljVbs_1Q"
      }
    },
    {
      "cell_type": "markdown",
      "source": [
        "The lines of code below use the built in function to check if there are subsets. The first line is checking if DairyAnimals is a subset of the universal set. It returns true since all elements contained within the DiaryAnimals set are contained in the universal set. "
      ],
      "metadata": {
        "id": "SuDVMgf2jbTn"
      }
    },
    {
      "cell_type": "code",
      "source": [
        "DairyAnimals<=U"
      ],
      "metadata": {
        "colab": {
          "base_uri": "https://localhost:8080/"
        },
        "id": "6JhAEYallTKk",
        "outputId": "a4ba3c36-2a7c-4836-9d32-857b8163cd2e"
      },
      "execution_count": 26,
      "outputs": [
        {
          "output_type": "execute_result",
          "data": {
            "text/plain": [
              "True"
            ]
          },
          "metadata": {},
          "execution_count": 26
        }
      ]
    },
    {
      "cell_type": "code",
      "source": [
        "MeatAnimals<=U"
      ],
      "metadata": {
        "colab": {
          "base_uri": "https://localhost:8080/"
        },
        "id": "Tl1hwYa6lyT6",
        "outputId": "4c8be8e7-f2e3-4492-d13b-f4b8686077cc"
      },
      "execution_count": 27,
      "outputs": [
        {
          "output_type": "execute_result",
          "data": {
            "text/plain": [
              "True"
            ]
          },
          "metadata": {},
          "execution_count": 27
        }
      ]
    },
    {
      "cell_type": "code",
      "source": [
        "UtilityAnimals<=U"
      ],
      "metadata": {
        "colab": {
          "base_uri": "https://localhost:8080/"
        },
        "id": "RqImTSb8l5FE",
        "outputId": "6d869964-98d0-4ef1-f225-01b5a2d4a9c9"
      },
      "execution_count": 28,
      "outputs": [
        {
          "output_type": "execute_result",
          "data": {
            "text/plain": [
              "True"
            ]
          },
          "metadata": {},
          "execution_count": 28
        }
      ]
    },
    {
      "cell_type": "code",
      "source": [
        "DairyAnimals<=MeatAnimals"
      ],
      "metadata": {
        "colab": {
          "base_uri": "https://localhost:8080/"
        },
        "id": "KvdgCW8bl-_-",
        "outputId": "fca53a70-4ed9-4d66-8e26-b437c9328306"
      },
      "execution_count": 29,
      "outputs": [
        {
          "output_type": "execute_result",
          "data": {
            "text/plain": [
              "False"
            ]
          },
          "metadata": {},
          "execution_count": 29
        }
      ]
    },
    {
      "cell_type": "code",
      "source": [
        "DairyAnimals<=UtilityAnimals"
      ],
      "metadata": {
        "colab": {
          "base_uri": "https://localhost:8080/"
        },
        "id": "jSaPzMAJmDy4",
        "outputId": "d179da4e-1eb4-41fd-a53d-37eeed622d03"
      },
      "execution_count": 30,
      "outputs": [
        {
          "output_type": "execute_result",
          "data": {
            "text/plain": [
              "False"
            ]
          },
          "metadata": {},
          "execution_count": 30
        }
      ]
    },
    {
      "cell_type": "code",
      "source": [
        "MeatAnimals<=DairyAnimals"
      ],
      "metadata": {
        "colab": {
          "base_uri": "https://localhost:8080/"
        },
        "id": "wteKrPKfmI5e",
        "outputId": "3b6ccda8-b20a-4573-c8de-3e6fc73e3bc0"
      },
      "execution_count": 31,
      "outputs": [
        {
          "output_type": "execute_result",
          "data": {
            "text/plain": [
              "False"
            ]
          },
          "metadata": {},
          "execution_count": 31
        }
      ]
    },
    {
      "cell_type": "code",
      "source": [
        "MeatAnimals<=UtilityAnimals"
      ],
      "metadata": {
        "colab": {
          "base_uri": "https://localhost:8080/"
        },
        "id": "gEK0my_emNZx",
        "outputId": "81a192de-6a47-4907-8820-6bc43b12ed1b"
      },
      "execution_count": 32,
      "outputs": [
        {
          "output_type": "execute_result",
          "data": {
            "text/plain": [
              "False"
            ]
          },
          "metadata": {},
          "execution_count": 32
        }
      ]
    },
    {
      "cell_type": "code",
      "source": [
        "UtilityAnimals<=DairyAnimals"
      ],
      "metadata": {
        "colab": {
          "base_uri": "https://localhost:8080/"
        },
        "id": "SRjXLe4LmTHS",
        "outputId": "00f359ae-3dc6-4e64-ce82-29f61a930ad3"
      },
      "execution_count": 33,
      "outputs": [
        {
          "output_type": "execute_result",
          "data": {
            "text/plain": [
              "False"
            ]
          },
          "metadata": {},
          "execution_count": 33
        }
      ]
    },
    {
      "cell_type": "code",
      "source": [
        "UtilityAnimals<=MeatAnimals"
      ],
      "metadata": {
        "colab": {
          "base_uri": "https://localhost:8080/"
        },
        "id": "v72Vjdd7mYrJ",
        "outputId": "df0c9114-2058-4e6e-dadd-c75311f1c0f1"
      },
      "execution_count": 34,
      "outputs": [
        {
          "output_type": "execute_result",
          "data": {
            "text/plain": [
              "False"
            ]
          },
          "metadata": {},
          "execution_count": 34
        }
      ]
    },
    {
      "cell_type": "markdown",
      "source": [
        "It would appear the only subsets are from the universal set. "
      ],
      "metadata": {
        "id": "Adkttjx8uH1d"
      }
    },
    {
      "cell_type": "markdown",
      "source": [
        "###Part f.) Power Sets"
      ],
      "metadata": {
        "id": "6HiCIq9Duc2V"
      }
    },
    {
      "cell_type": "code",
      "source": [
        "def DPpowerset(s):\n",
        "  powerset = [[]]\n",
        "  for i in s:\n",
        "    for sett in powerset:\n",
        "      powerset = powerset + [sett + [i]]\n",
        "  return powerset\n",
        "\n",
        " "
      ],
      "metadata": {
        "id": "lYAydIqiuewB"
      },
      "execution_count": 35,
      "outputs": []
    },
    {
      "cell_type": "markdown",
      "source": [
        "The power set below is for the set DairyAnimals. The set contained 6 elements. That resulted in $2^6=64$ elements. "
      ],
      "metadata": {
        "id": "L4MY9AIoYUZX"
      }
    },
    {
      "cell_type": "code",
      "source": [
        " DPpowerset(DairyAnimals)"
      ],
      "metadata": {
        "colab": {
          "base_uri": "https://localhost:8080/"
        },
        "id": "16UtJEj1uFVg",
        "outputId": "5d5ec549-3100-4e54-fb48-98998a80ec77"
      },
      "execution_count": 36,
      "outputs": [
        {
          "output_type": "execute_result",
          "data": {
            "text/plain": [
              "[[],\n",
              " ['Nubian Goat'],\n",
              " ['Shorthorn'],\n",
              " ['Nubian Goat', 'Shorthorn'],\n",
              " ['Brown Swiss'],\n",
              " ['Nubian Goat', 'Brown Swiss'],\n",
              " ['Shorthorn', 'Brown Swiss'],\n",
              " ['Nubian Goat', 'Shorthorn', 'Brown Swiss'],\n",
              " ['Pygmy Goat'],\n",
              " ['Nubian Goat', 'Pygmy Goat'],\n",
              " ['Shorthorn', 'Pygmy Goat'],\n",
              " ['Nubian Goat', 'Shorthorn', 'Pygmy Goat'],\n",
              " ['Brown Swiss', 'Pygmy Goat'],\n",
              " ['Nubian Goat', 'Brown Swiss', 'Pygmy Goat'],\n",
              " ['Shorthorn', 'Brown Swiss', 'Pygmy Goat'],\n",
              " ['Nubian Goat', 'Shorthorn', 'Brown Swiss', 'Pygmy Goat'],\n",
              " ['Guernsey'],\n",
              " ['Nubian Goat', 'Guernsey'],\n",
              " ['Shorthorn', 'Guernsey'],\n",
              " ['Nubian Goat', 'Shorthorn', 'Guernsey'],\n",
              " ['Brown Swiss', 'Guernsey'],\n",
              " ['Nubian Goat', 'Brown Swiss', 'Guernsey'],\n",
              " ['Shorthorn', 'Brown Swiss', 'Guernsey'],\n",
              " ['Nubian Goat', 'Shorthorn', 'Brown Swiss', 'Guernsey'],\n",
              " ['Pygmy Goat', 'Guernsey'],\n",
              " ['Nubian Goat', 'Pygmy Goat', 'Guernsey'],\n",
              " ['Shorthorn', 'Pygmy Goat', 'Guernsey'],\n",
              " ['Nubian Goat', 'Shorthorn', 'Pygmy Goat', 'Guernsey'],\n",
              " ['Brown Swiss', 'Pygmy Goat', 'Guernsey'],\n",
              " ['Nubian Goat', 'Brown Swiss', 'Pygmy Goat', 'Guernsey'],\n",
              " ['Shorthorn', 'Brown Swiss', 'Pygmy Goat', 'Guernsey'],\n",
              " ['Nubian Goat', 'Shorthorn', 'Brown Swiss', 'Pygmy Goat', 'Guernsey'],\n",
              " ['Ayrshire'],\n",
              " ['Nubian Goat', 'Ayrshire'],\n",
              " ['Shorthorn', 'Ayrshire'],\n",
              " ['Nubian Goat', 'Shorthorn', 'Ayrshire'],\n",
              " ['Brown Swiss', 'Ayrshire'],\n",
              " ['Nubian Goat', 'Brown Swiss', 'Ayrshire'],\n",
              " ['Shorthorn', 'Brown Swiss', 'Ayrshire'],\n",
              " ['Nubian Goat', 'Shorthorn', 'Brown Swiss', 'Ayrshire'],\n",
              " ['Pygmy Goat', 'Ayrshire'],\n",
              " ['Nubian Goat', 'Pygmy Goat', 'Ayrshire'],\n",
              " ['Shorthorn', 'Pygmy Goat', 'Ayrshire'],\n",
              " ['Nubian Goat', 'Shorthorn', 'Pygmy Goat', 'Ayrshire'],\n",
              " ['Brown Swiss', 'Pygmy Goat', 'Ayrshire'],\n",
              " ['Nubian Goat', 'Brown Swiss', 'Pygmy Goat', 'Ayrshire'],\n",
              " ['Shorthorn', 'Brown Swiss', 'Pygmy Goat', 'Ayrshire'],\n",
              " ['Nubian Goat', 'Shorthorn', 'Brown Swiss', 'Pygmy Goat', 'Ayrshire'],\n",
              " ['Guernsey', 'Ayrshire'],\n",
              " ['Nubian Goat', 'Guernsey', 'Ayrshire'],\n",
              " ['Shorthorn', 'Guernsey', 'Ayrshire'],\n",
              " ['Nubian Goat', 'Shorthorn', 'Guernsey', 'Ayrshire'],\n",
              " ['Brown Swiss', 'Guernsey', 'Ayrshire'],\n",
              " ['Nubian Goat', 'Brown Swiss', 'Guernsey', 'Ayrshire'],\n",
              " ['Shorthorn', 'Brown Swiss', 'Guernsey', 'Ayrshire'],\n",
              " ['Nubian Goat', 'Shorthorn', 'Brown Swiss', 'Guernsey', 'Ayrshire'],\n",
              " ['Pygmy Goat', 'Guernsey', 'Ayrshire'],\n",
              " ['Nubian Goat', 'Pygmy Goat', 'Guernsey', 'Ayrshire'],\n",
              " ['Shorthorn', 'Pygmy Goat', 'Guernsey', 'Ayrshire'],\n",
              " ['Nubian Goat', 'Shorthorn', 'Pygmy Goat', 'Guernsey', 'Ayrshire'],\n",
              " ['Brown Swiss', 'Pygmy Goat', 'Guernsey', 'Ayrshire'],\n",
              " ['Nubian Goat', 'Brown Swiss', 'Pygmy Goat', 'Guernsey', 'Ayrshire'],\n",
              " ['Shorthorn', 'Brown Swiss', 'Pygmy Goat', 'Guernsey', 'Ayrshire'],\n",
              " ['Nubian Goat',\n",
              "  'Shorthorn',\n",
              "  'Brown Swiss',\n",
              "  'Pygmy Goat',\n",
              "  'Guernsey',\n",
              "  'Ayrshire']]"
            ]
          },
          "metadata": {},
          "execution_count": 36
        }
      ]
    },
    {
      "cell_type": "markdown",
      "source": [
        "My universal set $U$ contains 17 elements, so it would be $2^{17}$ which would result in 131,072 elements. "
      ],
      "metadata": {
        "id": "9UgXIuIuYjnF"
      }
    },
    {
      "cell_type": "markdown",
      "source": [
        "I regard all of the animals on my homestead as important, but it's intersting to see how I could create specifics categories and evaluate them. Combining them, or seeing which animals might fall into multiple categories could prove useful to me in the future. I could see which animals fell into several different categories, and how they could be more useful than animals falling into a single category.  "
      ],
      "metadata": {
        "id": "cB-faM9JRGHX"
      }
    },
    {
      "cell_type": "code",
      "source": [],
      "metadata": {
        "id": "Pch3wGmkRgPS"
      },
      "execution_count": null,
      "outputs": []
    }
  ]
}