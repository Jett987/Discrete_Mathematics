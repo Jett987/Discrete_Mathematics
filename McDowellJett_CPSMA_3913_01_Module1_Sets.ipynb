{
  "nbformat": 4,
  "nbformat_minor": 0,
  "metadata": {
    "colab": {
      "provenance": [],
      "include_colab_link": true
    },
    "kernelspec": {
      "name": "python3",
      "display_name": "Python 3"
    }
  },
  "cells": [
    {
      "cell_type": "markdown",
      "metadata": {
        "id": "view-in-github",
        "colab_type": "text"
      },
      "source": [
        "<a href=\"https://colab.research.google.com/github/Jett987/Discrete_Mathematics/blob/main/McDowellJett_CPSMA_3913_01_Module1_Sets.ipynb\" target=\"_parent\"><img src=\"https://colab.research.google.com/assets/colab-badge.svg\" alt=\"Open In Colab\"/></a>"
      ]
    },
    {
      "cell_type": "markdown",
      "source": [
        "Project Part # 1 : MATH 2825 Dr. Lynam's Discrete Mathematics\n",
        "Project Name: Programming Project 1\n",
        "Jett McDowell\n",
        "(all coding was referenced from Dr. Jacob's github Discrete_Math python repository.)"
      ],
      "metadata": {
        "id": "OMYkRfurpd8o"
      }
    },
    {
      "cell_type": "markdown",
      "metadata": {
        "id": "YCJaepmmfKrS"
      },
      "source": [
        "# Project Part # 1: CPSMA 3913 Dr. Lynam's Discrete Mtahematics utilizing [Dr. Jacob's](https://github.com/nurfnick) Discrete Mathematics github repository\n",
        "\n",
        "## Project Module 1: Sets\n",
        "\n",
        "### Jett McDowell  206812\n",
        "\n",
        "\n"
      ]
    },
    {
      "cell_type": "markdown",
      "metadata": {
        "id": "Xs_Pvtua1Nnt"
      },
      "source": [
        "## 1.) Build and manipulate some sets using a programming language. "
      ]
    },
    {
      "cell_type": "markdown",
      "metadata": {
        "id": "2z6U1aB_fQDM"
      },
      "source": [
        "###(Part a.) "
      ]
    },
    {
      "cell_type": "markdown",
      "source": [
        "For my sets, I am going to use the different types of animals I use on my homestead. Please keep in mind I do not own each of these breeds, but I do own the types and a few of the breeds. My DiaryAnimals set will include animals I use for milk production. My MeatAnimals will include animals I can use for meat. My UtilityAnimals will include animals that I use for other purposes such as clearning land, guarding other animals, or maintaining pest control. "
      ],
      "metadata": {
        "id": "a9N-3KcysndY"
      }
    },
    {
      "cell_type": "code",
      "metadata": {
        "id": "rU_BgC_kfH7g"
      },
      "source": [
        "DairyAnimals={'Brown Swiss', 'Nubian Goat', 'Pygmy Goat', 'Shorthorn', 'Ayrshire', 'Guernsey'}\n",
        "MeatAnimals={'Black Angus', 'Brahman', 'Hereford', 'Nubian Goat','Pygmy Goat','Naked Neck Chicken'}\n",
        "UtilityAnimals={'Pygmy Goat', 'Anatolian Shepherd', 'Naked Neck Chicken', 'Cat', 'Nubian Goat'}"
      ],
      "execution_count": null,
      "outputs": []
    },
    {
      "cell_type": "markdown",
      "source": [
        "###Part b.)"
      ],
      "metadata": {
        "id": "2pFDcL77veA0"
      }
    },
    {
      "cell_type": "markdown",
      "source": [
        "First, I am going to create a new set that has 5 elements not contained in the previous sets. "
      ],
      "metadata": {
        "id": "EqVNVuNsv2lG"
      }
    },
    {
      "cell_type": "code",
      "source": [
        "Dogs={'German Shepherd','Yorkie','Schnauzer','Great Pyrenees','Golden Retriever'}"
      ],
      "metadata": {
        "id": "GCxh1Muuv9Hu"
      },
      "execution_count": null,
      "outputs": []
    },
    {
      "cell_type": "markdown",
      "source": [
        "Next, I am going to create a universal set. The universal set include all elements in DiaryAnimals, MeatAnimals, UtilityAnimals, and Dogs. "
      ],
      "metadata": {
        "id": "7bBqrTV8a5BN"
      }
    },
    {
      "cell_type": "code",
      "source": [
        "SetofSets = [DairyAnimals,MeatAnimals,UtilityAnimals,Dogs]\n",
        "U = set() \n",
        "for sett in SetofSets:\n",
        "  U = U.union(sett)\n",
        "\n",
        "U"
      ],
      "metadata": {
        "colab": {
          "base_uri": "https://localhost:8080/"
        },
        "id": "2bNgRL67vZ4h",
        "outputId": "ab5b986d-e89f-4e85-8aa0-c805e395263f"
      },
      "execution_count": null,
      "outputs": [
        {
          "output_type": "execute_result",
          "data": {
            "text/plain": [
              "{'Anatolian Shepherd',\n",
              " 'Ayrshire',\n",
              " 'Black Angus',\n",
              " 'Brahman',\n",
              " 'Brown Swiss',\n",
              " 'Cat',\n",
              " 'German Shepherd',\n",
              " 'Golden Retriever',\n",
              " 'Great Pyrenees',\n",
              " 'Guernsey',\n",
              " 'Hereford',\n",
              " 'Naked Neck Chicken',\n",
              " 'Nubian Goat',\n",
              " 'Pygmy Goat',\n",
              " 'Schnauzer',\n",
              " 'Shorthorn',\n",
              " 'Yorkie'}"
            ]
          },
          "metadata": {},
          "execution_count": 3
        }
      ]
    },
    {
      "cell_type": "markdown",
      "metadata": {
        "id": "Iggon6VK1Vxo"
      },
      "source": [
        "###Part c.) Intersections and unions. \n"
      ]
    },
    {
      "cell_type": "markdown",
      "source": [
        "I am now going obtain the union and intersection of my sets. "
      ],
      "metadata": {
        "id": "EY4jB_z4bMes"
      }
    },
    {
      "cell_type": "markdown",
      "source": [
        "DairyAnimals ∪ MeatAnimals"
      ],
      "metadata": {
        "id": "Oc2gCkQ4yMCR"
      }
    },
    {
      "cell_type": "code",
      "source": [
        "DairyAnimals.union(MeatAnimals)"
      ],
      "metadata": {
        "colab": {
          "base_uri": "https://localhost:8080/"
        },
        "id": "PmIQsHLCxoiB",
        "outputId": "adc9ed2f-6abf-4d78-a6f8-dc71dd439b1c"
      },
      "execution_count": null,
      "outputs": [
        {
          "output_type": "execute_result",
          "data": {
            "text/plain": [
              "{'Ayrshire',\n",
              " 'Black Angus',\n",
              " 'Brahman',\n",
              " 'Brown Swiss',\n",
              " 'Guernsey',\n",
              " 'Hereford',\n",
              " 'Naked Neck Chicken',\n",
              " 'Nubian Goat',\n",
              " 'Pygmy Goat',\n",
              " 'Shorthorn'}"
            ]
          },
          "metadata": {},
          "execution_count": 11
        }
      ]
    },
    {
      "cell_type": "markdown",
      "source": [
        "DiaryAnimals ∪ UtilityAnimals"
      ],
      "metadata": {
        "id": "TZUJxTChyXXu"
      }
    },
    {
      "cell_type": "code",
      "source": [
        "DairyAnimals.union(UtilityAnimals)"
      ],
      "metadata": {
        "colab": {
          "base_uri": "https://localhost:8080/"
        },
        "id": "ypd8-BXvyR23",
        "outputId": "24e36bb0-6f9f-430c-ae77-088b1c62b279"
      },
      "execution_count": null,
      "outputs": [
        {
          "output_type": "execute_result",
          "data": {
            "text/plain": [
              "{'Anatolian Shepherd',\n",
              " 'Ayrshire',\n",
              " 'Brown Swiss',\n",
              " 'Cat',\n",
              " 'Guernsey',\n",
              " 'Naked Neck Chicken',\n",
              " 'Nubian Goat',\n",
              " 'Pygmy Goat',\n",
              " 'Shorthorn'}"
            ]
          },
          "metadata": {},
          "execution_count": 25
        }
      ]
    },
    {
      "cell_type": "markdown",
      "source": [
        "MeatAnimals ∪ UtilityAnimals"
      ],
      "metadata": {
        "id": "qS9RyReLyz_4"
      }
    },
    {
      "cell_type": "code",
      "source": [
        "MeatAnimals.union(UtilityAnimals)"
      ],
      "metadata": {
        "colab": {
          "base_uri": "https://localhost:8080/"
        },
        "id": "a5pAAREvy4gH",
        "outputId": "fc107200-9578-4b27-cc76-380a792a9a85"
      },
      "execution_count": null,
      "outputs": [
        {
          "output_type": "execute_result",
          "data": {
            "text/plain": [
              "{'Anatolian Shepherd',\n",
              " 'Black Angus',\n",
              " 'Brahman',\n",
              " 'Cat',\n",
              " 'Hereford',\n",
              " 'Naked Neck Chicken',\n",
              " 'Nubian Goat',\n",
              " 'Pygmy Goat'}"
            ]
          },
          "metadata": {},
          "execution_count": 26
        }
      ]
    },
    {
      "cell_type": "markdown",
      "source": [
        "DairyAnimals ∩ MeatAnimals"
      ],
      "metadata": {
        "id": "nG9JwKi8dXrj"
      }
    },
    {
      "cell_type": "code",
      "source": [
        "DairyAnimals.intersection(MeatAnimals)"
      ],
      "metadata": {
        "colab": {
          "base_uri": "https://localhost:8080/"
        },
        "id": "8Lmz4CzUddUQ",
        "outputId": "1ecbf7b0-8467-416b-a1b4-7df6c2c88195"
      },
      "execution_count": null,
      "outputs": [
        {
          "output_type": "execute_result",
          "data": {
            "text/plain": [
              "{'Nubian Goat', 'Pygmy Goat'}"
            ]
          },
          "metadata": {},
          "execution_count": 6
        }
      ]
    },
    {
      "cell_type": "markdown",
      "source": [
        "DairyAnimals ∩ UtilityAnimals"
      ],
      "metadata": {
        "id": "0hMvsC5Gd3_O"
      }
    },
    {
      "cell_type": "code",
      "source": [
        "DairyAnimals.intersection(UtilityAnimals)"
      ],
      "metadata": {
        "colab": {
          "base_uri": "https://localhost:8080/"
        },
        "id": "m09GLmH2d3ZY",
        "outputId": "4bb7fd93-3ec0-4c3a-f613-eee97c80cb66"
      },
      "execution_count": null,
      "outputs": [
        {
          "output_type": "execute_result",
          "data": {
            "text/plain": [
              "{'Nubian Goat', 'Pygmy Goat'}"
            ]
          },
          "metadata": {},
          "execution_count": 28
        }
      ]
    },
    {
      "cell_type": "markdown",
      "source": [
        "MeatAnimals ∩ UtilityAnimals"
      ],
      "metadata": {
        "id": "rB25nOkGeI3B"
      }
    },
    {
      "cell_type": "code",
      "source": [
        "MeatAnimals.intersection(UtilityAnimals)"
      ],
      "metadata": {
        "colab": {
          "base_uri": "https://localhost:8080/"
        },
        "id": "1A1Hnc22eJ1g",
        "outputId": "f7382fce-e193-4224-cc7f-67befe43622e"
      },
      "execution_count": null,
      "outputs": [
        {
          "output_type": "execute_result",
          "data": {
            "text/plain": [
              "{'Naked Neck Chicken', 'Nubian Goat', 'Pygmy Goat'}"
            ]
          },
          "metadata": {},
          "execution_count": 29
        }
      ]
    },
    {
      "cell_type": "markdown",
      "source": [
        "It does not matter which set is called first. The union of a set will contain everything in either set. The intersection will contain elements contained within both sets. I have listed the first example A ∪ B in reverse order below to demonstrate. "
      ],
      "metadata": {
        "id": "mXi6BY71cRe3"
      }
    },
    {
      "cell_type": "markdown",
      "source": [
        "MeatAnimals ∪ DairyAnimals"
      ],
      "metadata": {
        "id": "yGISuB4lcwOZ"
      }
    },
    {
      "cell_type": "code",
      "source": [
        "MeatAnimals.union(DairyAnimals)"
      ],
      "metadata": {
        "colab": {
          "base_uri": "https://localhost:8080/"
        },
        "id": "3SjA90s_cvff",
        "outputId": "b787e0b9-b21b-4efa-cd8e-1046f3fdd5d0"
      },
      "execution_count": null,
      "outputs": [
        {
          "output_type": "execute_result",
          "data": {
            "text/plain": [
              "{'Ayrshire',\n",
              " 'Black Angus',\n",
              " 'Brahman',\n",
              " 'Brown Swiss',\n",
              " 'Guernsey',\n",
              " 'Hereford',\n",
              " 'Naked Neck Chicken',\n",
              " 'Nubian Goat',\n",
              " 'Pygmy Goat',\n",
              " 'Shorthorn'}"
            ]
          },
          "metadata": {},
          "execution_count": 10
        }
      ]
    },
    {
      "cell_type": "markdown",
      "source": [
        "Similarly the intersection result is the same. Instead of DairyAnimals ∩ UtilityAnimals, I will do UtilityAnimals ∩ DairyAnimals. "
      ],
      "metadata": {
        "id": "mjmVOItzdAma"
      }
    },
    {
      "cell_type": "code",
      "source": [
        "UtilityAnimals.intersection(DairyAnimals)"
      ],
      "metadata": {
        "colab": {
          "base_uri": "https://localhost:8080/"
        },
        "id": "zBFdXHrUdO0v",
        "outputId": "fc03817a-ebcb-47ce-95ea-500e5f0d4117"
      },
      "execution_count": null,
      "outputs": [
        {
          "output_type": "execute_result",
          "data": {
            "text/plain": [
              "{'Nubian Goat', 'Pygmy Goat'}"
            ]
          },
          "metadata": {},
          "execution_count": 13
        }
      ]
    },
    {
      "cell_type": "markdown",
      "source": [
        "As you can see, there is no difference. "
      ],
      "metadata": {
        "id": "cigmzmf6dWkz"
      }
    },
    {
      "cell_type": "markdown",
      "source": [
        "### Part d.)Computing the complements."
      ],
      "metadata": {
        "id": "QKLwnx3lebgS"
      }
    },
    {
      "cell_type": "markdown",
      "source": [
        "The complements of each set will contain elements listed in the first set that are not also listed in the second set. It will not include the element if it is in both the first set, and the second set. "
      ],
      "metadata": {
        "id": "1iXKTcJKgbQO"
      }
    },
    {
      "cell_type": "markdown",
      "source": [
        "Complement universal set - DairyAnimals"
      ],
      "metadata": {
        "id": "ycFW4ZSue9Bw"
      }
    },
    {
      "cell_type": "code",
      "source": [
        "U-DairyAnimals"
      ],
      "metadata": {
        "colab": {
          "base_uri": "https://localhost:8080/"
        },
        "id": "4xKwuf04eeBL",
        "outputId": "6d92f1c8-95ea-4105-c16f-e74ae811af53"
      },
      "execution_count": null,
      "outputs": [
        {
          "output_type": "execute_result",
          "data": {
            "text/plain": [
              "{'Anatolian Shepherd',\n",
              " 'Black Angus',\n",
              " 'Brahman',\n",
              " 'Cat',\n",
              " 'German Shepherd',\n",
              " 'Golden Retriever',\n",
              " 'Great Pyrenees',\n",
              " 'Hereford',\n",
              " 'Naked Neck Chicken',\n",
              " 'Schnauzer',\n",
              " 'Yorkie'}"
            ]
          },
          "metadata": {},
          "execution_count": 30
        }
      ]
    },
    {
      "cell_type": "markdown",
      "source": [
        "Complement universal set - MeatAnimals"
      ],
      "metadata": {
        "id": "IcM43heQe_hh"
      }
    },
    {
      "cell_type": "code",
      "source": [
        "U-MeatAnimals"
      ],
      "metadata": {
        "colab": {
          "base_uri": "https://localhost:8080/"
        },
        "id": "YtWZse1QfBNa",
        "outputId": "559deff3-257c-4072-a8c9-1e2ce9674392"
      },
      "execution_count": null,
      "outputs": [
        {
          "output_type": "execute_result",
          "data": {
            "text/plain": [
              "{'Anatolian Shepherd',\n",
              " 'Ayrshire',\n",
              " 'Brown Swiss',\n",
              " 'Cat',\n",
              " 'German Shepherd',\n",
              " 'Golden Retriever',\n",
              " 'Great Pyrenees',\n",
              " 'Guernsey',\n",
              " 'Schnauzer',\n",
              " 'Shorthorn',\n",
              " 'Yorkie'}"
            ]
          },
          "metadata": {},
          "execution_count": 31
        }
      ]
    },
    {
      "cell_type": "markdown",
      "source": [
        "Complement universal set - UtilityAnimals"
      ],
      "metadata": {
        "id": "Xt9Nm10mfEqO"
      }
    },
    {
      "cell_type": "code",
      "source": [
        "U-UtilityAnimals"
      ],
      "metadata": {
        "colab": {
          "base_uri": "https://localhost:8080/"
        },
        "id": "idcCyYAdfG6L",
        "outputId": "511577f3-33da-4040-89b5-0556fb05da24"
      },
      "execution_count": null,
      "outputs": [
        {
          "output_type": "execute_result",
          "data": {
            "text/plain": [
              "{'Ayrshire',\n",
              " 'Black Angus',\n",
              " 'Brahman',\n",
              " 'Brown Swiss',\n",
              " 'German Shepherd',\n",
              " 'Golden Retriever',\n",
              " 'Great Pyrenees',\n",
              " 'Guernsey',\n",
              " 'Hereford',\n",
              " 'Schnauzer',\n",
              " 'Shorthorn',\n",
              " 'Yorkie'}"
            ]
          },
          "metadata": {},
          "execution_count": 32
        }
      ]
    },
    {
      "cell_type": "markdown",
      "source": [
        "The line of code below evaluates the complement of the union of DairyAnimals and MeatAnimals and the intersetion of DairyAnimals and MeatAnimals. "
      ],
      "metadata": {
        "id": "7kMUTcN2itFI"
      }
    },
    {
      "cell_type": "markdown",
      "source": [
        "Complement from DiaryAnimals ∪ MeatAnimals - DairyAnimals ∩ MeatAnimals"
      ],
      "metadata": {
        "id": "-Y6W-4B0rvge"
      }
    },
    {
      "cell_type": "code",
      "source": [
        "DairyAnimals.union(MeatAnimals)-DairyAnimals.intersection(MeatAnimals)"
      ],
      "metadata": {
        "colab": {
          "base_uri": "https://localhost:8080/"
        },
        "id": "w39dIS1yscT-",
        "outputId": "660126f0-e56c-47e2-fb53-4fff7e743584"
      },
      "execution_count": null,
      "outputs": [
        {
          "output_type": "execute_result",
          "data": {
            "text/plain": [
              "{'Ayrshire',\n",
              " 'Black Angus',\n",
              " 'Brahman',\n",
              " 'Brown Swiss',\n",
              " 'Guernsey',\n",
              " 'Hereford',\n",
              " 'Naked Neck Chicken',\n",
              " 'Shorthorn'}"
            ]
          },
          "metadata": {},
          "execution_count": 33
        }
      ]
    },
    {
      "cell_type": "markdown",
      "source": [
        "###Part e.) Subsets"
      ],
      "metadata": {
        "id": "BcbqljVbs_1Q"
      }
    },
    {
      "cell_type": "markdown",
      "source": [
        "The lines of code below use the built in function to check if there are subsets. The first section is checking if DairyAnimals is a subset of the universal set. It returns true since all elements contained within the DiaryAnimals set are contained in the universal set. "
      ],
      "metadata": {
        "id": "SuDVMgf2jbTn"
      }
    },
    {
      "cell_type": "code",
      "source": [
        "DairyAnimals<=U"
      ],
      "metadata": {
        "colab": {
          "base_uri": "https://localhost:8080/"
        },
        "id": "6JhAEYallTKk",
        "outputId": "6d369230-0686-4817-f96c-d341dba4ebe8"
      },
      "execution_count": null,
      "outputs": [
        {
          "output_type": "execute_result",
          "data": {
            "text/plain": [
              "True"
            ]
          },
          "metadata": {},
          "execution_count": 4
        }
      ]
    },
    {
      "cell_type": "code",
      "source": [
        "MeatAnimals<=U"
      ],
      "metadata": {
        "colab": {
          "base_uri": "https://localhost:8080/"
        },
        "id": "Tl1hwYa6lyT6",
        "outputId": "51cfea58-dde5-439e-9913-e7cfad2797fa"
      },
      "execution_count": null,
      "outputs": [
        {
          "output_type": "execute_result",
          "data": {
            "text/plain": [
              "True"
            ]
          },
          "metadata": {},
          "execution_count": 5
        }
      ]
    },
    {
      "cell_type": "code",
      "source": [
        "UtilityAnimals<=U"
      ],
      "metadata": {
        "colab": {
          "base_uri": "https://localhost:8080/"
        },
        "id": "RqImTSb8l5FE",
        "outputId": "e99b887f-8a44-466b-f35d-f6a88b524ce6"
      },
      "execution_count": null,
      "outputs": [
        {
          "output_type": "execute_result",
          "data": {
            "text/plain": [
              "True"
            ]
          },
          "metadata": {},
          "execution_count": 6
        }
      ]
    },
    {
      "cell_type": "code",
      "source": [
        "DairyAnimals<=MeatAnimals"
      ],
      "metadata": {
        "colab": {
          "base_uri": "https://localhost:8080/"
        },
        "id": "KvdgCW8bl-_-",
        "outputId": "2b2eee16-1a03-4a93-ef48-de888608eca7"
      },
      "execution_count": null,
      "outputs": [
        {
          "output_type": "execute_result",
          "data": {
            "text/plain": [
              "False"
            ]
          },
          "metadata": {},
          "execution_count": 7
        }
      ]
    },
    {
      "cell_type": "code",
      "source": [
        "DairyAnimals<=UtilityAnimals"
      ],
      "metadata": {
        "colab": {
          "base_uri": "https://localhost:8080/"
        },
        "id": "jSaPzMAJmDy4",
        "outputId": "8954156d-1475-4f19-dd4c-94248e339847"
      },
      "execution_count": null,
      "outputs": [
        {
          "output_type": "execute_result",
          "data": {
            "text/plain": [
              "False"
            ]
          },
          "metadata": {},
          "execution_count": 8
        }
      ]
    },
    {
      "cell_type": "code",
      "source": [
        "MeatAnimals<=DairyAnimals"
      ],
      "metadata": {
        "colab": {
          "base_uri": "https://localhost:8080/"
        },
        "id": "wteKrPKfmI5e",
        "outputId": "57ea0da8-3bf2-4b5a-a1a7-3b69c10c8924"
      },
      "execution_count": null,
      "outputs": [
        {
          "output_type": "execute_result",
          "data": {
            "text/plain": [
              "False"
            ]
          },
          "metadata": {},
          "execution_count": 9
        }
      ]
    },
    {
      "cell_type": "code",
      "source": [
        "MeatAnimals<=UtilityAnimals"
      ],
      "metadata": {
        "colab": {
          "base_uri": "https://localhost:8080/"
        },
        "id": "gEK0my_emNZx",
        "outputId": "81606924-0850-46b1-b4fe-c055f3bdc703"
      },
      "execution_count": null,
      "outputs": [
        {
          "output_type": "execute_result",
          "data": {
            "text/plain": [
              "False"
            ]
          },
          "metadata": {},
          "execution_count": 10
        }
      ]
    },
    {
      "cell_type": "code",
      "source": [
        "UtilityAnimals<=DairyAnimals"
      ],
      "metadata": {
        "colab": {
          "base_uri": "https://localhost:8080/"
        },
        "id": "SRjXLe4LmTHS",
        "outputId": "8f3db9bd-26bb-4af6-cf5a-e2af212d085b"
      },
      "execution_count": null,
      "outputs": [
        {
          "output_type": "execute_result",
          "data": {
            "text/plain": [
              "False"
            ]
          },
          "metadata": {},
          "execution_count": 11
        }
      ]
    },
    {
      "cell_type": "code",
      "source": [
        "UtilityAnimals<=MeatAnimals"
      ],
      "metadata": {
        "colab": {
          "base_uri": "https://localhost:8080/"
        },
        "id": "v72Vjdd7mYrJ",
        "outputId": "358bcaf9-ff95-4e3d-9e06-9edfeeb74a71"
      },
      "execution_count": null,
      "outputs": [
        {
          "output_type": "execute_result",
          "data": {
            "text/plain": [
              "False"
            ]
          },
          "metadata": {},
          "execution_count": 12
        }
      ]
    },
    {
      "cell_type": "markdown",
      "source": [
        "It would appear the only subsets are from the universal set. "
      ],
      "metadata": {
        "id": "Adkttjx8uH1d"
      }
    },
    {
      "cell_type": "markdown",
      "source": [
        "###Part f.) Power Sets"
      ],
      "metadata": {
        "id": "6HiCIq9Duc2V"
      }
    },
    {
      "cell_type": "code",
      "source": [
        "def DPpowerset(s):\n",
        "  powerset = [[]]\n",
        "  for i in s:\n",
        "    for sett in powerset:\n",
        "      powerset = powerset + [sett + [i]]\n",
        "  return powerset\n",
        "\n",
        " "
      ],
      "metadata": {
        "id": "lYAydIqiuewB"
      },
      "execution_count": null,
      "outputs": []
    },
    {
      "cell_type": "markdown",
      "source": [
        "The power set below is for the set DairyAnimals. The set contained 6 elements. That resulted in $2^6=64$ elements. "
      ],
      "metadata": {
        "id": "L4MY9AIoYUZX"
      }
    },
    {
      "cell_type": "code",
      "source": [
        " DPpowerset(DairyAnimals)"
      ],
      "metadata": {
        "colab": {
          "base_uri": "https://localhost:8080/"
        },
        "id": "16UtJEj1uFVg",
        "outputId": "76d1a99a-0842-451b-de38-b92c936c7ae1"
      },
      "execution_count": null,
      "outputs": [
        {
          "output_type": "execute_result",
          "data": {
            "text/plain": [
              "[[],\n",
              " ['Brown Swiss'],\n",
              " ['Nubian Goat'],\n",
              " ['Brown Swiss', 'Nubian Goat'],\n",
              " ['Ayrshire'],\n",
              " ['Brown Swiss', 'Ayrshire'],\n",
              " ['Nubian Goat', 'Ayrshire'],\n",
              " ['Brown Swiss', 'Nubian Goat', 'Ayrshire'],\n",
              " ['Shorthorn'],\n",
              " ['Brown Swiss', 'Shorthorn'],\n",
              " ['Nubian Goat', 'Shorthorn'],\n",
              " ['Brown Swiss', 'Nubian Goat', 'Shorthorn'],\n",
              " ['Ayrshire', 'Shorthorn'],\n",
              " ['Brown Swiss', 'Ayrshire', 'Shorthorn'],\n",
              " ['Nubian Goat', 'Ayrshire', 'Shorthorn'],\n",
              " ['Brown Swiss', 'Nubian Goat', 'Ayrshire', 'Shorthorn'],\n",
              " ['Pygmy Goat'],\n",
              " ['Brown Swiss', 'Pygmy Goat'],\n",
              " ['Nubian Goat', 'Pygmy Goat'],\n",
              " ['Brown Swiss', 'Nubian Goat', 'Pygmy Goat'],\n",
              " ['Ayrshire', 'Pygmy Goat'],\n",
              " ['Brown Swiss', 'Ayrshire', 'Pygmy Goat'],\n",
              " ['Nubian Goat', 'Ayrshire', 'Pygmy Goat'],\n",
              " ['Brown Swiss', 'Nubian Goat', 'Ayrshire', 'Pygmy Goat'],\n",
              " ['Shorthorn', 'Pygmy Goat'],\n",
              " ['Brown Swiss', 'Shorthorn', 'Pygmy Goat'],\n",
              " ['Nubian Goat', 'Shorthorn', 'Pygmy Goat'],\n",
              " ['Brown Swiss', 'Nubian Goat', 'Shorthorn', 'Pygmy Goat'],\n",
              " ['Ayrshire', 'Shorthorn', 'Pygmy Goat'],\n",
              " ['Brown Swiss', 'Ayrshire', 'Shorthorn', 'Pygmy Goat'],\n",
              " ['Nubian Goat', 'Ayrshire', 'Shorthorn', 'Pygmy Goat'],\n",
              " ['Brown Swiss', 'Nubian Goat', 'Ayrshire', 'Shorthorn', 'Pygmy Goat'],\n",
              " ['Guernsey'],\n",
              " ['Brown Swiss', 'Guernsey'],\n",
              " ['Nubian Goat', 'Guernsey'],\n",
              " ['Brown Swiss', 'Nubian Goat', 'Guernsey'],\n",
              " ['Ayrshire', 'Guernsey'],\n",
              " ['Brown Swiss', 'Ayrshire', 'Guernsey'],\n",
              " ['Nubian Goat', 'Ayrshire', 'Guernsey'],\n",
              " ['Brown Swiss', 'Nubian Goat', 'Ayrshire', 'Guernsey'],\n",
              " ['Shorthorn', 'Guernsey'],\n",
              " ['Brown Swiss', 'Shorthorn', 'Guernsey'],\n",
              " ['Nubian Goat', 'Shorthorn', 'Guernsey'],\n",
              " ['Brown Swiss', 'Nubian Goat', 'Shorthorn', 'Guernsey'],\n",
              " ['Ayrshire', 'Shorthorn', 'Guernsey'],\n",
              " ['Brown Swiss', 'Ayrshire', 'Shorthorn', 'Guernsey'],\n",
              " ['Nubian Goat', 'Ayrshire', 'Shorthorn', 'Guernsey'],\n",
              " ['Brown Swiss', 'Nubian Goat', 'Ayrshire', 'Shorthorn', 'Guernsey'],\n",
              " ['Pygmy Goat', 'Guernsey'],\n",
              " ['Brown Swiss', 'Pygmy Goat', 'Guernsey'],\n",
              " ['Nubian Goat', 'Pygmy Goat', 'Guernsey'],\n",
              " ['Brown Swiss', 'Nubian Goat', 'Pygmy Goat', 'Guernsey'],\n",
              " ['Ayrshire', 'Pygmy Goat', 'Guernsey'],\n",
              " ['Brown Swiss', 'Ayrshire', 'Pygmy Goat', 'Guernsey'],\n",
              " ['Nubian Goat', 'Ayrshire', 'Pygmy Goat', 'Guernsey'],\n",
              " ['Brown Swiss', 'Nubian Goat', 'Ayrshire', 'Pygmy Goat', 'Guernsey'],\n",
              " ['Shorthorn', 'Pygmy Goat', 'Guernsey'],\n",
              " ['Brown Swiss', 'Shorthorn', 'Pygmy Goat', 'Guernsey'],\n",
              " ['Nubian Goat', 'Shorthorn', 'Pygmy Goat', 'Guernsey'],\n",
              " ['Brown Swiss', 'Nubian Goat', 'Shorthorn', 'Pygmy Goat', 'Guernsey'],\n",
              " ['Ayrshire', 'Shorthorn', 'Pygmy Goat', 'Guernsey'],\n",
              " ['Brown Swiss', 'Ayrshire', 'Shorthorn', 'Pygmy Goat', 'Guernsey'],\n",
              " ['Nubian Goat', 'Ayrshire', 'Shorthorn', 'Pygmy Goat', 'Guernsey'],\n",
              " ['Brown Swiss',\n",
              "  'Nubian Goat',\n",
              "  'Ayrshire',\n",
              "  'Shorthorn',\n",
              "  'Pygmy Goat',\n",
              "  'Guernsey']]"
            ]
          },
          "metadata": {},
          "execution_count": 8
        }
      ]
    },
    {
      "cell_type": "markdown",
      "source": [
        "My universal set $U$ contains 17 elements, so it would be $2^{17}$ which would result in 131,072 elements. "
      ],
      "metadata": {
        "id": "9UgXIuIuYjnF"
      }
    }
  ]
}