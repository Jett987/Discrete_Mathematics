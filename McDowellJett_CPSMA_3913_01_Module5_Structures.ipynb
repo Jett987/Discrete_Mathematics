{
  "nbformat": 4,
  "nbformat_minor": 0,
  "metadata": {
    "colab": {
      "provenance": [],
      "include_colab_link": true
    },
    "kernelspec": {
      "name": "python3",
      "display_name": "Python 3"
    }
  },
  "cells": [
    {
      "cell_type": "markdown",
      "metadata": {
        "id": "view-in-github",
        "colab_type": "text"
      },
      "source": [
        "<a href=\"https://colab.research.google.com/github/Jett987/Discrete_Mathematics/blob/main/McDowellJett_CPSMA_3913_01_Module5_Structures.ipynb\" target=\"_parent\"><img src=\"https://colab.research.google.com/assets/colab-badge.svg\" alt=\"Open In Colab\"/></a>"
      ]
    },
    {
      "cell_type": "markdown",
      "source": [
        "Project Part # 5 : CPSMA 3913 Dr. Lynam's Discrete Mathematics Project Part#5\n",
        "Jett McDowell\n",
        "(all coding was referenced from Dr. Jacob's github Discrete_Math python repository.)"
      ],
      "metadata": {
        "id": "OMYkRfurpd8o"
      }
    },
    {
      "cell_type": "markdown",
      "metadata": {
        "id": "YCJaepmmfKrS"
      },
      "source": [
        "# Project Part # 5: CPSMA 3913 Dr. Lynam's Discrete Mathematics utilizing [Dr. Jacob's](https://github.com/nurfnick) Discrete Mathematics github repository\n",
        "\n",
        "## Project Module 5: Structures\n",
        "\n",
        "### Jett McDowell  206812 \n",
        "\n",
        "![Tree.jpg photo courtesy: Microsoft Word picture stock images](https://raw.githubusercontent.com/Jett987/Discrete_Mathematics/main/Tree%20Picture%20Small.jpg)\n",
        "\n",
        "(Picture Credit: Microsoft Word Picture Stock Images)\n",
        "\n"
      ]
    },
    {
      "cell_type": "markdown",
      "source": [
        "##The answers from section $2$ are answered throughout the document. \n",
        "\n",
        "$2a.$ Describe your findings in words.\n",
        "$2b.$ Tell the story your structure shows. "
      ],
      "metadata": {
        "id": "v5rlQxPmgvIV"
      }
    },
    {
      "cell_type": "markdown",
      "metadata": {
        "id": "Xs_Pvtua1Nnt"
      },
      "source": [
        "## 1.) Create a graph, directed graph, weighted graph, or tree. \n",
        "\n",
        "For this project, I have decided to create a small family tree. "
      ]
    },
    {
      "cell_type": "markdown",
      "source": [
        "###part a.) Create a structure with at least 5 vertices and 5 edges. "
      ],
      "metadata": {
        "id": "TwYUzHlxlpk8"
      }
    },
    {
      "cell_type": "markdown",
      "source": [
        "I am going to create a directed graph that is a small sample of my family tree. The history behind this side of my family tree is hazy at best, and unfortunately, the first three family members are no longer around to clear things up. That is why I kept it simple. The first family member is Beatrice, she was my father's mother. She married Gene, who was my father's father. My father had three children, including myself. I am married, and have one son with my spouse. "
      ],
      "metadata": {
        "id": "db0mEaIOvTYA"
      }
    },
    {
      "cell_type": "markdown",
      "source": [
        "The vertices are: \n",
        "\n",
        "$Beatrice, Gene, Bert, Misty, Jett, August, Elizabeth, PJ. $\n",
        "\n",
        "The edges are represented between each vertices. An example is the edge that connects the $Beatrice$ to $Gene$ vertices, and that has the weight $married$. \n"
      ],
      "metadata": {
        "id": "pfxzbZmn5pJX"
      }
    },
    {
      "cell_type": "markdown",
      "source": [
        "###part b.) Visualize your structure using graphviz package.  "
      ],
      "metadata": {
        "id": "23IcIXh2dXwq"
      }
    },
    {
      "cell_type": "code",
      "source": [
        "import graphviz\n",
        "\n",
        "mcdowell = graphviz.Digraph('McDowellFamilyTree')\n",
        "\n",
        "mcdowell.node('Beatrice')\n",
        "mcdowell.edge('Beatrice','Gene','Married')\n",
        "mcdowell.edge('Gene','Bert','Father')\n",
        "mcdowell.edge('Bert', 'Misty','Daughter')\n",
        "mcdowell.edge('Bert','Jett','Son')\n",
        "mcdowell.edge('Bert','August','Daughter')\n",
        "mcdowell.edge('Jett','Elizabeth','Married')\n",
        "mcdowell.edge('Elizabeth','PJ','Son')\n",
        "\n",
        "mcdowell"
      ],
      "metadata": {
        "id": "VUWlQaOWwZy7",
        "colab": {
          "base_uri": "https://localhost:8080/",
          "height": 661
        },
        "outputId": "96f33640-a57b-474c-cac1-1d7a812c8830"
      },
      "execution_count": null,
      "outputs": [
        {
          "output_type": "execute_result",
          "data": {
            "text/plain": [
              "<graphviz.dot.Digraph at 0x7f15428ca700>"
            ],
            "image/svg+xml": "<?xml version=\"1.0\" encoding=\"UTF-8\" standalone=\"no\"?>\n<!DOCTYPE svg PUBLIC \"-//W3C//DTD SVG 1.1//EN\"\n \"http://www.w3.org/Graphics/SVG/1.1/DTD/svg11.dtd\">\n<!-- Generated by graphviz version 2.43.0 (0)\n -->\n<!-- Title: McDowellFamilyTree Pages: 1 -->\n<svg width=\"234pt\" height=\"479pt\"\n viewBox=\"0.00 0.00 234.24 479.00\" xmlns=\"http://www.w3.org/2000/svg\" xmlns:xlink=\"http://www.w3.org/1999/xlink\">\n<g id=\"graph0\" class=\"graph\" transform=\"scale(1 1) rotate(0) translate(4 475)\">\n<title>McDowellFamilyTree</title>\n<polygon fill=\"white\" stroke=\"transparent\" points=\"-4,4 -4,-475 230.24,-475 230.24,4 -4,4\"/>\n<!-- Beatrice -->\n<g id=\"node1\" class=\"node\">\n<title>Beatrice</title>\n<ellipse fill=\"none\" stroke=\"black\" cx=\"108.85\" cy=\"-453\" rx=\"40.09\" ry=\"18\"/>\n<text text-anchor=\"middle\" x=\"108.85\" y=\"-449.3\" font-family=\"Times,serif\" font-size=\"14.00\">Beatrice</text>\n</g>\n<!-- Gene -->\n<g id=\"node2\" class=\"node\">\n<title>Gene</title>\n<ellipse fill=\"none\" stroke=\"black\" cx=\"108.85\" cy=\"-366\" rx=\"29.5\" ry=\"18\"/>\n<text text-anchor=\"middle\" x=\"108.85\" y=\"-362.3\" font-family=\"Times,serif\" font-size=\"14.00\">Gene</text>\n</g>\n<!-- Beatrice&#45;&gt;Gene -->\n<g id=\"edge1\" class=\"edge\">\n<title>Beatrice&#45;&gt;Gene</title>\n<path fill=\"none\" stroke=\"black\" d=\"M108.85,-434.8C108.85,-423.16 108.85,-407.55 108.85,-394.24\"/>\n<polygon fill=\"black\" stroke=\"black\" points=\"112.35,-394.18 108.85,-384.18 105.35,-394.18 112.35,-394.18\"/>\n<text text-anchor=\"middle\" x=\"131.35\" y=\"-405.8\" font-family=\"Times,serif\" font-size=\"14.00\">Married</text>\n</g>\n<!-- Bert -->\n<g id=\"node3\" class=\"node\">\n<title>Bert</title>\n<ellipse fill=\"none\" stroke=\"black\" cx=\"108.85\" cy=\"-279\" rx=\"27\" ry=\"18\"/>\n<text text-anchor=\"middle\" x=\"108.85\" y=\"-275.3\" font-family=\"Times,serif\" font-size=\"14.00\">Bert</text>\n</g>\n<!-- Gene&#45;&gt;Bert -->\n<g id=\"edge2\" class=\"edge\">\n<title>Gene&#45;&gt;Bert</title>\n<path fill=\"none\" stroke=\"black\" d=\"M108.85,-347.8C108.85,-336.16 108.85,-320.55 108.85,-307.24\"/>\n<polygon fill=\"black\" stroke=\"black\" points=\"112.35,-307.18 108.85,-297.18 105.35,-307.18 112.35,-307.18\"/>\n<text text-anchor=\"middle\" x=\"126.35\" y=\"-318.8\" font-family=\"Times,serif\" font-size=\"14.00\">Father</text>\n</g>\n<!-- Misty -->\n<g id=\"node4\" class=\"node\">\n<title>Misty</title>\n<ellipse fill=\"none\" stroke=\"black\" cx=\"31.85\" cy=\"-192\" rx=\"31.7\" ry=\"18\"/>\n<text text-anchor=\"middle\" x=\"31.85\" y=\"-188.3\" font-family=\"Times,serif\" font-size=\"14.00\">Misty</text>\n</g>\n<!-- Bert&#45;&gt;Misty -->\n<g id=\"edge3\" class=\"edge\">\n<title>Bert&#45;&gt;Misty</title>\n<path fill=\"none\" stroke=\"black\" d=\"M87.08,-268.03C75.96,-262.06 62.91,-253.56 53.85,-243 48.05,-236.25 43.55,-227.73 40.17,-219.64\"/>\n<polygon fill=\"black\" stroke=\"black\" points=\"43.39,-218.27 36.59,-210.14 36.84,-220.73 43.39,-218.27\"/>\n<text text-anchor=\"middle\" x=\"79.35\" y=\"-231.8\" font-family=\"Times,serif\" font-size=\"14.00\">Daughter</text>\n</g>\n<!-- Jett -->\n<g id=\"node5\" class=\"node\">\n<title>Jett</title>\n<ellipse fill=\"none\" stroke=\"black\" cx=\"108.85\" cy=\"-192\" rx=\"27\" ry=\"18\"/>\n<text text-anchor=\"middle\" x=\"108.85\" y=\"-188.3\" font-family=\"Times,serif\" font-size=\"14.00\">Jett</text>\n</g>\n<!-- Bert&#45;&gt;Jett -->\n<g id=\"edge4\" class=\"edge\">\n<title>Bert&#45;&gt;Jett</title>\n<path fill=\"none\" stroke=\"black\" d=\"M108.85,-260.8C108.85,-249.16 108.85,-233.55 108.85,-220.24\"/>\n<polygon fill=\"black\" stroke=\"black\" points=\"112.35,-220.18 108.85,-210.18 105.35,-220.18 112.35,-220.18\"/>\n<text text-anchor=\"middle\" x=\"119.85\" y=\"-231.8\" font-family=\"Times,serif\" font-size=\"14.00\">Son</text>\n</g>\n<!-- August -->\n<g id=\"node6\" class=\"node\">\n<title>August</title>\n<ellipse fill=\"none\" stroke=\"black\" cx=\"189.85\" cy=\"-192\" rx=\"36.29\" ry=\"18\"/>\n<text text-anchor=\"middle\" x=\"189.85\" y=\"-188.3\" font-family=\"Times,serif\" font-size=\"14.00\">August</text>\n</g>\n<!-- Bert&#45;&gt;August -->\n<g id=\"edge5\" class=\"edge\">\n<title>Bert&#45;&gt;August</title>\n<path fill=\"none\" stroke=\"black\" d=\"M122.96,-263.19C135.38,-250.15 153.69,-230.95 168.01,-215.92\"/>\n<polygon fill=\"black\" stroke=\"black\" points=\"170.71,-218.15 175.08,-208.5 165.65,-213.32 170.71,-218.15\"/>\n<text text-anchor=\"middle\" x=\"179.35\" y=\"-231.8\" font-family=\"Times,serif\" font-size=\"14.00\">Daughter</text>\n</g>\n<!-- Elizabeth -->\n<g id=\"node7\" class=\"node\">\n<title>Elizabeth</title>\n<ellipse fill=\"none\" stroke=\"black\" cx=\"108.85\" cy=\"-105\" rx=\"44.39\" ry=\"18\"/>\n<text text-anchor=\"middle\" x=\"108.85\" y=\"-101.3\" font-family=\"Times,serif\" font-size=\"14.00\">Elizabeth</text>\n</g>\n<!-- Jett&#45;&gt;Elizabeth -->\n<g id=\"edge6\" class=\"edge\">\n<title>Jett&#45;&gt;Elizabeth</title>\n<path fill=\"none\" stroke=\"black\" d=\"M108.85,-173.8C108.85,-162.16 108.85,-146.55 108.85,-133.24\"/>\n<polygon fill=\"black\" stroke=\"black\" points=\"112.35,-133.18 108.85,-123.18 105.35,-133.18 112.35,-133.18\"/>\n<text text-anchor=\"middle\" x=\"131.35\" y=\"-144.8\" font-family=\"Times,serif\" font-size=\"14.00\">Married</text>\n</g>\n<!-- PJ -->\n<g id=\"node8\" class=\"node\">\n<title>PJ</title>\n<ellipse fill=\"none\" stroke=\"black\" cx=\"108.85\" cy=\"-18\" rx=\"27\" ry=\"18\"/>\n<text text-anchor=\"middle\" x=\"108.85\" y=\"-14.3\" font-family=\"Times,serif\" font-size=\"14.00\">PJ</text>\n</g>\n<!-- Elizabeth&#45;&gt;PJ -->\n<g id=\"edge7\" class=\"edge\">\n<title>Elizabeth&#45;&gt;PJ</title>\n<path fill=\"none\" stroke=\"black\" d=\"M108.85,-86.8C108.85,-75.16 108.85,-59.55 108.85,-46.24\"/>\n<polygon fill=\"black\" stroke=\"black\" points=\"112.35,-46.18 108.85,-36.18 105.35,-46.18 112.35,-46.18\"/>\n<text text-anchor=\"middle\" x=\"119.85\" y=\"-57.8\" font-family=\"Times,serif\" font-size=\"14.00\">Son</text>\n</g>\n</g>\n</svg>\n"
          },
          "metadata": {},
          "execution_count": 14
        }
      ]
    },
    {
      "cell_type": "markdown",
      "metadata": {
        "id": "2z6U1aB_fQDM"
      },
      "source": [
        "###Part c.) Describe a path in your structure.  "
      ]
    },
    {
      "cell_type": "markdown",
      "source": [
        "One of the directed paths in my structure is from $Beatrice$ to $August$. The path goes from $Beatrice$ to $Gene$, from $Gene$ to $Bert$, from $Bert$ to $August$. "
      ],
      "metadata": {
        "id": "a9N-3KcysndY"
      }
    },
    {
      "cell_type": "markdown",
      "source": [
        "###Part d.) Describe the degree of a vertex.  "
      ],
      "metadata": {
        "id": "fEo__WxFkKYm"
      }
    },
    {
      "cell_type": "markdown",
      "source": [
        "The degree of the vertex $Jett$ is $2$ since there are two edges connected to it. "
      ],
      "metadata": {
        "id": "DXIDay57kO0r"
      }
    },
    {
      "cell_type": "markdown",
      "source": [
        "###Part e.) Describe a cycle in your structure if it exists. If a cycle does not exist, explain how you know.   "
      ],
      "metadata": {
        "id": "-z98ugF9kYm4"
      }
    },
    {
      "cell_type": "markdown",
      "source": [
        "I do not have a cycle in my structure. If I had a cycle, I would have a path that started and ended at the same structure. I suppose if I got really elaborate I could create a family tree that cycled back to the founder of our family, but that would take some time! "
      ],
      "metadata": {
        "id": "dHNlrgGikkNC"
      }
    }
  ]
}