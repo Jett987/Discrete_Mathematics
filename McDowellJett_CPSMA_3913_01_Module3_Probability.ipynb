{
  "nbformat": 4,
  "nbformat_minor": 0,
  "metadata": {
    "colab": {
      "provenance": [],
      "include_colab_link": true
    },
    "kernelspec": {
      "name": "python3",
      "display_name": "Python 3"
    }
  },
  "cells": [
    {
      "cell_type": "markdown",
      "metadata": {
        "id": "view-in-github",
        "colab_type": "text"
      },
      "source": [
        "<a href=\"https://colab.research.google.com/github/Jett987/Discrete_Mathematics/blob/main/McDowellJett_CPSMA_3913_01_Module3_Probability.ipynb\" target=\"_parent\"><img src=\"https://colab.research.google.com/assets/colab-badge.svg\" alt=\"Open In Colab\"/></a>"
      ]
    },
    {
      "cell_type": "markdown",
      "source": [
        "Project Part # 3 : CPSMA 3913 Dr. Lynam's Discrete Mathematics Project Part#3\n",
        "Jett McDowell\n",
        "(all coding was referenced from Dr. Jacob's github Discrete_Math python repository.)"
      ],
      "metadata": {
        "id": "OMYkRfurpd8o"
      }
    },
    {
      "cell_type": "markdown",
      "metadata": {
        "id": "YCJaepmmfKrS"
      },
      "source": [
        "# Project Part # 3: CPSMA 3913 Dr. Lynam's Discrete Mathematics utilizing [Dr. Jacob's](https://github.com/nurfnick) Discrete Mathematics github repository\n",
        "\n",
        "## Project Module 3: Probability\n",
        "\n",
        "### Jett McDowell  206812 \n",
        "\n",
        "![Lunch.jpg photo courtesy: Microsoft Word picture stock images](https://raw.githubusercontent.com/Jett987/Discrete_Mathematics/main/Lunch%20Picture.jpg)\n",
        "\n",
        "(Picture Credit: Microsoft Word Picture Stock Images)\n",
        "\n"
      ]
    },
    {
      "cell_type": "markdown",
      "source": [
        "##The answers from section $2$ are answered throughout the document. \n",
        "\n",
        "$2a.$ Discribe your findings in words.\n",
        "$2b.$ If you were unable to code something discuss what the difficulty was and why doing it by hand was easier. \n",
        "$2c.$ Discuss how simulation might be different than your ideal sample space."
      ],
      "metadata": {
        "id": "v5rlQxPmgvIV"
      }
    },
    {
      "cell_type": "markdown",
      "metadata": {
        "id": "Xs_Pvtua1Nnt"
      },
      "source": [
        "## 1.) Creating a sample space, computing probabilities, and simulating selected items from it. "
      ]
    },
    {
      "cell_type": "markdown",
      "metadata": {
        "id": "2z6U1aB_fQDM"
      },
      "source": [
        "###Part a.) Create a sample space with three or more simple events. Assign a probability to each item. Show that the axioms of the probability hold under this assignment. "
      ]
    },
    {
      "cell_type": "markdown",
      "source": [
        "For my sample space I am going to use lunch on the weekend. The probability of my wife cooking lunch $W$ is $\\frac{1}{2}$, me cooking lunch $M$ is $\\frac{1}{4}$, and us eating out $T$ is $\\frac{1}{4}$. I'll start by verifying the probabilities add up to $1$."
      ],
      "metadata": {
        "id": "a9N-3KcysndY"
      }
    },
    {
      "cell_type": "code",
      "source": [
        "l=[1/2,1/4,1/4]\n",
        "\n",
        "sum(l)"
      ],
      "metadata": {
        "colab": {
          "base_uri": "https://localhost:8080/"
        },
        "id": "OMsf8F3bV9YI",
        "outputId": "0a9d3f5b-e9d4-424e-a41b-40ea09458f8d"
      },
      "execution_count": 21,
      "outputs": [
        {
          "output_type": "execute_result",
          "data": {
            "text/plain": [
              "1.0"
            ]
          },
          "metadata": {},
          "execution_count": 21
        }
      ]
    },
    {
      "cell_type": "markdown",
      "source": [
        "###Part b.) Create a compound event that uses some of the simple events. "
      ],
      "metadata": {
        "id": "qjcqmaA3F8pR"
      }
    },
    {
      "cell_type": "markdown",
      "source": [
        "Below is an example of my compound condition. It evaluates the probability that I will make lunch or we will go out to eat. $$ P(M ∪ T)=P(M)+P(T)-P(M ∩ T)$$ Since these events are mutually exclusive, the intersection should be $0$ and the two probabilities will be added together. "
      ],
      "metadata": {
        "id": "QpqiFIV5s-_j"
      }
    },
    {
      "cell_type": "code",
      "source": [
        "ProbabilityInt = 0\n",
        "\n",
        "for i in [1,2]:\n",
        "  ProbabilityInt = ProbabilityInt + l[i]\n",
        "\n",
        "ProbabilityInt"
      ],
      "metadata": {
        "colab": {
          "base_uri": "https://localhost:8080/"
        },
        "id": "vjE7NByaWnSL",
        "outputId": "4f329d9f-c83e-4d3c-8bfd-f63cbecf58d4"
      },
      "execution_count": 22,
      "outputs": [
        {
          "output_type": "execute_result",
          "data": {
            "text/plain": [
              "0.5"
            ]
          },
          "metadata": {},
          "execution_count": 22
        }
      ]
    },
    {
      "cell_type": "markdown",
      "source": [
        "###Part c.) Computing the probability of unions and intersections of my events."
      ],
      "metadata": {
        "id": "c9HPfBt9B1fZ"
      }
    },
    {
      "cell_type": "markdown",
      "source": [
        "![Venn Diagram.jpg](https://raw.githubusercontent.com/Jett987/Discrete_Mathematics/main/Lunch%20Venn%20Diagram.JPG)"
      ],
      "metadata": {
        "id": "TeruA1ZjETQQ"
      }
    },
    {
      "cell_type": "markdown",
      "source": [
        "Since my events are mutually exclusive, the intersection should always be empty, or return $0$ in this case."
      ],
      "metadata": {
        "id": "Z60CCg29CBcT"
      }
    },
    {
      "cell_type": "markdown",
      "source": [
        "Next I'll calculate some of the $union$ probabilities$ P(M ∪ T)=P(M)+P(T)-P(M ∩ T)$ This should return the same value as in my previous example. "
      ],
      "metadata": {
        "id": "TInDujB7Fg4D"
      }
    },
    {
      "cell_type": "code",
      "source": [
        "ProbabilityUnion = 0\n",
        "\n",
        "for i in [1,2]:\n",
        "  ProbabilityUnion = ProbabilityUnion + l[i]\n",
        "\n",
        "ProbabilityUnion"
      ],
      "metadata": {
        "colab": {
          "base_uri": "https://localhost:8080/"
        },
        "id": "bgk-LQEBGKn0",
        "outputId": "223c9e00-6ff3-4fb3-9c4b-b0eac74431bf"
      },
      "execution_count": 23,
      "outputs": [
        {
          "output_type": "execute_result",
          "data": {
            "text/plain": [
              "0.5"
            ]
          },
          "metadata": {},
          "execution_count": 23
        }
      ]
    },
    {
      "cell_type": "markdown",
      "source": [
        "The probability of my wife making lunch, or myself. "
      ],
      "metadata": {
        "id": "Izsxo9oZh-Vm"
      }
    },
    {
      "cell_type": "markdown",
      "source": [
        "$ P(W ∪ M)=P(W)+P(M)-P(W ∩ M)$"
      ],
      "metadata": {
        "id": "mHsq-I6RGdak"
      }
    },
    {
      "cell_type": "code",
      "source": [
        "ProbabilityUnion2 = 0\n",
        "\n",
        "for i in [0,1]:\n",
        "  ProbabilityUnion2 = ProbabilityUnion2 + l[i]\n",
        "\n",
        "ProbabilityUnion2"
      ],
      "metadata": {
        "colab": {
          "base_uri": "https://localhost:8080/"
        },
        "id": "aSv5mawYGRwz",
        "outputId": "f13ffaac-d640-48b2-99cc-bbf87ef9c29f"
      },
      "execution_count": 24,
      "outputs": [
        {
          "output_type": "execute_result",
          "data": {
            "text/plain": [
              "0.75"
            ]
          },
          "metadata": {},
          "execution_count": 24
        }
      ]
    },
    {
      "cell_type": "markdown",
      "source": [
        "The probability of my wife cooking, or us eating out. "
      ],
      "metadata": {
        "id": "5GZLI7JUiEv3"
      }
    },
    {
      "cell_type": "markdown",
      "source": [
        "$ P(W ∪ T)=P(W)+P(T)-P(W ∩ T)$"
      ],
      "metadata": {
        "id": "-4nMgCbIGpO2"
      }
    },
    {
      "cell_type": "code",
      "source": [
        "ProbabilityUnion3 = 0\n",
        "\n",
        "for i in [0,2]:\n",
        "  ProbabilityUnion3 = ProbabilityUnion3 + l[i]\n",
        "\n",
        "ProbabilityUnion3"
      ],
      "metadata": {
        "colab": {
          "base_uri": "https://localhost:8080/"
        },
        "id": "6k1kw-2LGmvz",
        "outputId": "6773bd28-7073-45c9-f38f-f8214890aac5"
      },
      "execution_count": 25,
      "outputs": [
        {
          "output_type": "execute_result",
          "data": {
            "text/plain": [
              "0.75"
            ]
          },
          "metadata": {},
          "execution_count": 25
        }
      ]
    },
    {
      "cell_type": "markdown",
      "source": [
        "###Part d.) Computing Conditional Probabilities and applying Bayes' Theorem."
      ],
      "metadata": {
        "id": "mYG9ye7qSIOi"
      }
    },
    {
      "cell_type": "markdown",
      "source": [
        "Next, I'm going to create a conditional probability. Im going to use $L$ as the probability that we eat lunch. Its probability would be equal to $1$ since we never skip lunch! Instead of thinking about a venn diagram, I illustrated it using the tree approach. The first example is the probability of my wife making lunch given we eat lunch. "
      ],
      "metadata": {
        "id": "BEAWA6P-PHu_"
      }
    },
    {
      "cell_type": "markdown",
      "source": [
        "$$\n",
        "P(W|L)=\\frac{P(W\\cap L)}{P(L)}\n",
        "$$"
      ],
      "metadata": {
        "id": "PTsKx-HqOqu_"
      }
    },
    {
      "cell_type": "markdown",
      "source": [
        "![Conditional.jpg](https://raw.githubusercontent.com/Jett987/Discrete_Mathematics/main/Conditional%20Probability.JPG)"
      ],
      "metadata": {
        "id": "YxG7dsOwRzI8"
      }
    },
    {
      "cell_type": "code",
      "source": [
        "L=1"
      ],
      "metadata": {
        "id": "Yk_TX81TSaqV"
      },
      "execution_count": 26,
      "outputs": []
    },
    {
      "cell_type": "code",
      "source": [
        "WAL=l[0]*L/L\n",
        "\n",
        "WAL"
      ],
      "metadata": {
        "colab": {
          "base_uri": "https://localhost:8080/"
        },
        "id": "u_MINKQaO47b",
        "outputId": "cbbc03b7-0789-4086-d16a-ef9043f2f444"
      },
      "execution_count": 27,
      "outputs": [
        {
          "output_type": "execute_result",
          "data": {
            "text/plain": [
              "0.5"
            ]
          },
          "metadata": {},
          "execution_count": 27
        }
      ]
    },
    {
      "cell_type": "markdown",
      "source": [
        "The next example is the probability of me making lunch given we eat lunch. Again, we always eat lunch!"
      ],
      "metadata": {
        "id": "u5Odj7U8iwTl"
      }
    },
    {
      "cell_type": "markdown",
      "source": [
        "$$\n",
        "P(M|L)=\\frac{P(M\\cap L)}{P(L)}\n",
        "$$"
      ],
      "metadata": {
        "id": "rIZtZ31DSm-l"
      }
    },
    {
      "cell_type": "markdown",
      "source": [
        "![Conditional.jpg](https://raw.githubusercontent.com/Jett987/Discrete_Mathematics/main/MeProb.JPG)"
      ],
      "metadata": {
        "id": "euJxisQqTKIx"
      }
    },
    {
      "cell_type": "code",
      "source": [
        "MAL=l[1]*L/L\n",
        "\n",
        "MAL"
      ],
      "metadata": {
        "colab": {
          "base_uri": "https://localhost:8080/"
        },
        "id": "SgoeL6m5Srd7",
        "outputId": "c26dd080-eb37-4f2c-8ab7-ae1f1cbae4e7"
      },
      "execution_count": 28,
      "outputs": [
        {
          "output_type": "execute_result",
          "data": {
            "text/plain": [
              "0.25"
            ]
          },
          "metadata": {},
          "execution_count": 28
        }
      ]
    },
    {
      "cell_type": "markdown",
      "source": [
        "###Part d.)Using Bayes' Theorem to verify results.  "
      ],
      "metadata": {
        "id": "zJ2HFCVbuk3n"
      }
    },
    {
      "cell_type": "markdown",
      "source": [
        "$P(M|L) = \\frac{P(M)P(L|M)}{P(L)}$"
      ],
      "metadata": {
        "id": "XoBo32w1Vyvj"
      }
    },
    {
      "cell_type": "code",
      "source": [
        "MAL==(l[1]*L)/L"
      ],
      "metadata": {
        "colab": {
          "base_uri": "https://localhost:8080/"
        },
        "id": "zc3qsPlPu0gh",
        "outputId": "59a5e2bc-da61-421a-c62c-3bd394dc73c6"
      },
      "execution_count": 29,
      "outputs": [
        {
          "output_type": "execute_result",
          "data": {
            "text/plain": [
              "True"
            ]
          },
          "metadata": {},
          "execution_count": 29
        }
      ]
    },
    {
      "cell_type": "markdown",
      "source": [
        "$P(W|L) = \\frac{P(W)P(L|W)}{P(L)}$"
      ],
      "metadata": {
        "id": "bYqxdTL1ZTyG"
      }
    },
    {
      "cell_type": "code",
      "source": [
        "WAL == l[0]*L/L"
      ],
      "metadata": {
        "colab": {
          "base_uri": "https://localhost:8080/"
        },
        "id": "G8I1ql4PZQ8-",
        "outputId": "7615a976-0f9e-48cf-f7dd-eceea369fabc"
      },
      "execution_count": 30,
      "outputs": [
        {
          "output_type": "execute_result",
          "data": {
            "text/plain": [
              "True"
            ]
          },
          "metadata": {},
          "execution_count": 30
        }
      ]
    },
    {
      "cell_type": "markdown",
      "source": [
        "###Part e.) compute the probability of the complement of an event.\n",
        "\n",
        "Using my tree diagram from above, I will illustrate the probability of the complement of me cooking lunch. "
      ],
      "metadata": {
        "id": "KSPaRhBRZk4q"
      }
    },
    {
      "cell_type": "code",
      "source": [
        "ComplementMe=.75"
      ],
      "metadata": {
        "id": "StwfUq3IZuBO"
      },
      "execution_count": 31,
      "outputs": []
    },
    {
      "cell_type": "markdown",
      "source": [
        "$$\n",
        "P(M^c|L)=\\frac{P(M^c\\cap L)}{P(L)}\n",
        "$$"
      ],
      "metadata": {
        "id": "isjoA_qxbyEP"
      }
    },
    {
      "cell_type": "code",
      "source": [
        "NMAL= (ComplementMe*L)/L\n",
        "NMAL"
      ],
      "metadata": {
        "colab": {
          "base_uri": "https://localhost:8080/"
        },
        "id": "1E5bh2GZaM0z",
        "outputId": "09a34c8d-0728-46d3-a1d3-9a4d4cc9d195"
      },
      "execution_count": 32,
      "outputs": [
        {
          "output_type": "execute_result",
          "data": {
            "text/plain": [
              "0.75"
            ]
          },
          "metadata": {},
          "execution_count": 32
        }
      ]
    },
    {
      "cell_type": "markdown",
      "source": [
        "###Part f.) Simulating a simple occurence of my sample space 10 times. "
      ],
      "metadata": {
        "id": "-0TuF6iwcOFS"
      }
    },
    {
      "cell_type": "markdown",
      "source": [
        "Below are examples evaluating random selection given the newly defined probability. $l2$ was created by multiplying each event in $l$ by 4. The random import choices picks from the created list at random and displays the results. Let's see if I can increase my chances of not making lunch on the weekends! "
      ],
      "metadata": {
        "id": "tqmbxfvgcsRL"
      }
    },
    {
      "cell_type": "code",
      "source": [
        "l2 = [4*i for i in l]"
      ],
      "metadata": {
        "id": "_tjOEXo_6mJB"
      },
      "execution_count": 33,
      "outputs": []
    },
    {
      "cell_type": "code",
      "source": [
        "l2"
      ],
      "metadata": {
        "colab": {
          "base_uri": "https://localhost:8080/"
        },
        "id": "X-3UiGoK6w-A",
        "outputId": "7011a03e-c79f-42eb-d20a-b685b66c1f36"
      },
      "execution_count": 34,
      "outputs": [
        {
          "output_type": "execute_result",
          "data": {
            "text/plain": [
              "[2.0, 1.0, 1.0]"
            ]
          },
          "metadata": {},
          "execution_count": 34
        }
      ]
    },
    {
      "cell_type": "code",
      "source": [
        "from random import choices\n",
        "\n",
        "\n",
        "choices(['wife','me','eatingout'],l2,k=10)"
      ],
      "metadata": {
        "colab": {
          "base_uri": "https://localhost:8080/"
        },
        "id": "uFI64cWo60kQ",
        "outputId": "0b6423ba-906a-4de6-883d-918bf12831d0"
      },
      "execution_count": 35,
      "outputs": [
        {
          "output_type": "execute_result",
          "data": {
            "text/plain": [
              "['me', 'eatingout', 'wife', 'wife', 'me', 'wife', 'wife', 'me', 'me', 'me']"
            ]
          },
          "metadata": {},
          "execution_count": 35
        }
      ]
    },
    {
      "cell_type": "code",
      "source": [
        "choices(['wife','me','eatingout'],l,k=10)"
      ],
      "metadata": {
        "colab": {
          "base_uri": "https://localhost:8080/"
        },
        "id": "Pye4yxjk7EzF",
        "outputId": "60fe43a4-6bcd-489e-fc81-313dbe67e3c6"
      },
      "execution_count": 36,
      "outputs": [
        {
          "output_type": "execute_result",
          "data": {
            "text/plain": [
              "['eatingout',\n",
              " 'eatingout',\n",
              " 'eatingout',\n",
              " 'wife',\n",
              " 'wife',\n",
              " 'wife',\n",
              " 'me',\n",
              " 'me',\n",
              " 'wife',\n",
              " 'wife']"
            ]
          },
          "metadata": {},
          "execution_count": 36
        }
      ]
    },
    {
      "cell_type": "markdown",
      "source": [
        "Fortunately my wife likes making lunch, and according to my random selections, she will have to make lunch most of the time... The lines of code below simulate a simple occurence of my sample space 10 times with my chosen event to evaluate. My chosen event is my wife making lunch. "
      ],
      "metadata": {
        "id": "UJvxRBcTm_mo"
      }
    },
    {
      "cell_type": "code",
      "source": [
        "occurrence =  choices(['wife','me','eatingout'],l2,k=10)\n",
        "print(occurrence)\n",
        "\n",
        "countWife = 0;\n",
        "countMe = 0;\n",
        "countEatingout = 0;\n",
        "\n",
        "for i in occurrence:\n",
        "  if i =='wife':\n",
        "    countWife += 1\n",
        "  elif i == 'Me':\n",
        "    countMe += 1\n",
        "  elif i == 'Eatingout':\n",
        "    countEatingout += 1\n",
        "\n",
        "probabilities = ([countWife/len(occurrence),countMe/len(occurrence),countEatingout/len(occurrence)])\n",
        "print(probabilities)"
      ],
      "metadata": {
        "colab": {
          "base_uri": "https://localhost:8080/"
        },
        "id": "5vGyrBal8b1Q",
        "outputId": "072f7e8f-2c44-4ba3-f19d-ce94ab17387e"
      },
      "execution_count": 37,
      "outputs": [
        {
          "output_type": "stream",
          "name": "stdout",
          "text": [
            "['eatingout', 'wife', 'wife', 'wife', 'eatingout', 'eatingout', 'me', 'me', 'wife', 'wife']\n",
            "[0.5, 0.0, 0.0]\n"
          ]
        }
      ]
    },
    {
      "cell_type": "markdown",
      "source": [
        "The above example illustrates that the event of my wife making lunch, and matches the previous probability. If you continuously run it, the value will change slightly, but if you greatly increase the amount of times it can be ran, it remains steadily close to the original probability. My ideal sample space would return a consistent probabilty outcome. Choosing at random appears to create a less definitive outcome when the selections are made within a small occurrence, but a far more accurate outcome when the occurrence selection is greatly increased. "
      ],
      "metadata": {
        "id": "74GCysMydCcR"
      }
    }
  ]
}