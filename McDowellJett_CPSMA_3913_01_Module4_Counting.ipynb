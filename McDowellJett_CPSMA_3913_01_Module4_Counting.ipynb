{
  "nbformat": 4,
  "nbformat_minor": 0,
  "metadata": {
    "colab": {
      "provenance": [],
      "include_colab_link": true
    },
    "kernelspec": {
      "name": "python3",
      "display_name": "Python 3"
    }
  },
  "cells": [
    {
      "cell_type": "markdown",
      "metadata": {
        "id": "view-in-github",
        "colab_type": "text"
      },
      "source": [
        "<a href=\"https://colab.research.google.com/github/Jett987/Discrete_Mathematics/blob/main/McDowellJett_CPSMA_3913_01_Module4_Counting.ipynb\" target=\"_parent\"><img src=\"https://colab.research.google.com/assets/colab-badge.svg\" alt=\"Open In Colab\"/></a>"
      ]
    },
    {
      "cell_type": "markdown",
      "source": [
        "Project Part # 4 : CPSMA 3913 Dr. Lynam's Discrete Mathematics Project Part#4\n",
        "Jett McDowell\n",
        "(all coding was referenced from Dr. Jacob's github Discrete_Math python repository.)"
      ],
      "metadata": {
        "id": "OMYkRfurpd8o"
      }
    },
    {
      "cell_type": "markdown",
      "metadata": {
        "id": "YCJaepmmfKrS"
      },
      "source": [
        "# Project Part # 4: CPSMA 3913 Dr. Lynam's Discrete Mathematics utilizing [Dr. Jacob's](https://github.com/nurfnick) Discrete Mathematics github repository\n",
        "\n",
        "## Project Module 4: Counting\n",
        "\n",
        "### Jett McDowell  206812 \n",
        "\n",
        "![Lunch.jpg photo courtesy: Microsoft Word picture stock images](https://raw.githubusercontent.com/Jett987/Discrete_Mathematics/main/Lunch%20Picture2.jpg)\n",
        "\n",
        "(Picture Credit: Microsoft Word Picture Stock Images)\n",
        "\n"
      ]
    },
    {
      "cell_type": "markdown",
      "source": [
        "##The answers from section $2$ are answered throughout the document. \n",
        "\n",
        "$2a.$ Describe your findings in words.\n",
        "$2b.$ If you were unable to code something discuss what the difficulty was and why doing it by hand was easier. "
      ],
      "metadata": {
        "id": "v5rlQxPmgvIV"
      }
    },
    {
      "cell_type": "markdown",
      "metadata": {
        "id": "Xs_Pvtua1Nnt"
      },
      "source": [
        "## 1.) Consider a simulation of 10 events with 20 possible outcomes. "
      ]
    },
    {
      "cell_type": "markdown",
      "source": [
        "For my simulation I'll just continue thinking of the lunch scenario I created in the previous module, but this time I need to imagine more events. "
      ],
      "metadata": {
        "id": "db0mEaIOvTYA"
      }
    },
    {
      "cell_type": "markdown",
      "source": [
        "I'll begin with a few of the required packages for my project. "
      ],
      "metadata": {
        "id": "QRNf3OTBwcA1"
      }
    },
    {
      "cell_type": "code",
      "source": [
        "import math\n",
        "from sympy import *\n",
        "x = symbols('x')"
      ],
      "metadata": {
        "id": "VUWlQaOWwZy7"
      },
      "execution_count": 30,
      "outputs": []
    },
    {
      "cell_type": "markdown",
      "metadata": {
        "id": "2z6U1aB_fQDM"
      },
      "source": [
        "###Part a.) How many outcomes were possible in your simulation if it is considered a sequence in that particular order? "
      ]
    },
    {
      "cell_type": "markdown",
      "source": [
        "If I draw 10 individual lines, and put 20 outcomes in each, I would end up with $20^{10}$ possible outcomes. "
      ],
      "metadata": {
        "id": "a9N-3KcysndY"
      }
    },
    {
      "cell_type": "code",
      "source": [
        "20**10"
      ],
      "metadata": {
        "colab": {
          "base_uri": "https://localhost:8080/"
        },
        "id": "OMsf8F3bV9YI",
        "outputId": "b39feec0-2f59-4552-be47-70eca944f3e3"
      },
      "execution_count": 31,
      "outputs": [
        {
          "output_type": "execute_result",
          "data": {
            "text/plain": [
              "10240000000000"
            ]
          },
          "metadata": {},
          "execution_count": 31
        }
      ]
    },
    {
      "cell_type": "markdown",
      "source": [
        "That is quite a lot of outcomes! "
      ],
      "metadata": {
        "id": "noaWjmsTEX6L"
      }
    },
    {
      "cell_type": "markdown",
      "source": [
        "###Part b.) How many outcomes were possible in your simulation if order did not matter? "
      ],
      "metadata": {
        "id": "qjcqmaA3F8pR"
      }
    },
    {
      "cell_type": "markdown",
      "source": [
        "The question here is slightly confusing to me. Initially, I thought of using the equation listed below. "
      ],
      "metadata": {
        "id": "WwgXEMauUKOl"
      }
    },
    {
      "cell_type": "markdown",
      "source": [
        "Since order doesn't matter, $nCk$, or $\\frac{n!}{(n-k)!k!}$, seems like the appropriate way to calculate this answer.\n"
      ],
      "metadata": {
        "id": "1v4lsekFEmdD"
      }
    },
    {
      "cell_type": "code",
      "source": [
        "math.factorial(20)/(math.factorial(10)*math.factorial(10))"
      ],
      "metadata": {
        "colab": {
          "base_uri": "https://localhost:8080/"
        },
        "id": "pb0UrW_PFpdq",
        "outputId": "eaecc478-5d80-43c7-a860-fc489e3f8e99"
      },
      "execution_count": 32,
      "outputs": [
        {
          "output_type": "execute_result",
          "data": {
            "text/plain": [
              "184756.0"
            ]
          },
          "metadata": {},
          "execution_count": 32
        }
      ]
    },
    {
      "cell_type": "markdown",
      "source": [
        "After further review, I believe the question is trying to make use of $\\binom{n+k-1}{n}$ which yields the following result. "
      ],
      "metadata": {
        "id": "vfOB6YF4UUGz"
      }
    },
    {
      "cell_type": "code",
      "source": [
        "math.factorial(29)/(math.factorial(20)*math.factorial(9))"
      ],
      "metadata": {
        "colab": {
          "base_uri": "https://localhost:8080/"
        },
        "id": "11n1OW9IUuyF",
        "outputId": "1ee13782-0a2f-41e8-e7b1-a422d626fbbf"
      },
      "execution_count": 33,
      "outputs": [
        {
          "output_type": "execute_result",
          "data": {
            "text/plain": [
              "10015005.0"
            ]
          },
          "metadata": {},
          "execution_count": 33
        }
      ]
    },
    {
      "cell_type": "markdown",
      "source": [
        "###Part c.) How many outcomes were possible if you were not allowed to select an item multiple times? Give two answers, with order mattering and not. "
      ],
      "metadata": {
        "id": "c9HPfBt9B1fZ"
      }
    },
    {
      "cell_type": "markdown",
      "source": [
        "If I am not allowed to select an item multiple times, and order matters, I will use $nPr$ or $\\frac{n!}{(n-k)!}$ to calculate the answer as demonstrated below.\n",
        "\n",
        "I have 20 choices, I want to pick 10 of them, so I end up with $\\frac{20!}{(20-10)!}$. "
      ],
      "metadata": {
        "id": "1VUMNu5UKYcE"
      }
    },
    {
      "cell_type": "code",
      "source": [
        "math.factorial(20)/(math.factorial(10))"
      ],
      "metadata": {
        "colab": {
          "base_uri": "https://localhost:8080/"
        },
        "id": "r5lEvIw9Le5N",
        "outputId": "a3a6dfe0-82ac-40ca-ed51-b5049c88bae3"
      },
      "execution_count": 34,
      "outputs": [
        {
          "output_type": "execute_result",
          "data": {
            "text/plain": [
              "670442572800.0"
            ]
          },
          "metadata": {},
          "execution_count": 34
        }
      ]
    },
    {
      "cell_type": "markdown",
      "source": [
        "If order doesn't matter I am going to use $nCk$ to calculate this answer, or $\\frac{n!}{(n-k)!k!}$ which gives me $\\frac{20!}{(20-10)!10!}$.\n"
      ],
      "metadata": {
        "id": "ZrNfOyr7Lsdh"
      }
    },
    {
      "cell_type": "code",
      "source": [
        "math.factorial(20)/(math.factorial(10)*math.factorial(10))"
      ],
      "metadata": {
        "colab": {
          "base_uri": "https://localhost:8080/"
        },
        "id": "oNO_-Fl0Lzvl",
        "outputId": "fffeba58-2ae6-4c5b-bec0-b40778c45bbb"
      },
      "execution_count": 35,
      "outputs": [
        {
          "output_type": "execute_result",
          "data": {
            "text/plain": [
              "184756.0"
            ]
          },
          "metadata": {},
          "execution_count": 35
        }
      ]
    },
    {
      "cell_type": "markdown",
      "source": [
        "###Part d.) What is the coefficient of the 5th order of $(x-3)^9$"
      ],
      "metadata": {
        "id": "mYG9ye7qSIOi"
      }
    },
    {
      "cell_type": "markdown",
      "source": [
        "If I use the binomial coefficient given in the lecture video, I can apply the following formula to obtain a solution. \n",
        "\n",
        "$\\binom{n}{i}*x^i*y^{n-i}$\n",
        "\n",
        "Which would then give me:\n",
        "\n",
        "$9C5 * x^5 * (-3) ^{(9-5)}$\n",
        "\n"
      ],
      "metadata": {
        "id": "_fUptxF5QnX4"
      }
    },
    {
      "cell_type": "code",
      "source": [
        "ninechoosefive = math.factorial(9)/(math.factorial(4)*math.factorial(5))\n",
        "\n",
        "y=(-3)**4\n",
        "\n",
        "x=x**5\n",
        "\n",
        "ninechoosefive"
      ],
      "metadata": {
        "colab": {
          "base_uri": "https://localhost:8080/"
        },
        "id": "cr-qIp1ySCv_",
        "outputId": "3d86cc31-0ccb-4875-d097-ce9b954a0532"
      },
      "execution_count": 36,
      "outputs": [
        {
          "output_type": "execute_result",
          "data": {
            "text/plain": [
              "126.0"
            ]
          },
          "metadata": {},
          "execution_count": 36
        }
      ]
    },
    {
      "cell_type": "markdown",
      "source": [
        "If I multiply them all together, I get $x^5*10206$. "
      ],
      "metadata": {
        "id": "0eNvrnHPTBS1"
      }
    },
    {
      "cell_type": "code",
      "source": [
        "ninechoosefive*x*y"
      ],
      "metadata": {
        "colab": {
          "base_uri": "https://localhost:8080/",
          "height": 38
        },
        "id": "uJiVloaoSG8I",
        "outputId": "510df4e3-3d16-4455-eca0-da1a953562c9"
      },
      "execution_count": 37,
      "outputs": [
        {
          "output_type": "execute_result",
          "data": {
            "text/plain": [
              "10206.0*x**5"
            ],
            "text/latex": "$\\displaystyle 10206.0 x^{5}$"
          },
          "metadata": {},
          "execution_count": 37
        }
      ]
    },
    {
      "cell_type": "markdown",
      "source": [
        "This is different than what I thought it would be. I thought I would use $\\binom{n}{i}*x^{n-i}*y^{i}$ which would have given me $9C5*x^4*(-3)^5$"
      ],
      "metadata": {
        "id": "CLl9mXKL-hCz"
      }
    },
    {
      "cell_type": "code",
      "source": [
        "ninechoosefive2 = math.factorial(9)/(math.factorial(4)*math.factorial(5))\n",
        "\n",
        "y2=(-3)**5\n",
        "\n",
        "x2=x**4\n",
        "\n",
        "ninechoosefive2"
      ],
      "metadata": {
        "colab": {
          "base_uri": "https://localhost:8080/"
        },
        "id": "ISWm-Vm__bcn",
        "outputId": "a399e8e9-5ffb-47c1-ca04-63a06d2178eb"
      },
      "execution_count": 38,
      "outputs": [
        {
          "output_type": "execute_result",
          "data": {
            "text/plain": [
              "126.0"
            ]
          },
          "metadata": {},
          "execution_count": 38
        }
      ]
    },
    {
      "cell_type": "code",
      "source": [
        "product = ninechoosefive2*(y2)\n",
        "\n",
        "product"
      ],
      "metadata": {
        "colab": {
          "base_uri": "https://localhost:8080/"
        },
        "id": "IQjTAbyf_wG_",
        "outputId": "e92bc91b-d3a7-4aff-e863-a8e03f2fc5f4"
      },
      "execution_count": 39,
      "outputs": [
        {
          "output_type": "execute_result",
          "data": {
            "text/plain": [
              "-30618.0"
            ]
          },
          "metadata": {},
          "execution_count": 39
        }
      ]
    },
    {
      "cell_type": "markdown",
      "source": [
        "The result would have been $x^4 * -30618$."
      ],
      "metadata": {
        "id": "B0MsDxEhAgja"
      }
    },
    {
      "cell_type": "markdown",
      "source": [
        "![Lunch2.jpg photo courtesy: Microsoft Word picture stock images](https://raw.githubusercontent.com/Jett987/Discrete_Mathematics/main/Lunch3.jpg)\n",
        "\n",
        "(Picture Credit: Microsoft Word Picture Stock Images)"
      ],
      "metadata": {
        "id": "OOVlZURc4AE0"
      }
    },
    {
      "cell_type": "markdown",
      "source": [
        "##$2c.$ Why are all these outcomes different?"
      ],
      "metadata": {
        "id": "gyl6HFq3zO84"
      }
    },
    {
      "cell_type": "markdown",
      "source": [
        "The outcomes were all different, because each answer is reliant on a specific set of rules. If order matters, you must use permutation, if order doesn't matter, you should use combination, and if you are trying to evaluate the amount of possible outcomes you use the amount of outcomes possible and how many events they can be applied towards. "
      ],
      "metadata": {
        "id": "qqpDfKRcTapT"
      }
    },
    {
      "cell_type": "code",
      "source": [],
      "metadata": {
        "id": "bk5em75VCi2G"
      },
      "execution_count": null,
      "outputs": []
    }
  ]
}